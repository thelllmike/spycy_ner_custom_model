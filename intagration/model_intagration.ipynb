{
 "cells": [
  {
   "cell_type": "markdown",
   "id": "97cc62cf-c789-4a47-8c78-b81948639580",
   "metadata": {},
   "source": [
    "## Extract text from pasindu.pdf and save as xx.txt ────────────"
   ]
  },
  {
   "cell_type": "code",
   "execution_count": null,
   "id": "a4ebcc12-0671-4b6a-af78-62b12a795e10",
   "metadata": {},
   "outputs": [],
   "source": [
    "import pdfplumber\n",
    "import os\n",
    "\n",
    "pdf_filename = 'pasindu.pdf'\n",
    "txt_filename = os.path.splitext(pdf_filename)[0] + '.txt'\n",
    "\n",
    "with pdfplumber.open(pdf_filename) as pdf, open(txt_filename, 'w', encoding='utf-8') as out_f:\n",
    "    for i, page in enumerate(pdf.pages, start=1):\n",
    "        text = page.extract_text() or ''\n",
    "        out_f.write(f\"--- Page {i} ---\\n\")\n",
    "        out_f.write(text + \"\\n\\n\")\n",
    "\n",
    "print(f\"✅ Extracted text saved to: {txt_filename}\")\n"
   ]
  },
  {
   "cell_type": "code",
   "execution_count": 1,
   "id": "068ccf17-9616-4caf-bf86-8b05f81e7f2f",
   "metadata": {},
   "outputs": [
    {
     "name": "stdout",
     "output_type": "stream",
     "text": [
      "✅ Model loaded\n"
     ]
    }
   ],
   "source": [
    "import spacy\n",
    "\n",
    "# Load your trained model from disk\n",
    "nlp = spacy.load(\"cvoutput/model-best\")  # adjust path as needed\n",
    "print(\"✅ Model loaded\")\n"
   ]
  },
  {
   "cell_type": "markdown",
   "id": "6b3d471c-1566-49bd-9d51-7177ac9a702f",
   "metadata": {},
   "source": [
    "## Exract skill"
   ]
  },
  {
   "cell_type": "code",
   "execution_count": 2,
   "id": "de49c6a9-ecbf-481e-b17f-c69252a68425",
   "metadata": {},
   "outputs": [
    {
     "name": "stdout",
     "output_type": "stream",
     "text": [
      "🎯 Detected Skills:\n",
      "- Codeignitor\n",
      "- JavaScript\n",
      "- MySQL\n",
      "- cPanel\n",
      "- MERN\n",
      "- Laravel\n",
      "- Vue JS\n",
      "- MySQL\n",
      "- Git\n",
      "- Github\n",
      "- Data Structures\n",
      "- Agile\n",
      "- UI/ UX\n",
      "- Natura - Online\n",
      "- React\n",
      "- MySQL\n",
      "- React Native\n",
      "- MS\n",
      "- SQL Fast Learning\n",
      "- Vue\n",
      "- Mongo DB\n",
      "- JS JAVA\n",
      "- VS Code\n",
      "- Postman\n",
      "- Android Development\n",
      "- Git & Github\n",
      "- Adobe Photoshop\n",
      "\n",
      "✅ Total unique skills: 25\n"
     ]
    }
   ],
   "source": [
    "# Load text\n",
    "with open(\"pasindu.txt\", \"r\", encoding=\"utf-8\") as f:\n",
    "    raw_text = f.read()\n",
    "\n",
    "# Process with the model\n",
    "doc = nlp(raw_text)\n",
    "\n",
    "# Extract all entities\n",
    "skills = [ent.text for ent in doc.ents if ent.label_ == \"SKILL\"]\n",
    "\n",
    "print(\"🎯 Detected Skills:\")\n",
    "for skill in skills:\n",
    "    print(\"-\", skill)\n",
    "\n",
    "# Optional: remove duplicates\n",
    "unique_skills = list(set(skills))\n",
    "print(f\"\\n✅ Total unique skills: {len(unique_skills)}\")\n"
   ]
  },
  {
   "cell_type": "markdown",
   "id": "7136842a-1da1-4626-b86d-05aa2e2ad0be",
   "metadata": {},
   "source": [
    "# qustion asking and scoring"
   ]
  },
  {
   "cell_type": "code",
   "execution_count": 3,
   "id": "e8719735-97da-4f0b-9fcf-419d3fd072fb",
   "metadata": {},
   "outputs": [
    {
     "name": "stdout",
     "output_type": "stream",
     "text": [
      "\n",
      "1. (React) Which category best describes React?\n",
      "   A) Front‑end framework\n",
      "   B) Back‑end framework\n",
      "   C) Security standard\n",
      "   D) Styling language\n"
     ]
    },
    {
     "name": "stdin",
     "output_type": "stream",
     "text": [
      "Your answer (A‑D):  A\n"
     ]
    },
    {
     "name": "stdout",
     "output_type": "stream",
     "text": [
      "\n",
      "2. (React) Who primarily maintains React?\n",
      "   A) Various\n",
      "   B) Corporate\n",
      "   C) Foundation\n",
      "   D) Independent\n"
     ]
    },
    {
     "name": "stdin",
     "output_type": "stream",
     "text": [
      "Your answer (A‑D):  B\n"
     ]
    },
    {
     "name": "stdout",
     "output_type": "stream",
     "text": [
      "\n",
      "3. (React) In which year was React first released?\n",
      "   A) 1997\n",
      "   B) 1999\n",
      "   C) 1998\n",
      "   D) 2000\n"
     ]
    },
    {
     "name": "stdin",
     "output_type": "stream",
     "text": [
      "Your answer (A‑D):  A\n"
     ]
    },
    {
     "name": "stdout",
     "output_type": "stream",
     "text": [
      "\n",
      "4. (React) What is a common file extension associated with React?\n",
      "   A) .json\n",
      "   B) nan\n",
      "   C) .js\n",
      "   D) .yaml\n"
     ]
    },
    {
     "name": "stdin",
     "output_type": "stream",
     "text": [
      "Your answer (A‑D):  A\n"
     ]
    },
    {
     "name": "stdout",
     "output_type": "stream",
     "text": [
      "\n",
      "5. (React) What is a primary use case of React?\n",
      "   A) Working with front‑end framework\n",
      "   B) Working with security standard\n",
      "   C) Working with mobile framework\n",
      "   D) Working with testing framework\n"
     ]
    },
    {
     "name": "stdin",
     "output_type": "stream",
     "text": [
      "Your answer (A‑D):  A\n"
     ]
    },
    {
     "name": "stdout",
     "output_type": "stream",
     "text": [
      "\n",
      "6. (React) Which command is commonly used to install or initialize React?\n",
      "   A) apt-get install pkg\n",
      "   B) nan\n",
      "   C) brew install pkg\n",
      "   D) npm install react\n"
     ]
    },
    {
     "name": "stdin",
     "output_type": "stream",
     "text": [
      "Your answer (A‑D):  A\n"
     ]
    },
    {
     "name": "stdout",
     "output_type": "stream",
     "text": [
      "\n",
      "7. (React) What is the primary programming language associated with React?\n",
      "   A) Swift\n",
      "   B) JavaScript\n",
      "   C) Python\n",
      "   D) nan\n"
     ]
    },
    {
     "name": "stdin",
     "output_type": "stream",
     "text": [
      "Your answer (A‑D):  A\n"
     ]
    },
    {
     "name": "stdout",
     "output_type": "stream",
     "text": [
      "\n",
      "8. (React) Which of these is a key feature of React?\n",
      "   A) Component‑based UI\n",
      "   B) Event loop\n",
      "   C) Routing\n",
      "   D) Schema‑based queries\n"
     ]
    },
    {
     "name": "stdin",
     "output_type": "stream",
     "text": [
      "Your answer (A‑D):  A\n"
     ]
    },
    {
     "name": "stdout",
     "output_type": "stream",
     "text": [
      "\n",
      "9. (React) Which of the following could be considered a competitor or alternative to React?\n",
      "   A) GCP\n",
      "   B) SQLite\n",
      "   C) Vue\n",
      "   D) Bash\n"
     ]
    },
    {
     "name": "stdin",
     "output_type": "stream",
     "text": [
      "Your answer (A‑D):  A\n"
     ]
    },
    {
     "name": "stdout",
     "output_type": "stream",
     "text": [
      "\n",
      "10. (React) Under which license is React primarily distributed?\n",
      "   A) MIT\n",
      "   B) Public Domain\n",
      "   C) MPL‑2.0\n",
      "   D) Proprietary\n"
     ]
    },
    {
     "name": "stdin",
     "output_type": "stream",
     "text": [
      "Your answer (A‑D):  A\n"
     ]
    },
    {
     "name": "stdout",
     "output_type": "stream",
     "text": [
      "\n",
      "11. (Java) Which category best describes Java?\n",
      "   A) Testing framework\n",
      "   B) Front‑end framework\n",
      "   C) Technology\n",
      "   D) Markup language\n"
     ]
    },
    {
     "name": "stdin",
     "output_type": "stream",
     "text": [
      "Your answer (A‑D):  A\n"
     ]
    },
    {
     "name": "stdout",
     "output_type": "stream",
     "text": [
      "\n",
      "12. (Java) Who primarily maintains Java?\n",
      "   A) Various\n",
      "   B) Corporate\n",
      "   C) Community\n",
      "   D) Independent\n"
     ]
    },
    {
     "name": "stdin",
     "output_type": "stream",
     "text": [
      "Your answer (A‑D):  A\n"
     ]
    },
    {
     "name": "stdout",
     "output_type": "stream",
     "text": [
      "\n",
      "13. (Java) In which year was Java first released?\n",
      "   A) 2004\n",
      "   B) 2003\n",
      "   C) 2005\n",
      "   D) 2001\n"
     ]
    },
    {
     "name": "stdin",
     "output_type": "stream",
     "text": [
      "Your answer (A‑D):  A\n"
     ]
    },
    {
     "name": "stdout",
     "output_type": "stream",
     "text": [
      "\n",
      "14. (Java) What is a common file extension associated with Java?\n",
      "   A) .java\n",
      "   B) .css\n",
      "   C) .js\n",
      "   D) .rs\n"
     ]
    },
    {
     "name": "stdin",
     "output_type": "stream",
     "text": [
      "Your answer (A‑D):  A\n"
     ]
    },
    {
     "name": "stdout",
     "output_type": "stream",
     "text": [
      "\n",
      "15. (Java) What is a primary use case of Java?\n",
      "   A) Working with technology\n",
      "   B) Working with security standard\n",
      "   C) Working with database\n",
      "   D) Working with networking protocol\n"
     ]
    },
    {
     "name": "stdin",
     "output_type": "stream",
     "text": [
      "Your answer (A‑D):  A\n"
     ]
    },
    {
     "name": "stdout",
     "output_type": "stream",
     "text": [
      "\n",
      "16. (Java) Which command is commonly used to install or initialize Java?\n",
      "   A) brew install pkg\n",
      "   B) npm install package\n",
      "   C) apt-get install pkg\n",
      "   D) nan\n"
     ]
    },
    {
     "name": "stdin",
     "output_type": "stream",
     "text": [
      "Your answer (A‑D):  A\n"
     ]
    },
    {
     "name": "stdout",
     "output_type": "stream",
     "text": [
      "\n",
      "17. (Java) What is the primary programming language associated with Java?\n",
      "   A) C#\n",
      "   B) C++\n",
      "   C) Java\n",
      "   D) Kotlin\n"
     ]
    },
    {
     "name": "stdin",
     "output_type": "stream",
     "text": [
      "Your answer (A‑D):  A\n"
     ]
    },
    {
     "name": "stdout",
     "output_type": "stream",
     "text": [
      "\n",
      "18. (Java) Which of these is a key feature of Java?\n",
      "   A) Scalable compute\n",
      "   B) Token grant types\n",
      "   C) Native bridges\n",
      "   D) Feature X\n"
     ]
    },
    {
     "name": "stdin",
     "output_type": "stream",
     "text": [
      "Your answer (A‑D):  A\n"
     ]
    },
    {
     "name": "stdout",
     "output_type": "stream",
     "text": [
      "\n",
      "19. (Java) Which of the following could be considered a competitor or alternative to Java?\n",
      "   A) Rust\n",
      "   B) AWS\n",
      "   C) Flutter\n",
      "   D) RabbitMQ\n"
     ]
    },
    {
     "name": "stdin",
     "output_type": "stream",
     "text": [
      "Your answer (A‑D):  A\n"
     ]
    },
    {
     "name": "stdout",
     "output_type": "stream",
     "text": [
      "\n",
      "20. (Java) Under which license is Java primarily distributed?\n",
      "   A) BSD\n",
      "   B) Proprietary\n",
      "   C) Public Domain\n",
      "   D) MPL‑2.0\n"
     ]
    },
    {
     "name": "stdin",
     "output_type": "stream",
     "text": [
      "Your answer (A‑D):  A\n"
     ]
    },
    {
     "name": "stdout",
     "output_type": "stream",
     "text": [
      "\n",
      "--- Your Scores ---\n",
      "React: 40%\n",
      "Java: 30%\n"
     ]
    }
   ],
   "source": [
    "import json\n",
    "from collections import defaultdict\n",
    "\n",
    "# —————————————————————————————————————————————\n",
    "# 1) Hard‑code your skills\n",
    "# —————————————————————————————————————————————\n",
    "SKILLS = [\"React\", \"Java\"]\n",
    "\n",
    "# —————————————————————————————————————————————\n",
    "# 2) Load the MCQs from JSON\n",
    "# —————————————————————————————————————————————\n",
    "with open(\"mcq.json\", \"r\", encoding=\"utf-8\") as f:\n",
    "    all_mcqs = json.load(f)\n",
    "\n",
    "# —————————————————————————————————————————————\n",
    "# 3) Keep only React/Java questions\n",
    "# —————————————————————————————————————————————\n",
    "quiz_questions = [q for q in all_mcqs if q[\"skill\"] in SKILLS]\n",
    "\n",
    "# —————————————————————————————————————————————\n",
    "# 4) Quiz runner\n",
    "# —————————————————————————————————————————————\n",
    "def run_quiz(questions):\n",
    "    \"\"\"\n",
    "    Presents each question, collects A‑D answers,\n",
    "    returns a list of (skill, is_correct) tuples.\n",
    "    \"\"\"\n",
    "    results = []\n",
    "    letter_to_idx = {\"A\": 0, \"B\": 1, \"C\": 2, \"D\": 3}\n",
    "\n",
    "    for idx, q in enumerate(questions, start=1):\n",
    "        print(f\"\\n{idx}. ({q['skill']}) {q['question']}\")\n",
    "        for letter, opt in zip(letter_to_idx, q[\"options\"]):\n",
    "            print(f\"   {letter}) {opt}\")\n",
    "\n",
    "        # get valid answer\n",
    "        while True:\n",
    "            ans = input(\"Your answer (A‑D): \").strip().upper()\n",
    "            if ans in letter_to_idx:\n",
    "                break\n",
    "            print(\"  → Please enter A, B, C or D.\")\n",
    "\n",
    "        chosen = q[\"options\"][letter_to_idx[ans]]\n",
    "        is_correct = (chosen == q[\"correct_answer\"])\n",
    "        results.append((q[\"skill\"], is_correct))\n",
    "\n",
    "    return results\n",
    "\n",
    "# —————————————————————————————————————————————\n",
    "# 5) Compute per‑skill % score\n",
    "# —————————————————————————————————————————————\n",
    "def calc_skill_report(results):\n",
    "    \"\"\"\n",
    "    results: list of (skill, bool)\n",
    "    returns: dict skill → percentage (0–100)\n",
    "    \"\"\"\n",
    "    tally = defaultdict(lambda: {\"correct\": 0, \"total\": 0})\n",
    "    for skill, ok in results:\n",
    "        tally[skill][\"total\"] += 1\n",
    "        if ok:\n",
    "            tally[skill][\"correct\"] += 1\n",
    "\n",
    "    report = {}\n",
    "    for skill in SKILLS:\n",
    "        stats = tally.get(skill, {\"correct\": 0, \"total\": 0})\n",
    "        c, t = stats[\"correct\"], stats[\"total\"]\n",
    "        pct = (c / t * 100) if t else 0\n",
    "        report[skill] = pct\n",
    "    return report\n",
    "\n",
    "# —————————————————————————————————————————————\n",
    "# 6) Glue it together\n",
    "# —————————————————————————————————————————————\n",
    "if __name__ == \"__main__\":\n",
    "    results = run_quiz(quiz_questions)\n",
    "    report  = calc_skill_report(results)\n",
    "\n",
    "    print(\"\\n--- Your Scores ---\")\n",
    "    for skill, pct in report.items():\n",
    "        print(f\"{skill}: {pct:.0f}%\")\n"
   ]
  },
  {
   "cell_type": "markdown",
   "id": "96e95e95-4b98-4419-9805-0fa92fa39d3d",
   "metadata": {},
   "source": [
    "# Job description analized"
   ]
  },
  {
   "cell_type": "code",
   "execution_count": 6,
   "id": "a6fde0dd-17ec-4e44-90af-256e96cc4bc2",
   "metadata": {
    "scrolled": true
   },
   "outputs": [
    {
     "name": "stdout",
     "output_type": "stream",
     "text": [
      "Entities detected:\n",
      "React -> SKILL_PREFERRED\n",
      "Angular -> SKILL_PREFERRED\n",
      "code‑splitting -> SKILL_REQUIRED\n",
      "Jest -> SKILL_REQUIRED\n",
      "web apps -> SKILL_REQUIRED\n",
      "HTML5 -> SKILL_REQUIRED\n",
      "Flexbox/ -> SKILL_PREFERRED\n",
      "Grid -> SKILL_PREFERRED\n",
      "Vue/Angular -> SKILL_PREFERRED\n",
      "TTI -> SKILL_REQUIRED\n",
      "CLS -> SKILL_BONUS\n",
      "LCP -> SKILL_BONUS\n",
      "RESTful APIs -> SKILL_PREFERRED\n",
      "GraphQL -> SKILL_BONUS\n",
      "Git -> SKILL_REQUIRED\n",
      "including branching strategies -> SKILL_REQUIRED\n",
      "TypeScript proficiency -> SKILL_REQUIRED\n",
      "Rollup -> SKILL_REQUIRED\n",
      "CI/CD pipelines -> SKILL_BONUS\n",
      "GitHub -> SKILL_PREFERRED\n",
      "Jenkins -> SKILL_BONUS\n",
      "PWAs -> SKILL_REQUIRED\n",
      "XSS -> SKILL_REQUIRED\n",
      "conferences -> SKILL_REQUIRED\n",
      "cutting‑edge tools -> SKILL_REQUIRED\n"
     ]
    }
   ],
   "source": [
    "import spacy\n",
    "\n",
    "# Load your trained model from the output directory\n",
    "nlp = spacy.load(\"jdoutput/model-best\")  # or \"output/model-last\" if you prefer\n",
    "\n",
    "# Test text sample\n",
    "test_text = \"\"\"\n",
    "Frontend Developer\n",
    "\n",
    "Location: Remote / Hybrid / On‑site (as agreed)\n",
    "Experience Level: Mid‑level to Senior\n",
    "\n",
    "Position Overview\n",
    "We’re looking for a pragmatic, forward‑thinking Frontend Developer who builds performant, maintainable user interfaces. You’ll own the delivery of pixel‑perfect screens, push web performance-improvements, and help set the bar for code quality across our product. No hand‑holding—just real impact and autonomy.\n",
    "\n",
    "Key Responsibilities\n",
    "UI Development: Translate UX/UI designs into responsive, accessible, cross‑browser code using modern JavaScript frameworks (React, Vue, or Angular).\n",
    "\n",
    "Performance Optimization: Profile and optimize front‑end performance (bundle sizes, lazy loading, code‑splitting, caching strategies).\n",
    "\n",
    "Maintainable Code: Write clean, modular, well‑documented code. Enforce consistent styling with linting, formatting, and code reviews.\n",
    "\n",
    "Component Library: Build and maintain a reusable component library or design system.\n",
    "\n",
    "Collaboration: Work directly with Product, UX, and Backend teams; surface trade‑offs early; raise concerns bluntly.\n",
    "\n",
    "Quality Assurance: Implement unit and integration tests (Jest, Testing Library, Cypress). Ensure 0% regressions.\n",
    "\n",
    "Continuous Improvement: Keep abreast of frontend trends—progressive web apps, WebAssembly, micro‑frontend architectures—and drive adoption where it adds real value.\n",
    "\n",
    "Required Qualifications\n",
    "3+ years of professional frontend development experience.\n",
    "\n",
    "Expert-level JavaScript (ES6+), HTML5, and CSS3 (including Flexbox/Grid).\n",
    "\n",
    "Hands‑on experience with React (hooks, context API) or Vue/Angular.\n",
    "\n",
    "Proven track record optimizing web performance (TTI, CLS, LCP).\n",
    "\n",
    "Strong understanding of accessibility (WCAG) and internationalization.\n",
    "\n",
    "Familiarity with RESTful APIs and GraphQL.\n",
    "\n",
    "Version control with Git, including branching strategies and pull requests.\n",
    "\n",
    "Preferred Skills\n",
    "TypeScript proficiency.\n",
    "\n",
    "Experience with Webpack, Rollup, or Vite.\n",
    "\n",
    "Knowledge of CI/CD pipelines (GitHub Actions, Jenkins).\n",
    "\n",
    "Exposure to testing frameworks (Cypress, Playwright).\n",
    "\n",
    "Background in mobile‑first design and Progressive Web Apps (PWAs).\n",
    "\n",
    "Understanding of security best practices (CSP, XSS, authentication flows).\n",
    "\n",
    "What We Offer\n",
    "Autonomy to own features end‑to‑end.\n",
    "\n",
    "Competitive compensation and flexible working hours.\n",
    "\n",
    "Budget for conferences, training, and cutting‑edge tools.\n",
    "\n",
    "A culture that values honesty, continuous learning, and pragmatic solutions.\n",
    "\"\"\"\n",
    "\n",
    "# Process the text\n",
    "doc = nlp(test_text)\n",
    "\n",
    "# Print entities\n",
    "print(\"Entities detected:\")\n",
    "for ent in doc.ents:\n",
    "    print(f\"{ent.text} -> {ent.label_}\")\n"
   ]
  },
  {
   "cell_type": "code",
   "execution_count": null,
   "id": "94ca8943-4020-4a51-af27-dec215bca3cb",
   "metadata": {},
   "outputs": [],
   "source": []
  }
 ],
 "metadata": {
  "kernelspec": {
   "display_name": "Python 3 (ipykernel)",
   "language": "python",
   "name": "python3"
  },
  "language_info": {
   "codemirror_mode": {
    "name": "ipython",
    "version": 3
   },
   "file_extension": ".py",
   "mimetype": "text/x-python",
   "name": "python",
   "nbconvert_exporter": "python",
   "pygments_lexer": "ipython3",
   "version": "3.12.6"
  }
 },
 "nbformat": 4,
 "nbformat_minor": 5
}
