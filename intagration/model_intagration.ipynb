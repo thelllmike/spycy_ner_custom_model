{
 "cells": [
  {
   "cell_type": "markdown",
   "id": "97cc62cf-c789-4a47-8c78-b81948639580",
   "metadata": {},
   "source": [
    "## Extract text from pasindu.pdf and save as xx.txt ────────────"
   ]
  },
  {
   "cell_type": "code",
   "execution_count": null,
   "id": "a4ebcc12-0671-4b6a-af78-62b12a795e10",
   "metadata": {},
   "outputs": [],
   "source": [
    "import pdfplumber\n",
    "import os\n",
    "\n",
    "pdf_filename = 'pasindu.pdf'\n",
    "txt_filename = os.path.splitext(pdf_filename)[0] + '.txt'\n",
    "\n",
    "with pdfplumber.open(pdf_filename) as pdf, open(txt_filename, 'w', encoding='utf-8') as out_f:\n",
    "    for i, page in enumerate(pdf.pages, start=1):\n",
    "        text = page.extract_text() or ''\n",
    "        out_f.write(f\"--- Page {i} ---\\n\")\n",
    "        out_f.write(text + \"\\n\\n\")\n",
    "\n",
    "print(f\"✅ Extracted text saved to: {txt_filename}\")\n"
   ]
  },
  {
   "cell_type": "code",
   "execution_count": 1,
   "id": "068ccf17-9616-4caf-bf86-8b05f81e7f2f",
   "metadata": {},
   "outputs": [
    {
     "name": "stdout",
     "output_type": "stream",
     "text": [
      "✅ Model loaded\n"
     ]
    }
   ],
   "source": [
    "import spacy\n",
    "\n",
    "# Load your trained model from disk\n",
    "nlp = spacy.load(\"cvoutput/model-best\")  # adjust path as needed\n",
    "print(\"✅ Model loaded\")\n"
   ]
  },
  {
   "cell_type": "markdown",
   "id": "6b3d471c-1566-49bd-9d51-7177ac9a702f",
   "metadata": {},
   "source": [
    "## Exract skill"
   ]
  },
  {
   "cell_type": "code",
   "execution_count": 2,
   "id": "de49c6a9-ecbf-481e-b17f-c69252a68425",
   "metadata": {},
   "outputs": [
    {
     "name": "stdout",
     "output_type": "stream",
     "text": [
      "🎯 Detected Skills:\n",
      "- Codeignitor\n",
      "- JavaScript\n",
      "- MySQL\n",
      "- cPanel\n",
      "- MERN\n",
      "- Laravel\n",
      "- Vue JS\n",
      "- MySQL\n",
      "- Git\n",
      "- Github\n",
      "- Data Structures\n",
      "- Agile\n",
      "- UI/ UX\n",
      "- Natura - Online\n",
      "- React\n",
      "- MySQL\n",
      "- React Native\n",
      "- MS\n",
      "- SQL Fast Learning\n",
      "- Vue\n",
      "- Mongo DB\n",
      "- JS JAVA\n",
      "- VS Code\n",
      "- Postman\n",
      "- Android Development\n",
      "- Git & Github\n",
      "- Adobe Photoshop\n",
      "\n",
      "✅ Total unique skills: 25\n"
     ]
    }
   ],
   "source": [
    "# Load text\n",
    "with open(\"pasindu.txt\", \"r\", encoding=\"utf-8\") as f:\n",
    "    raw_text = f.read()\n",
    "\n",
    "# Process with the model\n",
    "doc = nlp(raw_text)\n",
    "\n",
    "# Extract all entities\n",
    "skills = [ent.text for ent in doc.ents if ent.label_ == \"SKILL\"]\n",
    "\n",
    "print(\"🎯 Detected Skills:\")\n",
    "for skill in skills:\n",
    "    print(\"-\", skill)\n",
    "\n",
    "# Optional: remove duplicates\n",
    "unique_skills = list(set(skills))\n",
    "print(f\"\\n✅ Total unique skills: {len(unique_skills)}\")\n"
   ]
  },
  {
   "cell_type": "markdown",
   "id": "7136842a-1da1-4626-b86d-05aa2e2ad0be",
   "metadata": {},
   "source": [
    "# qustion asking and scoring"
   ]
  },
  {
   "cell_type": "code",
   "execution_count": 3,
   "id": "e8719735-97da-4f0b-9fcf-419d3fd072fb",
   "metadata": {},
   "outputs": [
    {
     "name": "stdout",
     "output_type": "stream",
     "text": [
      "\n",
      "1. (React) Which category best describes React?\n",
      "   A) Front‑end framework\n",
      "   B) Back‑end framework\n",
      "   C) Security standard\n",
      "   D) Styling language\n"
     ]
    },
    {
     "name": "stdin",
     "output_type": "stream",
     "text": [
      "Your answer (A‑D):  A\n"
     ]
    },
    {
     "name": "stdout",
     "output_type": "stream",
     "text": [
      "\n",
      "2. (React) Who primarily maintains React?\n",
      "   A) Various\n",
      "   B) Corporate\n",
      "   C) Foundation\n",
      "   D) Independent\n"
     ]
    },
    {
     "name": "stdin",
     "output_type": "stream",
     "text": [
      "Your answer (A‑D):  B\n"
     ]
    },
    {
     "name": "stdout",
     "output_type": "stream",
     "text": [
      "\n",
      "3. (React) In which year was React first released?\n",
      "   A) 1997\n",
      "   B) 1999\n",
      "   C) 1998\n",
      "   D) 2000\n"
     ]
    },
    {
     "name": "stdin",
     "output_type": "stream",
     "text": [
      "Your answer (A‑D):  A\n"
     ]
    },
    {
     "name": "stdout",
     "output_type": "stream",
     "text": [
      "\n",
      "4. (React) What is a common file extension associated with React?\n",
      "   A) .json\n",
      "   B) nan\n",
      "   C) .js\n",
      "   D) .yaml\n"
     ]
    },
    {
     "name": "stdin",
     "output_type": "stream",
     "text": [
      "Your answer (A‑D):  A\n"
     ]
    },
    {
     "name": "stdout",
     "output_type": "stream",
     "text": [
      "\n",
      "5. (React) What is a primary use case of React?\n",
      "   A) Working with front‑end framework\n",
      "   B) Working with security standard\n",
      "   C) Working with mobile framework\n",
      "   D) Working with testing framework\n"
     ]
    },
    {
     "name": "stdin",
     "output_type": "stream",
     "text": [
      "Your answer (A‑D):  A\n"
     ]
    },
    {
     "name": "stdout",
     "output_type": "stream",
     "text": [
      "\n",
      "6. (React) Which command is commonly used to install or initialize React?\n",
      "   A) apt-get install pkg\n",
      "   B) nan\n",
      "   C) brew install pkg\n",
      "   D) npm install react\n"
     ]
    },
    {
     "name": "stdin",
     "output_type": "stream",
     "text": [
      "Your answer (A‑D):  A\n"
     ]
    },
    {
     "name": "stdout",
     "output_type": "stream",
     "text": [
      "\n",
      "7. (React) What is the primary programming language associated with React?\n",
      "   A) Swift\n",
      "   B) JavaScript\n",
      "   C) Python\n",
      "   D) nan\n"
     ]
    },
    {
     "name": "stdin",
     "output_type": "stream",
     "text": [
      "Your answer (A‑D):  A\n"
     ]
    },
    {
     "name": "stdout",
     "output_type": "stream",
     "text": [
      "\n",
      "8. (React) Which of these is a key feature of React?\n",
      "   A) Component‑based UI\n",
      "   B) Event loop\n",
      "   C) Routing\n",
      "   D) Schema‑based queries\n"
     ]
    },
    {
     "name": "stdin",
     "output_type": "stream",
     "text": [
      "Your answer (A‑D):  A\n"
     ]
    },
    {
     "name": "stdout",
     "output_type": "stream",
     "text": [
      "\n",
      "9. (React) Which of the following could be considered a competitor or alternative to React?\n",
      "   A) GCP\n",
      "   B) SQLite\n",
      "   C) Vue\n",
      "   D) Bash\n"
     ]
    },
    {
     "name": "stdin",
     "output_type": "stream",
     "text": [
      "Your answer (A‑D):  A\n"
     ]
    },
    {
     "name": "stdout",
     "output_type": "stream",
     "text": [
      "\n",
      "10. (React) Under which license is React primarily distributed?\n",
      "   A) MIT\n",
      "   B) Public Domain\n",
      "   C) MPL‑2.0\n",
      "   D) Proprietary\n"
     ]
    },
    {
     "name": "stdin",
     "output_type": "stream",
     "text": [
      "Your answer (A‑D):  A\n"
     ]
    },
    {
     "name": "stdout",
     "output_type": "stream",
     "text": [
      "\n",
      "11. (Java) Which category best describes Java?\n",
      "   A) Testing framework\n",
      "   B) Front‑end framework\n",
      "   C) Technology\n",
      "   D) Markup language\n"
     ]
    },
    {
     "name": "stdin",
     "output_type": "stream",
     "text": [
      "Your answer (A‑D):  A\n"
     ]
    },
    {
     "name": "stdout",
     "output_type": "stream",
     "text": [
      "\n",
      "12. (Java) Who primarily maintains Java?\n",
      "   A) Various\n",
      "   B) Corporate\n",
      "   C) Community\n",
      "   D) Independent\n"
     ]
    },
    {
     "name": "stdin",
     "output_type": "stream",
     "text": [
      "Your answer (A‑D):  A\n"
     ]
    },
    {
     "name": "stdout",
     "output_type": "stream",
     "text": [
      "\n",
      "13. (Java) In which year was Java first released?\n",
      "   A) 2004\n",
      "   B) 2003\n",
      "   C) 2005\n",
      "   D) 2001\n"
     ]
    },
    {
     "name": "stdin",
     "output_type": "stream",
     "text": [
      "Your answer (A‑D):  A\n"
     ]
    },
    {
     "name": "stdout",
     "output_type": "stream",
     "text": [
      "\n",
      "14. (Java) What is a common file extension associated with Java?\n",
      "   A) .java\n",
      "   B) .css\n",
      "   C) .js\n",
      "   D) .rs\n"
     ]
    },
    {
     "name": "stdin",
     "output_type": "stream",
     "text": [
      "Your answer (A‑D):  A\n"
     ]
    },
    {
     "name": "stdout",
     "output_type": "stream",
     "text": [
      "\n",
      "15. (Java) What is a primary use case of Java?\n",
      "   A) Working with technology\n",
      "   B) Working with security standard\n",
      "   C) Working with database\n",
      "   D) Working with networking protocol\n"
     ]
    },
    {
     "name": "stdin",
     "output_type": "stream",
     "text": [
      "Your answer (A‑D):  A\n"
     ]
    },
    {
     "name": "stdout",
     "output_type": "stream",
     "text": [
      "\n",
      "16. (Java) Which command is commonly used to install or initialize Java?\n",
      "   A) brew install pkg\n",
      "   B) npm install package\n",
      "   C) apt-get install pkg\n",
      "   D) nan\n"
     ]
    },
    {
     "name": "stdin",
     "output_type": "stream",
     "text": [
      "Your answer (A‑D):  A\n"
     ]
    },
    {
     "name": "stdout",
     "output_type": "stream",
     "text": [
      "\n",
      "17. (Java) What is the primary programming language associated with Java?\n",
      "   A) C#\n",
      "   B) C++\n",
      "   C) Java\n",
      "   D) Kotlin\n"
     ]
    },
    {
     "name": "stdin",
     "output_type": "stream",
     "text": [
      "Your answer (A‑D):  A\n"
     ]
    },
    {
     "name": "stdout",
     "output_type": "stream",
     "text": [
      "\n",
      "18. (Java) Which of these is a key feature of Java?\n",
      "   A) Scalable compute\n",
      "   B) Token grant types\n",
      "   C) Native bridges\n",
      "   D) Feature X\n"
     ]
    },
    {
     "name": "stdin",
     "output_type": "stream",
     "text": [
      "Your answer (A‑D):  A\n"
     ]
    },
    {
     "name": "stdout",
     "output_type": "stream",
     "text": [
      "\n",
      "19. (Java) Which of the following could be considered a competitor or alternative to Java?\n",
      "   A) Rust\n",
      "   B) AWS\n",
      "   C) Flutter\n",
      "   D) RabbitMQ\n"
     ]
    },
    {
     "name": "stdin",
     "output_type": "stream",
     "text": [
      "Your answer (A‑D):  A\n"
     ]
    },
    {
     "name": "stdout",
     "output_type": "stream",
     "text": [
      "\n",
      "20. (Java) Under which license is Java primarily distributed?\n",
      "   A) BSD\n",
      "   B) Proprietary\n",
      "   C) Public Domain\n",
      "   D) MPL‑2.0\n"
     ]
    },
    {
     "name": "stdin",
     "output_type": "stream",
     "text": [
      "Your answer (A‑D):  A\n"
     ]
    },
    {
     "name": "stdout",
     "output_type": "stream",
     "text": [
      "\n",
      "--- Your Scores ---\n",
      "React: 40%\n",
      "Java: 30%\n"
     ]
    }
   ],
   "source": [
    "import json\n",
    "from collections import defaultdict\n",
    "\n",
    "# —————————————————————————————————————————————\n",
    "# 1) Hard‑code your skills\n",
    "# —————————————————————————————————————————————\n",
    "SKILLS = [\"React\", \"Java\"]\n",
    "\n",
    "# —————————————————————————————————————————————\n",
    "# 2) Load the MCQs from JSON\n",
    "# —————————————————————————————————————————————\n",
    "with open(\"mcq.json\", \"r\", encoding=\"utf-8\") as f:\n",
    "    all_mcqs = json.load(f)\n",
    "\n",
    "# —————————————————————————————————————————————\n",
    "# 3) Keep only React/Java questions\n",
    "# —————————————————————————————————————————————\n",
    "quiz_questions = [q for q in all_mcqs if q[\"skill\"] in SKILLS]\n",
    "\n",
    "# —————————————————————————————————————————————\n",
    "# 4) Quiz runner\n",
    "# —————————————————————————————————————————————\n",
    "def run_quiz(questions):\n",
    "    \"\"\"\n",
    "    Presents each question, collects A‑D answers,\n",
    "    returns a list of (skill, is_correct) tuples.\n",
    "    \"\"\"\n",
    "    results = []\n",
    "    letter_to_idx = {\"A\": 0, \"B\": 1, \"C\": 2, \"D\": 3}\n",
    "\n",
    "    for idx, q in enumerate(questions, start=1):\n",
    "        print(f\"\\n{idx}. ({q['skill']}) {q['question']}\")\n",
    "        for letter, opt in zip(letter_to_idx, q[\"options\"]):\n",
    "            print(f\"   {letter}) {opt}\")\n",
    "\n",
    "        # get valid answer\n",
    "        while True:\n",
    "            ans = input(\"Your answer (A‑D): \").strip().upper()\n",
    "            if ans in letter_to_idx:\n",
    "                break\n",
    "            print(\"  → Please enter A, B, C or D.\")\n",
    "\n",
    "        chosen = q[\"options\"][letter_to_idx[ans]]\n",
    "        is_correct = (chosen == q[\"correct_answer\"])\n",
    "        results.append((q[\"skill\"], is_correct))\n",
    "\n",
    "    return results\n",
    "\n",
    "# —————————————————————————————————————————————\n",
    "# 5) Compute per‑skill % score\n",
    "# —————————————————————————————————————————————\n",
    "def calc_skill_report(results):\n",
    "    \"\"\"\n",
    "    results: list of (skill, bool)\n",
    "    returns: dict skill → percentage (0–100)\n",
    "    \"\"\"\n",
    "    tally = defaultdict(lambda: {\"correct\": 0, \"total\": 0})\n",
    "    for skill, ok in results:\n",
    "        tally[skill][\"total\"] += 1\n",
    "        if ok:\n",
    "            tally[skill][\"correct\"] += 1\n",
    "\n",
    "    report = {}\n",
    "    for skill in SKILLS:\n",
    "        stats = tally.get(skill, {\"correct\": 0, \"total\": 0})\n",
    "        c, t = stats[\"correct\"], stats[\"total\"]\n",
    "        pct = (c / t * 100) if t else 0\n",
    "        report[skill] = pct\n",
    "    return report\n",
    "\n",
    "# —————————————————————————————————————————————\n",
    "# 6) Glue it together\n",
    "# —————————————————————————————————————————————\n",
    "if __name__ == \"__main__\":\n",
    "    results = run_quiz(quiz_questions)\n",
    "    report  = calc_skill_report(results)\n",
    "\n",
    "    print(\"\\n--- Your Scores ---\")\n",
    "    for skill, pct in report.items():\n",
    "        print(f\"{skill}: {pct:.0f}%\")\n"
   ]
  },
  {
   "cell_type": "markdown",
   "id": "96e95e95-4b98-4419-9805-0fa92fa39d3d",
   "metadata": {},
   "source": [
    "# Job description analized"
   ]
  },
  {
   "cell_type": "code",
   "execution_count": 6,
   "id": "a6fde0dd-17ec-4e44-90af-256e96cc4bc2",
   "metadata": {
    "scrolled": true
   },
   "outputs": [
    {
     "name": "stdout",
     "output_type": "stream",
     "text": [
      "Entities detected:\n",
      "React -> SKILL_PREFERRED\n",
      "Angular -> SKILL_PREFERRED\n",
      "code‑splitting -> SKILL_REQUIRED\n",
      "Jest -> SKILL_REQUIRED\n",
      "web apps -> SKILL_REQUIRED\n",
      "HTML5 -> SKILL_REQUIRED\n",
      "Flexbox/ -> SKILL_PREFERRED\n",
      "Grid -> SKILL_PREFERRED\n",
      "Vue/Angular -> SKILL_PREFERRED\n",
      "TTI -> SKILL_REQUIRED\n",
      "CLS -> SKILL_BONUS\n",
      "LCP -> SKILL_BONUS\n",
      "RESTful APIs -> SKILL_PREFERRED\n",
      "GraphQL -> SKILL_BONUS\n",
      "Git -> SKILL_REQUIRED\n",
      "including branching strategies -> SKILL_REQUIRED\n",
      "TypeScript proficiency -> SKILL_REQUIRED\n",
      "Rollup -> SKILL_REQUIRED\n",
      "CI/CD pipelines -> SKILL_BONUS\n",
      "GitHub -> SKILL_PREFERRED\n",
      "Jenkins -> SKILL_BONUS\n",
      "PWAs -> SKILL_REQUIRED\n",
      "XSS -> SKILL_REQUIRED\n",
      "conferences -> SKILL_REQUIRED\n",
      "cutting‑edge tools -> SKILL_REQUIRED\n"
     ]
    }
   ],
   "source": [
    "import spacy\n",
    "\n",
    "# Load your trained model from the output directory\n",
    "nlp = spacy.load(\"jdoutput/model-best\")  # or \"output/model-last\" if you prefer\n",
    "\n",
    "# Test text sample\n",
    "test_text = \"\"\"\n",
    "Frontend Developer\n",
    "\n",
    "Location: Remote / Hybrid / On‑site (as agreed)\n",
    "Experience Level: Mid‑level to Senior\n",
    "\n",
    "Position Overview\n",
    "We’re looking for a pragmatic, forward‑thinking Frontend Developer who builds performant, maintainable user interfaces. You’ll own the delivery of pixel‑perfect screens, push web performance-improvements, and help set the bar for code quality across our product. No hand‑holding—just real impact and autonomy.\n",
    "\n",
    "Key Responsibilities\n",
    "UI Development: Translate UX/UI designs into responsive, accessible, cross‑browser code using modern JavaScript frameworks (React, Vue, or Angular).\n",
    "\n",
    "Performance Optimization: Profile and optimize front‑end performance (bundle sizes, lazy loading, code‑splitting, caching strategies).\n",
    "\n",
    "Maintainable Code: Write clean, modular, well‑documented code. Enforce consistent styling with linting, formatting, and code reviews.\n",
    "\n",
    "Component Library: Build and maintain a reusable component library or design system.\n",
    "\n",
    "Collaboration: Work directly with Product, UX, and Backend teams; surface trade‑offs early; raise concerns bluntly.\n",
    "\n",
    "Quality Assurance: Implement unit and integration tests (Jest, Testing Library, Cypress). Ensure 0% regressions.\n",
    "\n",
    "Continuous Improvement: Keep abreast of frontend trends—progressive web apps, WebAssembly, micro‑frontend architectures—and drive adoption where it adds real value.\n",
    "\n",
    "Required Qualifications\n",
    "3+ years of professional frontend development experience.\n",
    "\n",
    "Expert-level JavaScript (ES6+), HTML5, and CSS3 (including Flexbox/Grid).\n",
    "\n",
    "Hands‑on experience with React (hooks, context API) or Vue/Angular.\n",
    "\n",
    "Proven track record optimizing web performance (TTI, CLS, LCP).\n",
    "\n",
    "Strong understanding of accessibility (WCAG) and internationalization.\n",
    "\n",
    "Familiarity with RESTful APIs and GraphQL.\n",
    "\n",
    "Version control with Git, including branching strategies and pull requests.\n",
    "\n",
    "Preferred Skills\n",
    "TypeScript proficiency.\n",
    "\n",
    "Experience with Webpack, Rollup, or Vite.\n",
    "\n",
    "Knowledge of CI/CD pipelines (GitHub Actions, Jenkins).\n",
    "\n",
    "Exposure to testing frameworks (Cypress, Playwright).\n",
    "\n",
    "Background in mobile‑first design and Progressive Web Apps (PWAs).\n",
    "\n",
    "Understanding of security best practices (CSP, XSS, authentication flows).\n",
    "\n",
    "What We Offer\n",
    "Autonomy to own features end‑to‑end.\n",
    "\n",
    "Competitive compensation and flexible working hours.\n",
    "\n",
    "Budget for conferences, training, and cutting‑edge tools.\n",
    "\n",
    "A culture that values honesty, continuous learning, and pragmatic solutions.\n",
    "\"\"\"\n",
    "\n",
    "# Process the text\n",
    "doc = nlp(test_text)\n",
    "\n",
    "# Print entities\n",
    "print(\"Entities detected:\")\n",
    "for ent in doc.ents:\n",
    "    print(f\"{ent.text} -> {ent.label_}\")\n"
   ]
  },
  {
   "cell_type": "code",
   "execution_count": 7,
   "id": "94ca8943-4020-4a51-af27-dec215bca3cb",
   "metadata": {},
   "outputs": [
    {
     "name": "stdout",
     "output_type": "stream",
     "text": [
      "\n",
      "=== Logistic Regression ===\n",
      "              precision    recall  f1-score   support\n",
      "\n",
      "           0       0.56      0.39      0.46        23\n",
      "           1       0.42      0.59      0.49        17\n",
      "\n",
      "    accuracy                           0.47        40\n",
      "   macro avg       0.49      0.49      0.47        40\n",
      "weighted avg       0.50      0.47      0.47        40\n",
      "\n",
      "\n",
      "=== Random Forest ===\n",
      "              precision    recall  f1-score   support\n",
      "\n",
      "           0       0.64      0.30      0.41        23\n",
      "           1       0.45      0.76      0.57        17\n",
      "\n",
      "    accuracy                           0.50        40\n",
      "   macro avg       0.54      0.53      0.49        40\n",
      "weighted avg       0.56      0.50      0.48        40\n",
      "\n",
      "\n",
      "=== Gradient Boosting ===\n",
      "              precision    recall  f1-score   support\n",
      "\n",
      "           0       0.47      0.35      0.40        23\n",
      "           1       0.35      0.47      0.40        17\n",
      "\n",
      "    accuracy                           0.40        40\n",
      "   macro avg       0.41      0.41      0.40        40\n",
      "weighted avg       0.42      0.40      0.40        40\n",
      "\n",
      "\n",
      "=== Candidate Prediction ===\n",
      "Logistic Regression: selected=False, probability=0.14\n",
      "Random Forest: selected=True, probability=0.74\n",
      "Gradient Boosting: selected=True, probability=0.78\n"
     ]
    }
   ],
   "source": [
    "# Jupyter Notebook: Candidate Fit Prediction\n",
    "\n",
    "# 1. Imports\n",
    "import pandas as pd\n",
    "import numpy as np\n",
    "from sklearn.model_selection import train_test_split\n",
    "from sklearn.linear_model import LogisticRegression\n",
    "from sklearn.ensemble import RandomForestClassifier, GradientBoostingClassifier\n",
    "from sklearn.metrics import classification_report\n",
    "\n",
    "# 2. Define label weights and JD skills\n",
    "label_weights = {\n",
    "    \"SKILL_REQUIRED\":   1.0,\n",
    "    \"SKILL_PREFERRED\":  0.6,\n",
    "    \"SKILL_BONUS\":      0.3,\n",
    "}\n",
    "\n",
    "jd_skills = {\n",
    "    \"React\":          \"SKILL_PREFERRED\",\n",
    "    \"Angular\":        \"SKILL_PREFERRED\",\n",
    "    \"code‑splitting\": \"SKILL_REQUIRED\",\n",
    "    \"Jest\":           \"SKILL_REQUIRED\",\n",
    "    \"web apps\":       \"SKILL_REQUIRED\",\n",
    "    \"HTML5\":          \"SKILL_REQUIRED\",\n",
    "    \"Flexbox/\":       \"SKILL_PREFERRED\",\n",
    "    \"Grid\":           \"SKILL_PREFERRED\",\n",
    "    \"Vue/Angular\":    \"SKILL_PREFERRED\",\n",
    "    \"TTI\":            \"SKILL_REQUIRED\",\n",
    "    \"CLS\":            \"SKILL_BONUS\",\n",
    "    \"LCP\":            \"SKILL_BONUS\",\n",
    "    \"RESTful APIs\":   \"SKILL_PREFERRED\",\n",
    "    \"GraphQL\":        \"SKILL_BONUS\",\n",
    "    \"Git\":            \"SKILL_REQUIRED\",\n",
    "    \"TypeScript\":     \"SKILL_REQUIRED\",\n",
    "    \"Rollup\":         \"SKILL_REQUIRED\",\n",
    "    \"CI/CD pipelines\":\"SKILL_BONUS\",\n",
    "    \"GitHub\":         \"SKILL_PREFERRED\",\n",
    "    \"Jenkins\":        \"SKILL_BONUS\",\n",
    "    \"PWAs\":           \"SKILL_REQUIRED\",\n",
    "    \"XSS\":            \"SKILL_REQUIRED\",\n",
    "}\n",
    "skills = list(jd_skills.keys())\n",
    "\n",
    "# 3. Create synthetic historical dataset\n",
    "np.random.seed(42)\n",
    "data = []\n",
    "for _ in range(200):\n",
    "    quiz = {s: np.random.randint(20, 101) for s in skills}\n",
    "    weighted_sum = sum(quiz[s] * label_weights[jd_skills[s]] for s in skills)\n",
    "    max_sum      = sum(100 * label_weights[jd_skills[s]] for s in skills)\n",
    "    hire_prob    = weighted_sum / max_sum\n",
    "    hired_label  = int(np.random.rand() < hire_prob)\n",
    "    entry = {s: quiz[s] for s in skills}\n",
    "    entry['hired'] = hired_label\n",
    "    data.append(entry)\n",
    "\n",
    "df = pd.DataFrame(data)\n",
    "\n",
    "# 4. Feature engineering: apply label weights\n",
    "for s in skills:\n",
    "    df[s] = df[s] * label_weights[jd_skills[s]]\n",
    "\n",
    "X = df[skills]\n",
    "y = df['hired']\n",
    "\n",
    "# 5. Train/test split\n",
    "X_train, X_test, y_train, y_test = train_test_split(\n",
    "    X, y, test_size=0.2, random_state=42\n",
    ")\n",
    "\n",
    "# 6. Initialize models\n",
    "models = {\n",
    "    \"Logistic Regression\": LogisticRegression(max_iter=1000),\n",
    "    \"Random Forest\":       RandomForestClassifier(n_estimators=100, random_state=42),\n",
    "    \"Gradient Boosting\":   GradientBoostingClassifier(random_state=42),\n",
    "}\n",
    "\n",
    "# 7. Train & evaluate\n",
    "for name, model in models.items():\n",
    "    model.fit(X_train, y_train)\n",
    "    preds = model.predict(X_test)\n",
    "    print(f\"\\n=== {name} ===\")\n",
    "    print(classification_report(y_test, preds))\n",
    "\n",
    "# 8. Predict for a new candidate\n",
    "quiz_scores_new = {\n",
    "    \"React\":   40,\n",
    "    \"Java\":    30,\n",
    "    \"Angular\": 50,\n",
    "    # others default to 0\n",
    "}\n",
    "\n",
    "candidate = {\n",
    "    s: quiz_scores_new.get(s, 0) * label_weights[jd_skills[s]]\n",
    "    for s in skills\n",
    "}\n",
    "candidate_df = pd.DataFrame([candidate])\n",
    "\n",
    "print(\"\\n=== Candidate Prediction ===\")\n",
    "for name, model in models.items():\n",
    "    sel  = model.predict(candidate_df)[0]\n",
    "    prob = model.predict_proba(candidate_df)[0][1]\n",
    "    print(f\"{name}: selected={bool(sel)}, probability={prob:.2f}\")\n"
   ]
  },
  {
   "cell_type": "code",
   "execution_count": 8,
   "id": "aca2bbe5-7179-44e6-8565-eaf3a13657e1",
   "metadata": {},
   "outputs": [
    {
     "name": "stdout",
     "output_type": "stream",
     "text": [
      "\n",
      "=== Logistic Regression ===\n",
      "              precision    recall  f1-score   support\n",
      "\n",
      "           0       0.56      0.39      0.46        23\n",
      "           1       0.42      0.59      0.49        17\n",
      "\n",
      "    accuracy                           0.47        40\n",
      "   macro avg       0.49      0.49      0.47        40\n",
      "weighted avg       0.50      0.47      0.47        40\n",
      "\n",
      "\n",
      "=== Random Forest ===\n",
      "              precision    recall  f1-score   support\n",
      "\n",
      "           0       0.64      0.30      0.41        23\n",
      "           1       0.45      0.76      0.57        17\n",
      "\n",
      "    accuracy                           0.50        40\n",
      "   macro avg       0.54      0.53      0.49        40\n",
      "weighted avg       0.56      0.50      0.48        40\n",
      "\n",
      "\n",
      "=== Gradient Boosting ===\n",
      "              precision    recall  f1-score   support\n",
      "\n",
      "           0       0.47      0.35      0.40        23\n",
      "           1       0.35      0.47      0.40        17\n",
      "\n",
      "    accuracy                           0.40        40\n",
      "   macro avg       0.41      0.41      0.40        40\n",
      "weighted avg       0.42      0.40      0.40        40\n",
      "\n",
      "\n",
      "=== K-Nearest Neighbors ===\n",
      "              precision    recall  f1-score   support\n",
      "\n",
      "           0       0.57      0.35      0.43        23\n",
      "           1       0.42      0.65      0.51        17\n",
      "\n",
      "    accuracy                           0.47        40\n",
      "   macro avg       0.50      0.50      0.47        40\n",
      "weighted avg       0.51      0.47      0.47        40\n",
      "\n",
      "\n",
      "=== Candidate Prediction ===\n",
      "Logistic Regression: selected=False, probability=0.14\n",
      "Random Forest: selected=True, probability=0.74\n",
      "Gradient Boosting: selected=True, probability=0.78\n",
      "K-Nearest Neighbors: selected=True, probability=0.80\n"
     ]
    }
   ],
   "source": [
    "# Jupyter Notebook: Candidate Fit Prediction with KNN\n",
    "\n",
    "# 1. Imports\n",
    "import pandas as pd\n",
    "import numpy as np\n",
    "from sklearn.model_selection import train_test_split\n",
    "from sklearn.linear_model import LogisticRegression\n",
    "from sklearn.ensemble import RandomForestClassifier, GradientBoostingClassifier\n",
    "from sklearn.neighbors import KNeighborsClassifier\n",
    "from sklearn.metrics import classification_report\n",
    "\n",
    "# 2. Define label weights and JD skills\n",
    "label_weights = {\n",
    "    \"SKILL_REQUIRED\":   1.0,\n",
    "    \"SKILL_PREFERRED\":  0.6,\n",
    "    \"SKILL_BONUS\":      0.3,\n",
    "}\n",
    "\n",
    "jd_skills = {\n",
    "    \"React\":          \"SKILL_PREFERRED\",\n",
    "    \"Angular\":        \"SKILL_PREFERRED\",\n",
    "    \"code‑splitting\": \"SKILL_REQUIRED\",\n",
    "    \"Jest\":           \"SKILL_REQUIRED\",\n",
    "    \"web apps\":       \"SKILL_REQUIRED\",\n",
    "    \"HTML5\":          \"SKILL_REQUIRED\",\n",
    "    \"Flexbox/\":       \"SKILL_PREFERRED\",\n",
    "    \"Grid\":           \"SKILL_PREFERRED\",\n",
    "    \"Vue/Angular\":    \"SKILL_PREFERRED\",\n",
    "    \"TTI\":            \"SKILL_REQUIRED\",\n",
    "    \"CLS\":            \"SKILL_BONUS\",\n",
    "    \"LCP\":            \"SKILL_BONUS\",\n",
    "    \"RESTful APIs\":   \"SKILL_PREFERRED\",\n",
    "    \"GraphQL\":        \"SKILL_BONUS\",\n",
    "    \"Git\":            \"SKILL_REQUIRED\",\n",
    "    \"TypeScript\":     \"SKILL_REQUIRED\",\n",
    "    \"Rollup\":         \"SKILL_REQUIRED\",\n",
    "    \"CI/CD pipelines\":\"SKILL_BONUS\",\n",
    "    \"GitHub\":         \"SKILL_PREFERRED\",\n",
    "    \"Jenkins\":        \"SKILL_BONUS\",\n",
    "    \"PWAs\":           \"SKILL_REQUIRED\",\n",
    "    \"XSS\":            \"SKILL_REQUIRED\",\n",
    "}\n",
    "skills = list(jd_skills.keys())\n",
    "\n",
    "# 3. Create synthetic historical dataset\n",
    "np.random.seed(42)\n",
    "data = []\n",
    "for _ in range(200):\n",
    "    quiz = {s: np.random.randint(20, 101) for s in skills}\n",
    "    weighted_sum = sum(quiz[s] * label_weights[jd_skills[s]] for s in skills)\n",
    "    max_sum      = sum(100 * label_weights[jd_skills[s]] for s in skills)\n",
    "    hire_prob    = weighted_sum / max_sum\n",
    "    hired_label  = int(np.random.rand() < hire_prob)\n",
    "    entry = {s: quiz[s] for s in skills}\n",
    "    entry['hired'] = hired_label\n",
    "    data.append(entry)\n",
    "\n",
    "df = pd.DataFrame(data)\n",
    "\n",
    "# 4. Feature engineering: apply label weights\n",
    "for s in skills:\n",
    "    df[s] = df[s] * label_weights[jd_skills[s]]\n",
    "\n",
    "X = df[skills]\n",
    "y = df['hired']\n",
    "\n",
    "# 5. Train/test split\n",
    "X_train, X_test, y_train, y_test = train_test_split(\n",
    "    X, y, test_size=0.2, random_state=42\n",
    ")\n",
    "\n",
    "# 6. Initialize models (including KNN)\n",
    "models = {\n",
    "    \"Logistic Regression\": LogisticRegression(max_iter=1000),\n",
    "    \"Random Forest\":       RandomForestClassifier(n_estimators=100, random_state=42),\n",
    "    \"Gradient Boosting\":   GradientBoostingClassifier(random_state=42),\n",
    "    \"K-Nearest Neighbors\": KNeighborsClassifier(n_neighbors=5),\n",
    "}\n",
    "\n",
    "# 7. Train & evaluate\n",
    "for name, model in models.items():\n",
    "    model.fit(X_train, y_train)\n",
    "    preds = model.predict(X_test)\n",
    "    print(f\"\\n=== {name} ===\")\n",
    "    print(classification_report(y_test, preds))\n",
    "\n",
    "# 8. Predict for a new candidate\n",
    "quiz_scores_new = {\n",
    "    \"React\":   40,\n",
    "    \"Java\":    30,\n",
    "    \"Angular\": 50,\n",
    "    # other skills default to 0\n",
    "}\n",
    "\n",
    "candidate = {\n",
    "    s: quiz_scores_new.get(s, 0) * label_weights[jd_skills[s]]\n",
    "    for s in skills\n",
    "}\n",
    "candidate_df = pd.DataFrame([candidate])\n",
    "\n",
    "print(\"\\n=== Candidate Prediction ===\")\n",
    "for name, model in models.items():\n",
    "    sel  = model.predict(candidate_df)[0]\n",
    "    prob = model.predict_proba(candidate_df)[0][1]\n",
    "    print(f\"{name}: selected={bool(sel)}, probability={prob:.2f}\")\n"
   ]
  },
  {
   "cell_type": "code",
   "execution_count": 9,
   "id": "b70625dc-032d-478b-8d50-3dda9d0aa680",
   "metadata": {},
   "outputs": [
    {
     "data": {
      "image/png": "[encoded data removed]",
      "text/plain": [
       "<Figure size 640x480 with 1 Axes>"
      ]
     },
     "metadata": {},
     "output_type": "display_data"
    }
   ],
   "source": [
    "import pandas as pd\n",
    "import numpy as np\n",
    "import matplotlib.pyplot as plt\n",
    "from sklearn.metrics import accuracy_score, precision_score, recall_score, f1_score\n",
    "\n",
    "# Assuming models dict and X_test, y_test are already defined as in previous cells:\n",
    "# models = { \"Logistic Regression\": ..., \"Random Forest\": ..., \"Gradient Boosting\": ..., \"K-Nearest Neighbors\": ... }\n",
    "\n",
    "# 1. Compute metrics for each model\n",
    "metrics = {\"Model\": [], \"Accuracy\": [], \"Precision\": [], \"Recall\": [], \"F1\": []}\n",
    "for name, model in models.items():\n",
    "    preds = model.predict(X_test)\n",
    "    metrics[\"Model\"].append(name)\n",
    "    metrics[\"Accuracy\"].append(accuracy_score(y_test, preds))\n",
    "    metrics[\"Precision\"].append(precision_score(y_test, preds, zero_division=0, average='weighted'))\n",
    "    metrics[\"Recall\"].append(recall_score(y_test, preds, zero_division=0, average='weighted'))\n",
    "    metrics[\"F1\"].append(f1_score(y_test, preds, zero_division=0, average='weighted'))\n",
    "\n",
    "df_metrics = pd.DataFrame(metrics).set_index(\"Model\")\n",
    "\n",
    "# 2. Plot grouped bar chart\n",
    "x = np.arange(len(df_metrics.index))\n",
    "width = 0.2\n",
    "\n",
    "plt.figure()\n",
    "plt.bar(x - 1.5*width, df_metrics[\"Accuracy\"], width, label='Accuracy')\n",
    "plt.bar(x - 0.5*width, df_metrics[\"Precision\"], width, label='Precision')\n",
    "plt.bar(x + 0.5*width, df_metrics[\"Recall\"], width, label='Recall')\n",
    "plt.bar(x + 1.5*width, df_metrics[\"F1\"], width, label='F1 Score')\n",
    "\n",
    "plt.xticks(x, df_metrics.index, rotation=45)\n",
    "plt.ylabel('Score')\n",
    "plt.title('Model Performance Comparison')\n",
    "plt.legend()\n",
    "plt.tight_layout()\n",
    "plt.show()\n"
   ]
  },
  {
   "cell_type": "code",
   "execution_count": 73,
   "id": "674b3195-5b9f-4e1a-b37c-54493afaff73",
   "metadata": {},
   "outputs": [
    {
     "name": "stdout",
     "output_type": "stream",
     "text": [
      "Best params: {'max_depth': 5, 'min_samples_split': 10, 'n_estimators': 50}\n",
      "Optimal threshold: 0.6834048559026499\n",
      "\n",
      "Test set performance:\n",
      "              precision    recall  f1-score   support\n",
      "\n",
      "           0       0.56      0.96      0.71        23\n",
      "           1       0.00      0.00      0.00        17\n",
      "\n",
      "    accuracy                           0.55        40\n",
      "   macro avg       0.28      0.48      0.35        40\n",
      "weighted avg       0.32      0.55      0.41        40\n",
      "\n",
      "\n",
      "Candidate result: ['Not Selected']\n"
     ]
    }
   ],
   "source": [
    "# 1. Imports\n",
    "import pandas as pd\n",
    "import numpy as np\n",
    "from sklearn.model_selection import train_test_split, GridSearchCV\n",
    "from sklearn.ensemble import RandomForestClassifier\n",
    "from sklearn.metrics import roc_curve, classification_report\n",
    "\n",
    "# 2. Define label weights and JD skills\n",
    "label_weights = {\n",
    "    \"SKILL_REQUIRED\":   1.0,\n",
    "    \"SKILL_PREFERRED\":  0.6,\n",
    "    \"SKILL_BONUS\":      0.3,\n",
    "}\n",
    "\n",
    "jd_skills = {\n",
    "    \"React\":          \"SKILL_PREFERRED\",\n",
    "    \"Angular\":        \"SKILL_PREFERRED\",\n",
    "    \"code‑splitting\": \"SKILL_REQUIRED\",\n",
    "    \"Jest\":           \"SKILL_REQUIRED\",\n",
    "    \"web apps\":       \"SKILL_REQUIRED\",\n",
    "    \"HTML5\":          \"SKILL_REQUIRED\",\n",
    "    \"Flexbox/\":       \"SKILL_PREFERRED\",\n",
    "    \"Grid\":           \"SKILL_PREFERRED\",\n",
    "    \"Vue/Angular\":    \"SKILL_PREFERRED\",\n",
    "    \"TTI\":            \"SKILL_REQUIRED\",\n",
    "    \"CLS\":            \"SKILL_BONUS\",\n",
    "    \"LCP\":            \"SKILL_BONUS\",\n",
    "    \"RESTful APIs\":   \"SKILL_PREFERRED\",\n",
    "    \"GraphQL\":        \"SKILL_BONUS\",\n",
    "    \"Git\":            \"SKILL_REQUIRED\",\n",
    "    \"TypeScript\":     \"SKILL_REQUIRED\",\n",
    "    \"Rollup\":         \"SKILL_REQUIRED\",\n",
    "    \"CI/CD pipelines\":\"SKILL_BONUS\",\n",
    "    \"GitHub\":         \"SKILL_PREFERRED\",\n",
    "    \"Jenkins\":        \"SKILL_BONUS\",\n",
    "    \"PWAs\":           \"SKILL_REQUIRED\",\n",
    "    \"XSS\":            \"SKILL_REQUIRED\",\n",
    "}\n",
    "skills = list(jd_skills.keys())\n",
    "\n",
    "# 3. Create synthetic historical dataset\n",
    "np.random.seed(42)\n",
    "data = []\n",
    "for _ in range(200):\n",
    "    quiz = {s: np.random.randint(20, 101) for s in skills}\n",
    "    weighted_sum = sum(quiz[s] * label_weights[jd_skills[s]] for s in skills)\n",
    "    max_sum      = sum(100 * label_weights[jd_skills[s]] for s in skills)\n",
    "    hire_prob    = weighted_sum / max_sum\n",
    "    hired_label  = int(np.random.rand() < hire_prob)\n",
    "    entry = quiz.copy()\n",
    "    entry['hired'] = hired_label\n",
    "    data.append(entry)\n",
    "df = pd.DataFrame(data)\n",
    "\n",
    "# 4. Feature engineering: apply label weights\n",
    "for s in skills:\n",
    "    df[s] = df[s] * label_weights[jd_skills[s]]\n",
    "X = df[skills]\n",
    "y = df['hired']\n",
    "\n",
    "# 5. Train/test split\n",
    "X_train, X_test, y_train, y_test = train_test_split(\n",
    "    X, y, test_size=0.2, random_state=42\n",
    ")\n",
    "\n",
    "# 6. Further split train into train2/validation for threshold tuning\n",
    "X_train2, X_valid, y_train2, y_valid = train_test_split(\n",
    "    X_train, y_train, test_size=0.2, random_state=42\n",
    ")\n",
    "\n",
    "# 7. Hyperparameter tuning with GridSearchCV\n",
    "param_grid = {\n",
    "    'n_estimators': [50, 100, 200],\n",
    "    'max_depth': [None, 5, 10],\n",
    "    'min_samples_split': [2, 5, 10]\n",
    "}\n",
    "grid = GridSearchCV(\n",
    "    RandomForestClassifier(random_state=42),\n",
    "    param_grid,\n",
    "    cv=5,\n",
    "    scoring='f1',\n",
    "    n_jobs=-1\n",
    ")\n",
    "grid.fit(X_train2, y_train2)\n",
    "best_model = grid.best_estimator_\n",
    "print(\"Best params:\", grid.best_params_)\n",
    "\n",
    "# 8. Find optimal probability threshold on validation set\n",
    "probs_valid = best_model.predict_proba(X_valid)[:,1]\n",
    "fpr, tpr, thresholds = roc_curve(y_valid, probs_valid)\n",
    "best_idx = np.argmax(tpr - fpr)\n",
    "best_threshold = thresholds[best_idx]\n",
    "print(\"Optimal threshold:\", best_threshold)\n",
    "\n",
    "# 9. Evaluate on test set using the optimized threshold\n",
    "probs_test = best_model.predict_proba(X_test)[:,1]\n",
    "preds_test = (probs_test >= best_threshold).astype(int)\n",
    "print(\"\\nTest set performance:\")\n",
    "print(classification_report(y_test, preds_test))\n",
    "\n",
    "# 10. Prediction helper\n",
    "def predict_selected(model, df, threshold):\n",
    "    probs = model.predict_proba(df)[:,1]\n",
    "    return [\"Selected\" if p >= threshold else \"Not Selected\" for p in probs]\n",
    "\n",
    "# 11. Predict for a new candidate\n",
    "quiz_scores_new = {\n",
    "    \"Jest\":   70,\n",
    "    \"LCP\":    30,\n",
    "    \"HTML5\": 60,\n",
    "    # others default to 0\n",
    "}\n",
    "candidate = {\n",
    "    s: quiz_scores_new.get(s, 0) * label_weights[jd_skills[s]]\n",
    "    for s in skills\n",
    "}\n",
    "candidate_df = pd.DataFrame([candidate])\n",
    "result = predict_selected(best_model, candidate_df, best_threshold)\n",
    "print(\"\\nCandidate result:\", result)\n"
   ]
  },
  {
   "cell_type": "code",
   "execution_count": 85,
   "id": "28b70f44-45c8-49cf-8a0a-88c89215dfcd",
   "metadata": {},
   "outputs": [],
   "source": [
    "def compute_candidate_features(quiz_results, jd_skills, label_weights):\n",
    "    \"\"\"\n",
    "    quiz_results: dict skill -> (num_correct, num_questions)\n",
    "    jd_skills:    dict skill -> SKILL_LABEL\n",
    "    label_weights: dict SKILL_LABEL -> weight\n",
    "    returns: flat dict of features\n",
    "    \"\"\"\n",
    "    feats = {}\n",
    "    total_weight = sum(label_weights[label] for label in jd_skills.values())\n",
    "    weighted_sum = 0.0\n",
    "\n",
    "    covered = 0\n",
    "    for skill, label in jd_skills.items():\n",
    "        w = label_weights[label]\n",
    "        if skill in quiz_results:\n",
    "            correct, total_q = quiz_results[skill]\n",
    "            pct = (correct / total_q) * 100\n",
    "            covered += 1\n",
    "        else:\n",
    "            pct = 0.0\n",
    "        weighted = pct * w\n",
    "        feats[f\"{skill}_wt_score\"] = weighted\n",
    "        weighted_sum += weighted\n",
    "\n",
    "    # aggregate features\n",
    "    feats[\"overall_weighted_avg\"]   = weighted_sum / total_weight\n",
    "    feats[\"skills_covered_ratio\"]   = covered / len(jd_skills)\n",
    "    feats[\"missing_skills_count\"]   = len(jd_skills) - covered\n",
    "    return feats\n"
   ]
  },
  {
   "cell_type": "code",
   "execution_count": 86,
   "id": "4649f6c5-f901-4c20-bae2-bf72bf07f62f",
   "metadata": {},
   "outputs": [
    {
     "name": "stdout",
     "output_type": "stream",
     "text": [
      "              precision    recall  f1-score   support\n",
      "\n",
      "           0       1.00      1.00      1.00        35\n",
      "           1       1.00      1.00      1.00         5\n",
      "\n",
      "    accuracy                           1.00        40\n",
      "   macro avg       1.00      1.00      1.00        40\n",
      "weighted avg       1.00      1.00      1.00        40\n",
      "\n"
     ]
    }
   ],
   "source": [
    "import pandas as pd\n",
    "import numpy as np\n",
    "from sklearn.model_selection import train_test_split\n",
    "from sklearn.ensemble import RandomForestClassifier\n",
    "from sklearn.metrics import classification_report\n",
    "\n",
    "# Your JD skill labels and weights:\n",
    "label_weights = {\n",
    "    \"SKILL_REQUIRED\":   1.0,\n",
    "    \"SKILL_PREFERRED\":  0.6,\n",
    "    \"SKILL_BONUS\":      0.3,\n",
    "}\n",
    "jd_skills = {\n",
    "    \"React\":         \"SKILL_PREFERRED\",\n",
    "    \"Angular\":       \"SKILL_PREFERRED\",\n",
    "    \"code‑splitting\":\"SKILL_REQUIRED\",\n",
    "    \"Jest\":          \"SKILL_REQUIRED\",\n",
    "    \"web apps\":      \"SKILL_REQUIRED\",\n",
    "    \"HTML5\":         \"SKILL_REQUIRED\",\n",
    "    # …etc.\n",
    "}\n",
    "\n",
    "# 1) Generate synthetic candidates\n",
    "np.random.seed(42)\n",
    "rows = []\n",
    "for _ in range(200):\n",
    "    # simulate quiz: for each JD-skill, random correct/total\n",
    "    quiz = {\n",
    "      s: (np.random.randint(0, 11), 10)  # 10 questions each skill\n",
    "      for s in jd_skills\n",
    "    }\n",
    "    # compute features\n",
    "    feats = compute_candidate_features(quiz, jd_skills, label_weights)\n",
    "    # simulate label based on overall_weighted_avg\n",
    "    label = int(feats[\"overall_weighted_avg\"] > 65)  # pretend 65% is cutoff\n",
    "    feats[\"hired\"] = label\n",
    "    rows.append(feats)\n",
    "\n",
    "df = pd.DataFrame(rows)\n",
    "\n",
    "# 2) Split and train\n",
    "X = df.drop(columns=\"hired\")\n",
    "y = df[\"hired\"]\n",
    "X_train, X_test, y_train, y_test = train_test_split(\n",
    "    X, y, test_size=0.2, random_state=0\n",
    ")\n",
    "\n",
    "model = RandomForestClassifier(n_estimators=100, random_state=0)\n",
    "model.fit(X_train, y_train)\n",
    "\n",
    "# 3) Evaluate\n",
    "preds = model.predict(X_test)\n",
    "print(classification_report(y_test, preds))\n"
   ]
  },
  {
   "cell_type": "code",
   "execution_count": 88,
   "id": "629fd6cd-f2ee-497b-8974-cac86b69c066",
   "metadata": {},
   "outputs": [
    {
     "name": "stdout",
     "output_type": "stream",
     "text": [
      "Selected (0.71 probability)\n"
     ]
    }
   ],
   "source": [
    "# New candidate’s raw quiz results:\n",
    "quiz_new = {\n",
    "  \"React\": (0, 10),     # 5/10 correct → 50%\n",
    "  \"Angular\": (5, 10),\n",
    "  \"Jest\": (9, 10), \n",
    "  \"HTML5\": (8, 10), \n",
    "    \"web apps\": (7, 10), \n",
    "     \"code‑splitting\": (7, 10), \n",
    "  # they didn’t take Jest, code‑splitting, etc.\n",
    "}\n",
    "\n",
    "# 1) Compute features\n",
    "feats_new = compute_candidate_features(quiz_new, jd_skills, label_weights)\n",
    "df_new = pd.DataFrame([feats_new])\n",
    "\n",
    "# 2) ML-based decision\n",
    "decision = model.predict(df_new)[0]          # 0 or 1\n",
    "prob      = model.predict_proba(df_new)[0][1] # prob for class “1”\n",
    "print(\"Selected\" if decision else \"Not Selected\", f\"({prob:.2f} probability)\")\n"
   ]
  },
  {
   "cell_type": "code",
   "execution_count": 92,
   "id": "624fadb9-abea-401a-a881-5ef758d8c753",
   "metadata": {},
   "outputs": [
    {
     "name": "stdout",
     "output_type": "stream",
     "text": [
      "Validation performance:\n",
      "               precision    recall  f1-score   support\n",
      "\n",
      "           0       1.00      1.00      1.00        35\n",
      "           1       1.00      1.00      1.00         5\n",
      "\n",
      "    accuracy                           1.00        40\n",
      "   macro avg       1.00      1.00      1.00        40\n",
      "weighted avg       1.00      1.00      1.00        40\n",
      "\n",
      "Model saved to rf_hire_model.joblib\n",
      "Model loaded from rf_hire_model.joblib\n",
      "Selected (0.76 probability)\n"
     ]
    }
   ],
   "source": [
    "# save_and_load_model.py\n",
    "\n",
    "import pandas as pd\n",
    "import numpy as np\n",
    "from sklearn.model_selection import train_test_split\n",
    "from sklearn.ensemble import RandomForestClassifier\n",
    "from sklearn.metrics import classification_report\n",
    "import joblib  # for model persistence\n",
    "\n",
    "# --- 1. Your helper to compute features ---\n",
    "def compute_candidate_features(quiz_results, jd_skills, label_weights):\n",
    "    feats = {}\n",
    "    total_weight = sum(label_weights[label] for label in jd_skills.values())\n",
    "    weighted_sum = 0.0\n",
    "    covered = 0\n",
    "\n",
    "    for skill, label in jd_skills.items():\n",
    "        w = label_weights[label]\n",
    "        if skill in quiz_results:\n",
    "            correct, total_q = quiz_results[skill]\n",
    "            pct = (correct / total_q) * 100\n",
    "            covered += 1\n",
    "        else:\n",
    "            pct = 0.0\n",
    "        weighted = pct * w\n",
    "        feats[f\"{skill}_wt_score\"] = weighted\n",
    "        weighted_sum += weighted\n",
    "\n",
    "    feats[\"overall_weighted_avg\"] = weighted_sum / total_weight\n",
    "    feats[\"skills_covered_ratio\"] = covered / len(jd_skills)\n",
    "    feats[\"missing_skills_count\"] = len(jd_skills) - covered\n",
    "    return feats\n",
    "\n",
    "# --- 2. Define your JD skill labels & weights ---\n",
    "label_weights = {\n",
    "    \"SKILL_REQUIRED\":   1.0,\n",
    "    \"SKILL_PREFERRED\":  0.6,\n",
    "    \"SKILL_BONUS\":      0.3,\n",
    "}\n",
    "jd_skills = {\n",
    "    \"React\":         \"SKILL_PREFERRED\",\n",
    "    \"Angular\":       \"SKILL_PREFERRED\",\n",
    "    \"code‑splitting\":\"SKILL_REQUIRED\",\n",
    "    \"Jest\":          \"SKILL_REQUIRED\",\n",
    "    \"web apps\":      \"SKILL_REQUIRED\",\n",
    "    \"HTML5\":         \"SKILL_REQUIRED\",\n",
    "    # …add the rest as needed\n",
    "}\n",
    "\n",
    "# --- 3. (Re)train your model – or skip this block if you already have a trained model file ---\n",
    "# Generate synthetic data for illustration\n",
    "np.random.seed(42)\n",
    "rows = []\n",
    "for _ in range(200):\n",
    "    quiz = {s: (np.random.randint(0, 11), 10) for s in jd_skills}\n",
    "    feats = compute_candidate_features(quiz, jd_skills, label_weights)\n",
    "    label = int(feats[\"overall_weighted_avg\"] > 65)\n",
    "    feats[\"hired\"] = label\n",
    "    rows.append(feats)\n",
    "\n",
    "df = pd.DataFrame(rows)\n",
    "X = df.drop(columns=\"hired\")\n",
    "y = df[\"hired\"]\n",
    "\n",
    "X_train, X_test, y_train, y_test = train_test_split(\n",
    "    X, y, test_size=0.2, random_state=0\n",
    ")\n",
    "\n",
    "model = RandomForestClassifier(n_estimators=100, random_state=0)\n",
    "model.fit(X_train, y_train)\n",
    "\n",
    "# Optional: quick evaluation\n",
    "preds = model.predict(X_test)\n",
    "print(\"Validation performance:\\n\", classification_report(y_test, preds))\n",
    "\n",
    "# --- 4. Save your trained model to disk ---\n",
    "joblib.dump(model, \"rf_hire_model.joblib\")\n",
    "print(\"Model saved to rf_hire_model.joblib\")\n",
    "\n",
    "# -------------------------------------------------------------------\n",
    "# Now, in a separate script (or later in time), you can reload & test:\n",
    "# -------------------------------------------------------------------\n",
    "\n",
    "# --- 5. Load the persisted model ---\n",
    "loaded_model = joblib.load(\"rf_hire_model.joblib\")\n",
    "print(\"Model loaded from rf_hire_model.joblib\")\n",
    "\n",
    "# --- 6. Prepare a new candidate’s quiz results ---\n",
    "quiz_new = {\n",
    "    \"React\":         (5, 10),   # 50%\n",
    "    \"Angular\":       (5, 10),   # 50%\n",
    "    \"Jest\":          (9, 10),   # 90%\n",
    "    \"HTML5\":         (8, 10),   # 80%\n",
    "    \"web apps\":      (7, 10),   # 70%\n",
    "    \"code‑splitting\":(7, 10),   # 70%\n",
    "    # others omitted → treated as (0, *),\n",
    "}\n",
    "\n",
    "feats_new = compute_candidate_features(quiz_new, jd_skills, label_weights)\n",
    "df_new = pd.DataFrame([feats_new])\n",
    "\n",
    "# --- 7. Predict & show probability ---\n",
    "decision = loaded_model.predict(df_new)[0]            # 0 or 1\n",
    "prob      = loaded_model.predict_proba(df_new)[0][1]  # probability of class “1”\n",
    "\n",
    "label_str = \"Selected\" if decision == 1 else \"Not Selected\"\n",
    "print(f\"{label_str} ({prob:.2f} probability)\")\n"
   ]
  },
  {
   "cell_type": "markdown",
   "id": "884cf890-6c26-4b7b-8ce7-c7b3f60d225a",
   "metadata": {},
   "source": [
    "# skill matching"
   ]
  },
  {
   "cell_type": "code",
   "execution_count": 38,
   "id": "004b29c3-1b62-462e-a062-f65b74fcc931",
   "metadata": {},
   "outputs": [],
   "source": [
    "!pip install -q sentence-transformers"
   ]
  },
  {
   "cell_type": "code",
   "execution_count": 39,
   "id": "daef7655-7da0-4c00-baae-9153c3d2e6f1",
   "metadata": {},
   "outputs": [
    {
     "name": "stderr",
     "output_type": "stream",
     "text": [
      "C:\\Users\\sachi\\AppData\\Local\\Programs\\Python\\Python312\\Lib\\site-packages\\tqdm\\auto.py:21: TqdmWarning: IProgress not found. Please update jupyter and ipywidgets. See https://ipywidgets.readthedocs.io/en/stable/user_install.html\n",
      "  from .autonotebook import tqdm as notebook_tqdm\n"
     ]
    },
    {
     "name": "stdout",
     "output_type": "stream",
     "text": [
      "WARNING:tensorflow:From C:\\Users\\sachi\\AppData\\Local\\Programs\\Python\\Python312\\Lib\\site-packages\\tf_keras\\src\\losses.py:2976: The name tf.losses.sparse_softmax_cross_entropy is deprecated. Please use tf.compat.v1.losses.sparse_softmax_cross_entropy instead.\n",
      "\n"
     ]
    }
   ],
   "source": [
    "import re\n",
    "from sentence_transformers import SentenceTransformer, util"
   ]
  },
  {
   "cell_type": "code",
   "execution_count": 57,
   "id": "1c0597a1-4f5e-4200-8ef9-d2434f201487",
   "metadata": {},
   "outputs": [],
   "source": [
    "jd_text = \"\"\"\n",
    "Entities detected:\n",
    "React -> SKILL_PREFERRED\n",
    "Angular -> SKILL_PREFERRED\n",
    "code-splitting -> SKILL_REQUIRED\n",
    "dart -> SKILL_REQUIRED\n",
    "web apps -> SKILL_REQUIRED\n",
    "HTML5 -> SKILL_REQUIRED\n",
    "Flexbox/ -> SKILL_PREFERRED\n",
    "Grid -> SKILL_PREFERRED\n",
    "Vue/Angular -> SKILL_PREFERRED\n",
    "TTI -> SKILL_REQUIRED\n",
    "CLS -> SKILL_BONUS\n",
    "LCP -> SKILL_BONUS\n",
    "RESTful APIs -> SKILL_PREFERRED\n",
    "GraphQL -> SKILL_BONUS\n",
    "Git -> SKILL_REQUIRED\n",
    "including branching strategies -> SKILL_REQUIRED\n",
    "TypeScript proficiency -> SKILL_REQUIRED\n",
    "\"\"\"\n",
    "\n",
    "resume_text = \"\"\"\n",
    "🎯 Detected Skills:\n",
    "- Codeignitor\n",
    "- JavaScript\n",
    "- MySQL\n",
    "- cPanel\n",
    "- MERN\n",
    "- Laravel\n",
    "- Vue JS\n",
    "- MySQL\n",
    "- Git\n",
    "- Github\n",
    "- Data Structures\n",
    "- Agile\n",
    "- UI/ UX\n",
    "- Natura - Online\n",
    "- React\n",
    "- MySQL\n",
    "- React Native\n",
    "- MS\n",
    "- SQL Fast Learning\n",
    "- Vue\n",
    "- Mongo DB\n",
    "- JS JAVA\n",
    "- VS Code\n",
    "- flutter\n",
    "- Android Development\n",
    "- Git & Github\n",
    "- Adobe Photoshop\n",
    "\n",
    "✅ Total unique skills: 25\n",
    "\"\"\""
   ]
  },
  {
   "cell_type": "code",
   "execution_count": 58,
   "id": "1fcfe9c7-3567-4816-bcc6-bae3d02348ab",
   "metadata": {},
   "outputs": [
    {
     "name": "stdout",
     "output_type": "stream",
     "text": [
      "JD skills → {'React': 'SKILL_PREFERRED', 'Angular': 'SKILL_PREFERRED', 'code-splitting': 'SKILL_REQUIRED', 'dart': 'SKILL_REQUIRED', 'web apps': 'SKILL_REQUIRED', 'HTML5': 'SKILL_REQUIRED', 'Flexbox/': 'SKILL_PREFERRED', 'Grid': 'SKILL_PREFERRED', 'Vue/Angular': 'SKILL_PREFERRED', 'TTI': 'SKILL_REQUIRED', 'CLS': 'SKILL_BONUS', 'LCP': 'SKILL_BONUS', 'RESTful APIs': 'SKILL_PREFERRED', 'GraphQL': 'SKILL_BONUS', 'Git': 'SKILL_REQUIRED', 'including branching strategies': 'SKILL_REQUIRED', 'TypeScript proficiency': 'SKILL_REQUIRED'}\n",
      "Resume skills → ['Codeignitor', 'JavaScript', 'MySQL', 'cPanel', 'MERN', 'Laravel', 'Vue JS', 'Git', 'Github', 'Data Structures', 'Agile', 'UI/ UX', 'Natura - Online', 'React', 'React Native', 'MS', 'SQL Fast Learning', 'Vue', 'Mongo DB', 'JS JAVA', 'VS Code', 'flutter', 'Android Development', 'Git & Github', 'Adobe Photoshop']\n"
     ]
    }
   ],
   "source": [
    "def parse_jd_entities(text):\n",
    "    \"\"\"Return dict {skill: label} from lines like 'X -> SKILL_Y'.\"\"\"\n",
    "    pattern = r'^\\s*(.+?)\\s*->\\s*(SKILL_[A-Z]+)\\s*$'\n",
    "    jd = {}\n",
    "    for line in text.splitlines():\n",
    "        m = re.match(pattern, line)\n",
    "        if m:\n",
    "            skill, label = m.groups()\n",
    "            jd[skill.strip()] = label\n",
    "    return jd\n",
    "\n",
    "def parse_resume_skills(text):\n",
    "    \"\"\"Return list of skills from lines beginning with '-'.\"\"\"\n",
    "    skills = []\n",
    "    for line in text.splitlines():\n",
    "        line = line.strip()\n",
    "        if line.startswith('-'):\n",
    "            skills.append(line.lstrip('-').strip())\n",
    "    return list(dict.fromkeys(skills))  # dedupe, preserve order\n",
    "\n",
    "jd_skills_dict = parse_jd_entities(jd_text)\n",
    "resume_skills = parse_resume_skills(resume_text)\n",
    "\n",
    "print(\"JD skills →\", jd_skills_dict)\n",
    "print(\"Resume skills →\", resume_skills)"
   ]
  },
  {
   "cell_type": "code",
   "execution_count": 59,
   "id": "ae68fdc5-0ade-4976-86c5-a6cd272d203d",
   "metadata": {},
   "outputs": [],
   "source": [
    "model = SentenceTransformer('all-MiniLM-L6-v2')\n",
    "jd_skills = list(jd_skills_dict.keys())\n",
    "jd_emb = model.encode(jd_skills, convert_to_tensor=True)\n",
    "resume_emb = model.encode(resume_skills, convert_to_tensor=True)"
   ]
  },
  {
   "cell_type": "code",
   "execution_count": 60,
   "id": "f2e83eec-7610-4c96-a5ef-565452692eed",
   "metadata": {},
   "outputs": [
    {
     "name": "stdout",
     "output_type": "stream",
     "text": [
      "Codeignitor          ➞ HTML5                (SKILL_REQUIRED), score 0.366\n",
      "JavaScript           ➞ HTML5                (SKILL_REQUIRED), score 0.528\n",
      "MySQL                ➞ GraphQL              (SKILL_BONUS), score 0.502\n",
      "cPanel               ➞ CLS                  (SKILL_BONUS), score 0.399\n",
      "MERN                 ➞ CLS                  (SKILL_BONUS), score 0.314\n",
      "Laravel              ➞ RESTful APIs         (SKILL_PREFERRED), score 0.270\n",
      "Vue JS               ➞ Vue/Angular          (SKILL_PREFERRED), score 0.748\n",
      "Git                  ➞ Git                  (SKILL_REQUIRED), score 1.000\n",
      "Github               ➞ Git                  (SKILL_REQUIRED), score 0.759\n",
      "Data Structures      ➞ GraphQL              (SKILL_BONUS), score 0.353\n",
      "Agile                ➞ including branching strategies (SKILL_REQUIRED), score 0.375\n",
      "UI/ UX               ➞ web apps             (SKILL_REQUIRED), score 0.332\n",
      "Natura - Online      ➞ TTI                  (SKILL_REQUIRED), score 0.294\n",
      "React                ➞ React                (SKILL_PREFERRED), score 1.000\n",
      "React Native         ➞ React                (SKILL_PREFERRED), score 0.740\n",
      "MS                   ➞ Grid                 (SKILL_PREFERRED), score 0.291\n",
      "SQL Fast Learning    ➞ GraphQL              (SKILL_BONUS), score 0.211\n",
      "Vue                  ➞ Vue/Angular          (SKILL_PREFERRED), score 0.709\n",
      "Mongo DB             ➞ GraphQL              (SKILL_BONUS), score 0.350\n",
      "JS JAVA              ➞ HTML5                (SKILL_REQUIRED), score 0.379\n",
      "VS Code              ➞ code-splitting       (SKILL_REQUIRED), score 0.444\n",
      "flutter              ➞ dart                 (SKILL_REQUIRED), score 0.727\n",
      "Android Development  ➞ web apps             (SKILL_REQUIRED), score 0.332\n",
      "Git & Github         ➞ Git                  (SKILL_REQUIRED), score 0.739\n",
      "Adobe Photoshop      ➞ Grid                 (SKILL_PREFERRED), score 0.307\n"
     ]
    }
   ],
   "source": [
    "hits = util.semantic_search(resume_emb, jd_emb, top_k=1)\n",
    "\n",
    "for i, hit in enumerate(hits):\n",
    "    res_skill = resume_skills[i]\n",
    "    jd_idx = hit[0]['corpus_id']\n",
    "    score  = hit[0]['score']\n",
    "    jd_skill = jd_skills[jd_idx]\n",
    "    label    = jd_skills_dict[jd_skill]\n",
    "    print(f\"{res_skill:20s} ➞ {jd_skill:20s} ({label}), score {score:.3f}\")"
   ]
  },
  {
   "cell_type": "code",
   "execution_count": 61,
   "id": "7a20e396-c213-4c47-b903-ab7b75d35fba",
   "metadata": {},
   "outputs": [
    {
     "name": "stdout",
     "output_type": "stream",
     "text": [
      "Git                  ➞ Git                  (SKILL_REQUIRED), score 1.000\n",
      "React                ➞ React                (SKILL_PREFERRED), score 1.000\n"
     ]
    }
   ],
   "source": []
  },
  {
   "cell_type": "code",
   "execution_count": null,
   "id": "a73948df-d0ca-4c9d-b472-bcc54aaf8a6d",
   "metadata": {},
   "outputs": [],
   "source": []
  },
  {
   "cell_type": "code",
   "execution_count": null,
   "id": "b43ab6e8-310c-43ca-90ae-d473f96b2127",
   "metadata": {},
   "outputs": [],
   "source": []
  },
  {
   "cell_type": "markdown",
   "id": "49643087-2299-442c-93aa-c93a916e10ff",
   "metadata": {},
   "source": [
    "# "
   ]
  },
  {
   "cell_type": "code",
   "execution_count": 96,
   "id": "13f71619-0add-42a6-a034-3ec67e632b4b",
   "metadata": {},
   "outputs": [
    {
     "name": "stdout",
     "output_type": "stream",
     "text": [
      "Matched resume skills: ['JavaScript', 'MySQL', 'Vue JS', 'Git', 'Github', 'React', 'React Native', 'Vue', 'Git & Github']\n",
      "\n",
      "1. (React) Which category best describes React?\n",
      "   A) Front‑end framework\n",
      "   B) Back‑end framework\n",
      "   C) Security standard\n",
      "   D) Styling language\n"
     ]
    },
    {
     "name": "stdin",
     "output_type": "stream",
     "text": [
      "Your answer (A-D):  A\n"
     ]
    },
    {
     "name": "stdout",
     "output_type": "stream",
     "text": [
      "\n",
      "2. (React) Who primarily maintains React?\n",
      "   A) Various\n",
      "   B) Corporate\n",
      "   C) Foundation\n",
      "   D) Independent\n"
     ]
    },
    {
     "name": "stdin",
     "output_type": "stream",
     "text": [
      "Your answer (A-D):  A\n"
     ]
    },
    {
     "name": "stdout",
     "output_type": "stream",
     "text": [
      "\n",
      "3. (React) In which year was React first released?\n",
      "   A) 1997\n",
      "   B) 1999\n",
      "   C) 1998\n",
      "   D) 2000\n"
     ]
    },
    {
     "name": "stdin",
     "output_type": "stream",
     "text": [
      "Your answer (A-D):  A\n"
     ]
    },
    {
     "name": "stdout",
     "output_type": "stream",
     "text": [
      "\n",
      "4. (React) What is a common file extension associated with React?\n",
      "   A) .json\n",
      "   B) nan\n",
      "   C) .js\n",
      "   D) .yaml\n"
     ]
    },
    {
     "name": "stdin",
     "output_type": "stream",
     "text": [
      "Your answer (A-D):  A\n"
     ]
    },
    {
     "name": "stdout",
     "output_type": "stream",
     "text": [
      "\n",
      "5. (React) What is a primary use case of React?\n",
      "   A) Working with front‑end framework\n",
      "   B) Working with security standard\n",
      "   C) Working with mobile framework\n",
      "   D) Working with testing framework\n"
     ]
    },
    {
     "name": "stdin",
     "output_type": "stream",
     "text": [
      "Your answer (A-D):  A\n"
     ]
    },
    {
     "name": "stdout",
     "output_type": "stream",
     "text": [
      "\n",
      "6. (React) Which command is commonly used to install or initialize React?\n",
      "   A) apt-get install pkg\n",
      "   B) nan\n",
      "   C) brew install pkg\n",
      "   D) npm install react\n"
     ]
    },
    {
     "name": "stdin",
     "output_type": "stream",
     "text": [
      "Your answer (A-D):  A\n"
     ]
    },
    {
     "name": "stdout",
     "output_type": "stream",
     "text": [
      "\n",
      "7. (React) What is the primary programming language associated with React?\n",
      "   A) Swift\n",
      "   B) JavaScript\n",
      "   C) Python\n",
      "   D) nan\n"
     ]
    },
    {
     "name": "stdin",
     "output_type": "stream",
     "text": [
      "Your answer (A-D):  A\n"
     ]
    },
    {
     "name": "stdout",
     "output_type": "stream",
     "text": [
      "\n",
      "8. (React) Which of these is a key feature of React?\n",
      "   A) Component‑based UI\n",
      "   B) Event loop\n",
      "   C) Routing\n",
      "   D) Schema‑based queries\n"
     ]
    },
    {
     "name": "stdin",
     "output_type": "stream",
     "text": [
      "Your answer (A-D):  A\n"
     ]
    },
    {
     "name": "stdout",
     "output_type": "stream",
     "text": [
      "\n",
      "9. (React) Which of the following could be considered a competitor or alternative to React?\n",
      "   A) GCP\n",
      "   B) SQLite\n",
      "   C) Vue\n",
      "   D) Bash\n"
     ]
    },
    {
     "name": "stdin",
     "output_type": "stream",
     "text": [
      "Your answer (A-D):  A\n"
     ]
    },
    {
     "name": "stdout",
     "output_type": "stream",
     "text": [
      "\n",
      "10. (React) Under which license is React primarily distributed?\n",
      "   A) MIT\n",
      "   B) Public Domain\n",
      "   C) MPL‑2.0\n",
      "   D) Proprietary\n"
     ]
    },
    {
     "name": "stdin",
     "output_type": "stream",
     "text": [
      "Your answer (A-D):  A\n"
     ]
    },
    {
     "name": "stdout",
     "output_type": "stream",
     "text": [
      "\n",
      "11. (JavaScript) Which category best describes JavaScript?\n",
      "   A) Operating system\n",
      "   B) Technology\n",
      "   C) Back‑end runtime\n",
      "   D) Security protocol\n"
     ]
    },
    {
     "name": "stdin",
     "output_type": "stream",
     "text": [
      "Your answer (A-D):  A\n"
     ]
    },
    {
     "name": "stdout",
     "output_type": "stream",
     "text": [
      "\n",
      "12. (JavaScript) Who primarily maintains JavaScript?\n",
      "   A) Community\n",
      "   B) Various\n",
      "   C) Foundation\n",
      "   D) Independent\n"
     ]
    },
    {
     "name": "stdin",
     "output_type": "stream",
     "text": [
      "Your answer (A-D):  A\n"
     ]
    },
    {
     "name": "stdout",
     "output_type": "stream",
     "text": [
      "\n",
      "13. (JavaScript) In which year was JavaScript first released?\n",
      "   A) 1992\n",
      "   B) 1990\n",
      "   C) 1987\n",
      "   D) 1988\n"
     ]
    },
    {
     "name": "stdin",
     "output_type": "stream",
     "text": [
      "Your answer (A-D):  A\n"
     ]
    },
    {
     "name": "stdout",
     "output_type": "stream",
     "text": [
      "\n",
      "14. (JavaScript) What is a common file extension associated with JavaScript?\n",
      "   A) .css\n",
      "   B) .py\n",
      "   C) .js\n",
      "   D) nan\n"
     ]
    },
    {
     "name": "stdin",
     "output_type": "stream",
     "text": [
      "Your answer (A-D):  A\n"
     ]
    },
    {
     "name": "stdout",
     "output_type": "stream",
     "text": [
      "\n",
      "15. (JavaScript) What is a primary use case of JavaScript?\n",
      "   A) Working with technology\n",
      "   B) Working with programming language\n",
      "   C) Working with testing framework\n",
      "   D) Working with networking protocol\n"
     ]
    },
    {
     "name": "stdin",
     "output_type": "stream",
     "text": [
      "Your answer (A-D):  A\n"
     ]
    },
    {
     "name": "stdout",
     "output_type": "stream",
     "text": [
      "\n",
      "16. (JavaScript) Which command is commonly used to install or initialize JavaScript?\n",
      "   A) brew install pkg\n",
      "   B) pip install package\n",
      "   C) npm install package\n",
      "   D) nan\n"
     ]
    },
    {
     "name": "stdin",
     "output_type": "stream",
     "text": [
      "Your answer (A-D):  A\n"
     ]
    },
    {
     "name": "stdout",
     "output_type": "stream",
     "text": [
      "\n",
      "17. (JavaScript) What is the primary programming language associated with JavaScript?\n",
      "   A) Kotlin\n",
      "   B) JavaScript\n",
      "   C) Swift\n",
      "   D) Go\n"
     ]
    },
    {
     "name": "stdin",
     "output_type": "stream",
     "text": [
      "Your answer (A-D):  A\n"
     ]
    },
    {
     "name": "stdout",
     "output_type": "stream",
     "text": [
      "\n",
      "18. (JavaScript) Which of these is a key feature of JavaScript?\n",
      "   A) Event loop\n",
      "   B) Feature X\n",
      "   C) Publish‑subscribe\n",
      "   D) Native bridges\n"
     ]
    },
    {
     "name": "stdin",
     "output_type": "stream",
     "text": [
      "Your answer (A-D):  A\n"
     ]
    },
    {
     "name": "stdout",
     "output_type": "stream",
     "text": [
      "\n",
      "19. (JavaScript) Which of the following could be considered a competitor or alternative to JavaScript?\n",
      "   A) Kubernetes\n",
      "   B) Jest\n",
      "   C) Kotlin\n",
      "   D) Python\n"
     ]
    },
    {
     "name": "stdin",
     "output_type": "stream",
     "text": [
      "Your answer (A-D):  A\n"
     ]
    },
    {
     "name": "stdout",
     "output_type": "stream",
     "text": [
      "\n",
      "20. (JavaScript) Under which license is JavaScript primarily distributed?\n",
      "   A) MIT\n",
      "   B) Proprietary\n",
      "   C) GPL‑2.0\n",
      "   D) BSD\n"
     ]
    },
    {
     "name": "stdin",
     "output_type": "stream",
     "text": [
      "Your answer (A-D):  A\n"
     ]
    },
    {
     "name": "stdout",
     "output_type": "stream",
     "text": [
      "\n",
      "21. (Vue) Which category best describes Vue?\n",
      "   A) Cloud platform\n",
      "   B) DevOps tool\n",
      "   C) Data library\n",
      "   D) Front‑end framework\n"
     ]
    },
    {
     "name": "stdin",
     "output_type": "stream",
     "text": [
      "Your answer (A-D):  A\n"
     ]
    },
    {
     "name": "stdout",
     "output_type": "stream",
     "text": [
      "\n",
      "22. (Vue) Who primarily maintains Vue?\n",
      "   A) Various\n",
      "   B) Community\n",
      "   C) Independent\n",
      "   D) Foundation\n"
     ]
    },
    {
     "name": "stdin",
     "output_type": "stream",
     "text": [
      "Your answer (A-D):  A\n"
     ]
    },
    {
     "name": "stdout",
     "output_type": "stream",
     "text": [
      "\n",
      "23. (Vue) In which year was Vue first released?\n",
      "   A) 2011\n",
      "   B) 2014\n",
      "   C) 2013\n",
      "   D) 2010\n"
     ]
    },
    {
     "name": "stdin",
     "output_type": "stream",
     "text": [
      "Your answer (A-D):  A\n"
     ]
    },
    {
     "name": "stdout",
     "output_type": "stream",
     "text": [
      "\n",
      "24. (Vue) What is a common file extension associated with Vue?\n",
      "   A) .json\n",
      "   B) .cs\n",
      "   C) nan\n",
      "   D) .css\n"
     ]
    },
    {
     "name": "stdin",
     "output_type": "stream",
     "text": [
      "Your answer (A-D):  A\n"
     ]
    },
    {
     "name": "stdout",
     "output_type": "stream",
     "text": [
      "\n",
      "25. (Vue) What is a primary use case of Vue?\n",
      "   A) Working with devops tool\n",
      "   B) Working with front‑end framework\n",
      "   C) Working with security standard\n",
      "   D) Working with networking protocol\n"
     ]
    },
    {
     "name": "stdin",
     "output_type": "stream",
     "text": [
      "Your answer (A-D):  A\n"
     ]
    },
    {
     "name": "stdout",
     "output_type": "stream",
     "text": [
      "\n",
      "26. (Vue) Which command is commonly used to install or initialize Vue?\n",
      "   A) pip install package\n",
      "   B) nan\n",
      "   C) npm install vue\n",
      "   D) npm install package\n"
     ]
    },
    {
     "name": "stdin",
     "output_type": "stream",
     "text": [
      "Your answer (A-D):  A\n"
     ]
    },
    {
     "name": "stdout",
     "output_type": "stream",
     "text": [
      "\n",
      "27. (Vue) What is the primary programming language associated with Vue?\n",
      "   A) C#\n",
      "   B) JavaScript\n",
      "   C) TypeScript\n",
      "   D) Swift\n"
     ]
    },
    {
     "name": "stdin",
     "output_type": "stream",
     "text": [
      "Your answer (A-D):  A\n"
     ]
    },
    {
     "name": "stdout",
     "output_type": "stream",
     "text": [
      "\n",
      "28. (Vue) Which of these is a key feature of Vue?\n",
      "   A) Data manipulation\n",
      "   B) Full‑duplex\n",
      "   C) Component‑based UI\n",
      "   D) Command scripting\n"
     ]
    },
    {
     "name": "stdin",
     "output_type": "stream",
     "text": [
      "Your answer (A-D):  A\n"
     ]
    },
    {
     "name": "stdout",
     "output_type": "stream",
     "text": [
      "\n",
      "29. (Vue) Which of the following could be considered a competitor or alternative to Vue?\n",
      "   A) MySQL\n",
      "   B) GitHub Actions\n",
      "   C) RabbitMQ\n",
      "   D) Go\n"
     ]
    },
    {
     "name": "stdin",
     "output_type": "stream",
     "text": [
      "Your answer (A-D):  A\n"
     ]
    },
    {
     "name": "stdout",
     "output_type": "stream",
     "text": [
      "\n",
      "30. (Vue) Under which license is Vue primarily distributed?\n",
      "   A) Proprietary\n",
      "   B) GPL‑2.0\n",
      "   C) BSD\n",
      "   D) MPL‑2.0\n"
     ]
    },
    {
     "name": "stdin",
     "output_type": "stream",
     "text": [
      "Your answer (A-D):  A\n"
     ]
    },
    {
     "name": "stdout",
     "output_type": "stream",
     "text": [
      "\n",
      "31. (MySQL) Which category best describes MySQL?\n",
      "   A) Database\n",
      "   B) Security protocol\n",
      "   C) Front‑end framework\n",
      "   D) Styling language\n"
     ]
    },
    {
     "name": "stdin",
     "output_type": "stream",
     "text": [
      "Your answer (A-D):  A\n"
     ]
    },
    {
     "name": "stdout",
     "output_type": "stream",
     "text": [
      "\n",
      "32. (MySQL) Who primarily maintains MySQL?\n",
      "   A) Foundation\n",
      "   B) Various\n",
      "   C) Corporate\n",
      "   D) Community\n"
     ]
    },
    {
     "name": "stdin",
     "output_type": "stream",
     "text": [
      "Your answer (A-D):  A\n"
     ]
    },
    {
     "name": "stdout",
     "output_type": "stream",
     "text": [
      "\n",
      "33. (MySQL) In which year was MySQL first released?\n",
      "   A) 2006\n",
      "   B) 2007\n",
      "   C) 2004\n",
      "   D) 2005\n"
     ]
    },
    {
     "name": "stdin",
     "output_type": "stream",
     "text": [
      "Your answer (A-D):  A\n"
     ]
    },
    {
     "name": "stdout",
     "output_type": "stream",
     "text": [
      "\n",
      "34. (MySQL) What is a common file extension associated with MySQL?\n",
      "   A) .rs\n",
      "   B) .html\n",
      "   C) .sql\n",
      "   D) nan\n"
     ]
    },
    {
     "name": "stdin",
     "output_type": "stream",
     "text": [
      "Your answer (A-D):  A\n"
     ]
    },
    {
     "name": "stdout",
     "output_type": "stream",
     "text": [
      "\n",
      "35. (MySQL) What is a primary use case of MySQL?\n",
      "   A) Working with programming language\n",
      "   B) Working with back‑end runtime\n",
      "   C) Working with devops tool\n",
      "   D) Working with database\n"
     ]
    },
    {
     "name": "stdin",
     "output_type": "stream",
     "text": [
      "Your answer (A-D):  A\n"
     ]
    },
    {
     "name": "stdout",
     "output_type": "stream",
     "text": [
      "\n",
      "36. (MySQL) Which command is commonly used to install or initialize MySQL?\n",
      "   A) nan\n",
      "   B) pip install package\n",
      "   C) brew install pkg\n",
      "   D) npm install package\n"
     ]
    },
    {
     "name": "stdin",
     "output_type": "stream",
     "text": [
      "Your answer (A-D):  A\n"
     ]
    },
    {
     "name": "stdout",
     "output_type": "stream",
     "text": [
      "\n",
      "37. (MySQL) What is the primary programming language associated with MySQL?\n",
      "   A) Swift\n",
      "   B) TypeScript\n",
      "   C) Python\n",
      "   D) nan\n"
     ]
    },
    {
     "name": "stdin",
     "output_type": "stream",
     "text": [
      "Your answer (A-D):  A\n"
     ]
    },
    {
     "name": "stdout",
     "output_type": "stream",
     "text": [
      "\n",
      "38. (MySQL) Which of these is a key feature of MySQL?\n",
      "   A) Loose coupling\n",
      "   B) Data manipulation\n",
      "   C) Data storage\n",
      "   D) Native bridges\n"
     ]
    },
    {
     "name": "stdin",
     "output_type": "stream",
     "text": [
      "Your answer (A-D):  A\n"
     ]
    },
    {
     "name": "stdout",
     "output_type": "stream",
     "text": [
      "\n",
      "39. (MySQL) Which of the following could be considered a competitor or alternative to MySQL?\n",
      "   A) Pandas\n",
      "   B) NumPy\n",
      "   C) CircleCI\n",
      "   D) Java\n"
     ]
    },
    {
     "name": "stdin",
     "output_type": "stream",
     "text": [
      "Your answer (A-D):  A\n"
     ]
    },
    {
     "name": "stdout",
     "output_type": "stream",
     "text": [
      "\n",
      "40. (MySQL) Under which license is MySQL primarily distributed?\n",
      "   A) Proprietary\n",
      "   B) MIT\n",
      "   C) MPL‑2.0\n",
      "   D) Apache‑2.0\n"
     ]
    },
    {
     "name": "stdin",
     "output_type": "stream",
     "text": [
      "Your answer (A-D):  A\n"
     ]
    },
    {
     "name": "stdout",
     "output_type": "stream",
     "text": [
      "\n",
      "41. (Git) Which category best describes Git?\n",
      "   A) DevOps tool\n",
      "   B) Machine learning library\n",
      "   C) Security standard\n",
      "   D) Technology\n"
     ]
    },
    {
     "name": "stdin",
     "output_type": "stream",
     "text": [
      "Your answer (A-D):  A\n"
     ]
    },
    {
     "name": "stdout",
     "output_type": "stream",
     "text": [
      "\n",
      "42. (Git) Who primarily maintains Git?\n",
      "   A) Corporate\n",
      "   B) Various\n",
      "   C) Independent\n",
      "   D) Community\n"
     ]
    },
    {
     "name": "stdin",
     "output_type": "stream",
     "text": [
      "Your answer (A-D):  A\n"
     ]
    },
    {
     "name": "stdout",
     "output_type": "stream",
     "text": [
      "\n",
      "43. (Git) In which year was Git first released?\n",
      "   A) 2006\n",
      "   B) 2004\n",
      "   C) 2005\n",
      "   D) 2007\n"
     ]
    },
    {
     "name": "stdin",
     "output_type": "stream",
     "text": [
      "Your answer (A-D):  A\n"
     ]
    },
    {
     "name": "stdout",
     "output_type": "stream",
     "text": [
      "\n",
      "44. (Git) What is a common file extension associated with Git?\n",
      "   A) nan\n",
      "   B) .ts\n",
      "   C) .rs\n",
      "   D) .yml\n"
     ]
    },
    {
     "name": "stdin",
     "output_type": "stream",
     "text": [
      "Your answer (A-D):  A\n"
     ]
    },
    {
     "name": "stdout",
     "output_type": "stream",
     "text": [
      "\n",
      "45. (Git) What is a primary use case of Git?\n",
      "   A) Working with devops tool\n",
      "   B) Working with database\n",
      "   C) Working with programming language\n",
      "   D) Working with security standard\n"
     ]
    },
    {
     "name": "stdin",
     "output_type": "stream",
     "text": [
      "Your answer (A-D):  A\n"
     ]
    },
    {
     "name": "stdout",
     "output_type": "stream",
     "text": [
      "\n",
      "46. (Git) Which command is commonly used to install or initialize Git?\n",
      "   A) pip install package\n",
      "   B) apt-get install pkg\n",
      "   C) npm install package\n",
      "   D) nan\n"
     ]
    },
    {
     "name": "stdin",
     "output_type": "stream",
     "text": [
      "Your answer (A-D):  A\n"
     ]
    },
    {
     "name": "stdout",
     "output_type": "stream",
     "text": [
      "\n",
      "47. (Git) What is the primary programming language associated with Git?\n",
      "   A) JavaScript\n",
      "   B) nan\n",
      "   C) Go\n",
      "   D) Python\n"
     ]
    },
    {
     "name": "stdin",
     "output_type": "stream",
     "text": [
      "Your answer (A-D):  A\n"
     ]
    },
    {
     "name": "stdout",
     "output_type": "stream",
     "text": [
      "\n",
      "48. (Git) Which of these is a key feature of Git?\n",
      "   A) Semantic tags\n",
      "   B) Schema‑based queries\n",
      "   C) Automation\n",
      "   D) Cascade\n"
     ]
    },
    {
     "name": "stdin",
     "output_type": "stream",
     "text": [
      "Your answer (A-D):  A\n"
     ]
    },
    {
     "name": "stdout",
     "output_type": "stream",
     "text": [
      "\n",
      "49. (Git) Which of the following could be considered a competitor or alternative to Git?\n",
      "   A) C#\n",
      "   B) Bash\n",
      "   C) React\n",
      "   D) Kubernetes\n"
     ]
    },
    {
     "name": "stdin",
     "output_type": "stream",
     "text": [
      "Your answer (A-D):  A\n"
     ]
    },
    {
     "name": "stdout",
     "output_type": "stream",
     "text": [
      "\n",
      "50. (Git) Under which license is Git primarily distributed?\n",
      "   A) MPL‑2.0\n",
      "   B) MIT\n",
      "   C) BSD\n",
      "   D) GPL‑2.0\n"
     ]
    },
    {
     "name": "stdin",
     "output_type": "stream",
     "text": [
      "Your answer (A-D):  A\n"
     ]
    },
    {
     "name": "stdout",
     "output_type": "stream",
     "text": [
      "\n",
      "51. (React Native) Which category best describes React Native?\n",
      "   A) Database\n",
      "   B) Architecture style\n",
      "   C) Technology\n",
      "   D) Mobile framework\n"
     ]
    },
    {
     "name": "stdin",
     "output_type": "stream",
     "text": [
      "Your answer (A-D):  A\n"
     ]
    },
    {
     "name": "stdout",
     "output_type": "stream",
     "text": [
      "\n",
      "52. (React Native) Who primarily maintains React Native?\n",
      "   A) Community\n",
      "   B) Foundation\n",
      "   C) Independent\n",
      "   D) Various\n"
     ]
    },
    {
     "name": "stdin",
     "output_type": "stream",
     "text": [
      "Your answer (A-D):  A\n"
     ]
    },
    {
     "name": "stdout",
     "output_type": "stream",
     "text": [
      "\n",
      "53. (React Native) In which year was React Native first released?\n",
      "   A) 1993\n",
      "   B) 1994\n",
      "   C) 1995\n",
      "   D) 1997\n"
     ]
    },
    {
     "name": "stdin",
     "output_type": "stream",
     "text": [
      "Your answer (A-D):  A\n"
     ]
    },
    {
     "name": "stdout",
     "output_type": "stream",
     "text": [
      "\n",
      "54. (React Native) What is a common file extension associated with React Native?\n",
      "   A) nan\n",
      "   B) .py\n",
      "   C) .go\n",
      "   D) .rs\n"
     ]
    },
    {
     "name": "stdin",
     "output_type": "stream",
     "text": [
      "Your answer (A-D):  A\n"
     ]
    },
    {
     "name": "stdout",
     "output_type": "stream",
     "text": [
      "\n",
      "55. (React Native) What is a primary use case of React Native?\n",
      "   A) Working with programming language\n",
      "   B) Working with networking protocol\n",
      "   C) Working with security standard\n",
      "   D) Working with mobile framework\n"
     ]
    },
    {
     "name": "stdin",
     "output_type": "stream",
     "text": [
      "Your answer (A-D):  A\n"
     ]
    },
    {
     "name": "stdout",
     "output_type": "stream",
     "text": [
      "\n",
      "56. (React Native) Which command is commonly used to install or initialize React Native?\n",
      "   A) npm install package\n",
      "   B) apt-get install pkg\n",
      "   C) pip install package\n",
      "   D) nan\n"
     ]
    },
    {
     "name": "stdin",
     "output_type": "stream",
     "text": [
      "Your answer (A-D):  A\n"
     ]
    },
    {
     "name": "stdout",
     "output_type": "stream",
     "text": [
      "\n",
      "57. (React Native) What is the primary programming language associated with React Native?\n",
      "   A) C#\n",
      "   B) nan\n",
      "   C) Python\n",
      "   D) Python\n"
     ]
    },
    {
     "name": "stdin",
     "output_type": "stream",
     "text": [
      "Your answer (A-D):  A\n"
     ]
    },
    {
     "name": "stdout",
     "output_type": "stream",
     "text": [
      "\n",
      "58. (React Native) Which of these is a key feature of React Native?\n",
      "   A) Native bridges\n",
      "   B) Data manipulation\n",
      "   C) Component‑based UI\n",
      "   D) Signed tokens\n"
     ]
    },
    {
     "name": "stdin",
     "output_type": "stream",
     "text": [
      "Your answer (A-D):  A\n"
     ]
    },
    {
     "name": "stdout",
     "output_type": "stream",
     "text": [
      "\n",
      "59. (React Native) Which of the following could be considered a competitor or alternative to React Native?\n",
      "   A) TensorFlow\n",
      "   B) Vue\n",
      "   C) Flask\n",
      "   D) Angular\n"
     ]
    },
    {
     "name": "stdin",
     "output_type": "stream",
     "text": [
      "Your answer (A-D):  A\n"
     ]
    },
    {
     "name": "stdout",
     "output_type": "stream",
     "text": [
      "\n",
      "60. (React Native) Under which license is React Native primarily distributed?\n",
      "   A) Apache‑2.0\n",
      "   B) Public Domain\n",
      "   C) MPL‑2.0\n",
      "   D) MIT\n"
     ]
    },
    {
     "name": "stdin",
     "output_type": "stream",
     "text": [
      "Your answer (A-D):  A\n"
     ]
    },
    {
     "name": "stdout",
     "output_type": "stream",
     "text": [
      "\n",
      "--- Your Scores ---\n",
      "JavaScript: 20%\n",
      "MySQL: 10%\n",
      "Vue JS: 0%\n",
      "Git: 40%\n",
      "Github: 0%\n",
      "React: 50%\n",
      "React Native: 10%\n",
      "Vue: 30%\n",
      "Git & Github: 0%\n"
     ]
    }
   ],
   "source": [
    "# 0) Install dependencies (uncomment if needed)\n",
    "# !pip install -q sentence-transformers\n",
    "\n",
    "import re\n",
    "import json\n",
    "from collections import defaultdict\n",
    "from sentence_transformers import SentenceTransformer, util\n",
    "\n",
    "# —————————————————————————————————————————————\n",
    "# 1) Your raw extractor outputs\n",
    "# —————————————————————————————————————————————\n",
    "jd_text = \"\"\"\n",
    "Entities detected:\n",
    "React -> SKILL_PREFERRED\n",
    "Angular -> SKILL_PREFERRED\n",
    "code-splitting -> SKILL_REQUIRED\n",
    "Jest -> SKILL_REQUIRED\n",
    "web apps -> SKILL_REQUIRED\n",
    "HTML5 -> SKILL_REQUIRED\n",
    "Flexbox/ -> SKILL_PREFERRED\n",
    "Grid -> SKILL_PREFERRED\n",
    "Vue/Angular -> SKILL_PREFERRED\n",
    "TTI -> SKILL_REQUIRED\n",
    "CLS -> SKILL_BONUS\n",
    "LCP -> SKILL_BONUS\n",
    "RESTful APIs -> SKILL_PREFERRED\n",
    "GraphQL -> SKILL_BONUS\n",
    "Git -> SKILL_REQUIRED\n",
    "including branching strategies -> SKILL_REQUIRED\n",
    "TypeScript proficiency -> SKILL_REQUIRED\n",
    "\"\"\"\n",
    "\n",
    "resume_text = \"\"\"\n",
    "🎯 Detected Skills:\n",
    "- Codeignitor\n",
    "- JavaScript\n",
    "- MySQL\n",
    "- cPanel\n",
    "- MERN\n",
    "- Laravel\n",
    "- Vue JS\n",
    "- MySQL\n",
    "- Git\n",
    "- Github\n",
    "- Data Structures\n",
    "- Agile\n",
    "- UI/ UX\n",
    "- Natura - Online\n",
    "- React\n",
    "- MySQL\n",
    "- React Native\n",
    "- MS\n",
    "- SQL Fast Learning\n",
    "- Vue\n",
    "- Mongo DB\n",
    "- JS JAVA\n",
    "- VS Code\n",
    "- Postman\n",
    "- Android Development\n",
    "- Git & Github\n",
    "- Adobe Photoshop\n",
    "\"\"\"\n",
    "\n",
    "# —————————————————————————————————————————————\n",
    "# 2) Parse functions\n",
    "# —————————————————————————————————————————————\n",
    "def parse_jd(text):\n",
    "    jd = {}\n",
    "    for line in text.splitlines():\n",
    "        m = re.match(r'^\\s*(.+?)\\s*->\\s*(SKILL_[A-Z]+)\\s*$', line)\n",
    "        if m:\n",
    "            skill, label = m.groups()\n",
    "            jd[skill.strip()] = label\n",
    "    return jd\n",
    "\n",
    "def parse_resume(text):\n",
    "    skills = []\n",
    "    for line in text.splitlines():\n",
    "        line = line.strip()\n",
    "        if line.startswith('-'):\n",
    "            skills.append(line.lstrip('-').strip())\n",
    "    # dedupe, preserve order\n",
    "    return list(dict.fromkeys(skills))\n",
    "\n",
    "jd_dict       = parse_jd(jd_text)\n",
    "resume_skills = parse_resume(resume_text)\n",
    "jd_skills     = list(jd_dict.keys())\n",
    "\n",
    "# —————————————————————————————————————————————\n",
    "# 3) Embed & match\n",
    "# —————————————————————————————————————————————\n",
    "model       = SentenceTransformer('all-MiniLM-L6-v2')\n",
    "jd_emb      = model.encode(jd_skills,     convert_to_tensor=True)\n",
    "resume_emb  = model.encode(resume_skills, convert_to_tensor=True)\n",
    "\n",
    "# find best JD match for each resume skill\n",
    "hits = util.semantic_search(resume_emb, jd_emb, top_k=1)\n",
    "\n",
    "# threshold to decide “keep this match”\n",
    "THRESHOLD = 0.5\n",
    "\n",
    "matched_resume_skills = []\n",
    "for i, hit in enumerate(hits):\n",
    "    score    = hit[0]['score']\n",
    "    jd_idx   = hit[0]['corpus_id']\n",
    "    res_skill = resume_skills[i]\n",
    "    if score >= THRESHOLD:\n",
    "        matched_resume_skills.append(res_skill)\n",
    "\n",
    "# dedupe again (if any duplicates)\n",
    "matched_resume_skills = list(dict.fromkeys(matched_resume_skills))\n",
    "\n",
    "print(\"Matched resume skills:\", matched_resume_skills)\n",
    "\n",
    "# —————————————————————————————————————————————\n",
    "# 4) Load MCQs and filter by matched skills\n",
    "# —————————————————————————————————————————————\n",
    "SKILLS = matched_resume_skills\n",
    "\n",
    "with open(\"mcq.json\", \"r\", encoding=\"utf-8\") as f:\n",
    "    all_mcqs = json.load(f)\n",
    "\n",
    "quiz_questions = [q for q in all_mcqs if q[\"skill\"] in SKILLS]\n",
    "\n",
    "# —————————————————————————————————————————————\n",
    "# 5) Quiz runner (unchanged)\n",
    "# —————————————————————————————————————————————\n",
    "def run_quiz(questions):\n",
    "    results = []\n",
    "    letter_to_idx = {\"A\": 0, \"B\": 1, \"C\": 2, \"D\": 3}\n",
    "\n",
    "    for idx, q in enumerate(questions, start=1):\n",
    "        print(f\"\\n{idx}. ({q['skill']}) {q['question']}\")\n",
    "        for letter, opt in zip(letter_to_idx, q[\"options\"]):\n",
    "            print(f\"   {letter}) {opt}\")\n",
    "\n",
    "        while True:\n",
    "            ans = input(\"Your answer (A-D): \").strip().upper()\n",
    "            if ans in letter_to_idx:\n",
    "                break\n",
    "            print(\"  → Enter A, B, C or D.\")\n",
    "\n",
    "        chosen    = q[\"options\"][letter_to_idx[ans]]\n",
    "        is_correct = (chosen == q[\"correct_answer\"])\n",
    "        results.append((q[\"skill\"], is_correct))\n",
    "\n",
    "    return results\n",
    "\n",
    "def calc_skill_report(results):\n",
    "    tally = defaultdict(lambda: {\"correct\":0, \"total\":0})\n",
    "    for skill, ok in results:\n",
    "        tally[skill][\"total\"]   += 1\n",
    "        tally[skill][\"correct\"] += int(ok)\n",
    "\n",
    "    report = {}\n",
    "    for skill in SKILLS:\n",
    "        stats = tally.get(skill, {\"correct\":0, \"total\":0})\n",
    "        c, t = stats[\"correct\"], stats[\"total\"]\n",
    "        report[skill] = (c/t*100) if t else 0\n",
    "    return report\n",
    "\n",
    "# —————————————————————————————————————————————\n",
    "# 6) Run if main\n",
    "# —————————————————————————————————————————————\n",
    "if __name__ == \"__main__\":\n",
    "    if not quiz_questions:\n",
    "        print(\"No questions found for skills:\", SKILLS)\n",
    "    else:\n",
    "        results = run_quiz(quiz_questions)\n",
    "        report  = calc_skill_report(results)\n",
    "        print(\"\\n--- Your Scores ---\")\n",
    "        for skill, pct in report.items():\n",
    "            print(f\"{skill}: {pct:.0f}%\")\n"
   ]
  },
  {
   "cell_type": "markdown",
   "id": "6c201a01-3276-4943-8e52-becad0775c4e",
   "metadata": {},
   "source": [
    "# \n"
   ]
  },
  {
   "cell_type": "code",
   "execution_count": 93,
   "id": "740fbac1-53dc-4e4d-99f4-ae1be4425e71",
   "metadata": {},
   "outputs": [
    {
     "name": "stdout",
     "output_type": "stream",
     "text": [
      "→ Matched skills to quiz on: ['JavaScript', 'MySQL', 'Vue JS', 'Git', 'Github', 'React', 'React Native', 'Vue', 'Git & Github']\n",
      "\n",
      "1. (React) Which category best describes React?\n",
      "   A) Front‑end framework\n",
      "   B) Back‑end framework\n",
      "   C) Security standard\n",
      "   D) Styling language\n"
     ]
    },
    {
     "name": "stdin",
     "output_type": "stream",
     "text": [
      "Your answer (A-D):  A\n"
     ]
    },
    {
     "name": "stdout",
     "output_type": "stream",
     "text": [
      "\n",
      "2. (React) Who primarily maintains React?\n",
      "   A) Various\n",
      "   B) Corporate\n",
      "   C) Foundation\n",
      "   D) Independent\n"
     ]
    },
    {
     "name": "stdin",
     "output_type": "stream",
     "text": [
      "Your answer (A-D):  A\n"
     ]
    },
    {
     "name": "stdout",
     "output_type": "stream",
     "text": [
      "\n",
      "3. (React) In which year was React first released?\n",
      "   A) 1997\n",
      "   B) 1999\n",
      "   C) 1998\n",
      "   D) 2000\n"
     ]
    },
    {
     "name": "stdin",
     "output_type": "stream",
     "text": [
      "Your answer (A-D):  D\n"
     ]
    },
    {
     "name": "stdout",
     "output_type": "stream",
     "text": [
      "\n",
      "4. (React) What is a common file extension associated with React?\n",
      "   A) .json\n",
      "   B) nan\n",
      "   C) .js\n",
      "   D) .yaml\n"
     ]
    },
    {
     "name": "stdin",
     "output_type": "stream",
     "text": [
      "Your answer (A-D):  C\n"
     ]
    },
    {
     "name": "stdout",
     "output_type": "stream",
     "text": [
      "\n",
      "5. (React) What is a primary use case of React?\n",
      "   A) Working with front‑end framework\n",
      "   B) Working with security standard\n",
      "   C) Working with mobile framework\n",
      "   D) Working with testing framework\n"
     ]
    },
    {
     "name": "stdin",
     "output_type": "stream",
     "text": [
      "Your answer (A-D):  A\n"
     ]
    },
    {
     "name": "stdout",
     "output_type": "stream",
     "text": [
      "\n",
      "6. (React) Which command is commonly used to install or initialize React?\n",
      "   A) apt-get install pkg\n",
      "   B) nan\n",
      "   C) brew install pkg\n",
      "   D) npm install react\n"
     ]
    },
    {
     "name": "stdin",
     "output_type": "stream",
     "text": [
      "Your answer (A-D):  D\n"
     ]
    },
    {
     "name": "stdout",
     "output_type": "stream",
     "text": [
      "\n",
      "7. (React) What is the primary programming language associated with React?\n",
      "   A) Swift\n",
      "   B) JavaScript\n",
      "   C) Python\n",
      "   D) nan\n"
     ]
    },
    {
     "name": "stdin",
     "output_type": "stream",
     "text": [
      "Your answer (A-D):  B\n"
     ]
    },
    {
     "name": "stdout",
     "output_type": "stream",
     "text": [
      "\n",
      "8. (React) Which of these is a key feature of React?\n",
      "   A) Component‑based UI\n",
      "   B) Event loop\n",
      "   C) Routing\n",
      "   D) Schema‑based queries\n"
     ]
    },
    {
     "name": "stdin",
     "output_type": "stream",
     "text": [
      "Your answer (A-D):  A\n"
     ]
    },
    {
     "name": "stdout",
     "output_type": "stream",
     "text": [
      "\n",
      "9. (React) Which of the following could be considered a competitor or alternative to React?\n",
      "   A) GCP\n",
      "   B) SQLite\n",
      "   C) Vue\n",
      "   D) Bash\n"
     ]
    },
    {
     "name": "stdin",
     "output_type": "stream",
     "text": [
      "Your answer (A-D):  C\n"
     ]
    },
    {
     "name": "stdout",
     "output_type": "stream",
     "text": [
      "\n",
      "10. (React) Under which license is React primarily distributed?\n",
      "   A) MIT\n",
      "   B) Public Domain\n",
      "   C) MPL‑2.0\n",
      "   D) Proprietary\n"
     ]
    },
    {
     "name": "stdin",
     "output_type": "stream",
     "text": [
      "Your answer (A-D):  A\n"
     ]
    },
    {
     "name": "stdout",
     "output_type": "stream",
     "text": [
      "\n",
      "11. (JavaScript) Which category best describes JavaScript?\n",
      "   A) Operating system\n",
      "   B) Technology\n",
      "   C) Back‑end runtime\n",
      "   D) Security protocol\n"
     ]
    },
    {
     "name": "stdin",
     "output_type": "stream",
     "text": [
      "Your answer (A-D):  C\n"
     ]
    },
    {
     "name": "stdout",
     "output_type": "stream",
     "text": [
      "\n",
      "12. (JavaScript) Who primarily maintains JavaScript?\n",
      "   A) Community\n",
      "   B) Various\n",
      "   C) Foundation\n",
      "   D) Independent\n"
     ]
    },
    {
     "name": "stdin",
     "output_type": "stream",
     "text": [
      "Your answer (A-D):  A\n"
     ]
    },
    {
     "name": "stdout",
     "output_type": "stream",
     "text": [
      "\n",
      "13. (JavaScript) In which year was JavaScript first released?\n",
      "   A) 1992\n",
      "   B) 1990\n",
      "   C) 1987\n",
      "   D) 1988\n"
     ]
    },
    {
     "name": "stdin",
     "output_type": "stream",
     "text": [
      "Your answer (A-D):  B\n"
     ]
    },
    {
     "name": "stdout",
     "output_type": "stream",
     "text": [
      "\n",
      "14. (JavaScript) What is a common file extension associated with JavaScript?\n",
      "   A) .css\n",
      "   B) .py\n",
      "   C) .js\n",
      "   D) nan\n"
     ]
    },
    {
     "name": "stdin",
     "output_type": "stream",
     "text": [
      "Your answer (A-D):  C\n"
     ]
    },
    {
     "name": "stdout",
     "output_type": "stream",
     "text": [
      "\n",
      "15. (JavaScript) What is a primary use case of JavaScript?\n",
      "   A) Working with technology\n",
      "   B) Working with programming language\n",
      "   C) Working with testing framework\n",
      "   D) Working with networking protocol\n"
     ]
    },
    {
     "name": "stdin",
     "output_type": "stream",
     "text": [
      "Your answer (A-D):  A\n"
     ]
    },
    {
     "name": "stdout",
     "output_type": "stream",
     "text": [
      "\n",
      "16. (JavaScript) Which command is commonly used to install or initialize JavaScript?\n",
      "   A) brew install pkg\n",
      "   B) pip install package\n",
      "   C) npm install package\n",
      "   D) nan\n"
     ]
    },
    {
     "name": "stdin",
     "output_type": "stream",
     "text": [
      "Your answer (A-D):  D\n"
     ]
    },
    {
     "name": "stdout",
     "output_type": "stream",
     "text": [
      "\n",
      "17. (JavaScript) What is the primary programming language associated with JavaScript?\n",
      "   A) Kotlin\n",
      "   B) JavaScript\n",
      "   C) Swift\n",
      "   D) Go\n"
     ]
    },
    {
     "name": "stdin",
     "output_type": "stream",
     "text": [
      "Your answer (A-D):  B\n"
     ]
    },
    {
     "name": "stdout",
     "output_type": "stream",
     "text": [
      "\n",
      "18. (JavaScript) Which of these is a key feature of JavaScript?\n",
      "   A) Event loop\n",
      "   B) Feature X\n",
      "   C) Publish‑subscribe\n",
      "   D) Native bridges\n"
     ]
    },
    {
     "name": "stdin",
     "output_type": "stream",
     "text": [
      "Your answer (A-D):  C\n"
     ]
    },
    {
     "name": "stdout",
     "output_type": "stream",
     "text": [
      "\n",
      "19. (JavaScript) Which of the following could be considered a competitor or alternative to JavaScript?\n",
      "   A) Kubernetes\n",
      "   B) Jest\n",
      "   C) Kotlin\n",
      "   D) Python\n"
     ]
    },
    {
     "name": "stdin",
     "output_type": "stream",
     "text": [
      "Your answer (A-D):  D\n"
     ]
    },
    {
     "name": "stdout",
     "output_type": "stream",
     "text": [
      "\n",
      "20. (JavaScript) Under which license is JavaScript primarily distributed?\n",
      "   A) MIT\n",
      "   B) Proprietary\n",
      "   C) GPL‑2.0\n",
      "   D) BSD\n"
     ]
    },
    {
     "name": "stdin",
     "output_type": "stream",
     "text": [
      "Your answer (A-D):  A\n"
     ]
    },
    {
     "name": "stdout",
     "output_type": "stream",
     "text": [
      "\n",
      "21. (Vue) Which category best describes Vue?\n",
      "   A) Cloud platform\n",
      "   B) DevOps tool\n",
      "   C) Data library\n",
      "   D) Front‑end framework\n"
     ]
    },
    {
     "name": "stdin",
     "output_type": "stream",
     "text": [
      "Your answer (A-D):  D\n"
     ]
    },
    {
     "name": "stdout",
     "output_type": "stream",
     "text": [
      "\n",
      "22. (Vue) Who primarily maintains Vue?\n",
      "   A) Various\n",
      "   B) Community\n",
      "   C) Independent\n",
      "   D) Foundation\n"
     ]
    },
    {
     "name": "stdin",
     "output_type": "stream",
     "text": [
      "Your answer (A-D):  C\n"
     ]
    },
    {
     "name": "stdout",
     "output_type": "stream",
     "text": [
      "\n",
      "23. (Vue) In which year was Vue first released?\n",
      "   A) 2011\n",
      "   B) 2014\n",
      "   C) 2013\n",
      "   D) 2010\n"
     ]
    },
    {
     "name": "stdin",
     "output_type": "stream",
     "text": [
      "Your answer (A-D):  A\n"
     ]
    },
    {
     "name": "stdout",
     "output_type": "stream",
     "text": [
      "\n",
      "24. (Vue) What is a common file extension associated with Vue?\n",
      "   A) .json\n",
      "   B) .cs\n",
      "   C) nan\n",
      "   D) .css\n"
     ]
    },
    {
     "name": "stdin",
     "output_type": "stream",
     "text": [
      "Your answer (A-D):  C\n"
     ]
    },
    {
     "name": "stdout",
     "output_type": "stream",
     "text": [
      "\n",
      "25. (Vue) What is a primary use case of Vue?\n",
      "   A) Working with devops tool\n",
      "   B) Working with front‑end framework\n",
      "   C) Working with security standard\n",
      "   D) Working with networking protocol\n"
     ]
    },
    {
     "name": "stdin",
     "output_type": "stream",
     "text": [
      "Your answer (A-D):  B\n"
     ]
    },
    {
     "name": "stdout",
     "output_type": "stream",
     "text": [
      "\n",
      "26. (Vue) Which command is commonly used to install or initialize Vue?\n",
      "   A) pip install package\n",
      "   B) nan\n",
      "   C) npm install vue\n",
      "   D) npm install package\n"
     ]
    },
    {
     "name": "stdin",
     "output_type": "stream",
     "text": [
      "Your answer (A-D):  D\n"
     ]
    },
    {
     "name": "stdout",
     "output_type": "stream",
     "text": [
      "\n",
      "27. (Vue) What is the primary programming language associated with Vue?\n",
      "   A) C#\n",
      "   B) JavaScript\n",
      "   C) TypeScript\n",
      "   D) Swift\n"
     ]
    },
    {
     "name": "stdin",
     "output_type": "stream",
     "text": [
      "Your answer (A-D):  C\n"
     ]
    },
    {
     "name": "stdout",
     "output_type": "stream",
     "text": [
      "\n",
      "28. (Vue) Which of these is a key feature of Vue?\n",
      "   A) Data manipulation\n",
      "   B) Full‑duplex\n",
      "   C) Component‑based UI\n",
      "   D) Command scripting\n"
     ]
    },
    {
     "name": "stdin",
     "output_type": "stream",
     "text": [
      "Your answer (A-D):  D\n"
     ]
    },
    {
     "name": "stdout",
     "output_type": "stream",
     "text": [
      "\n",
      "29. (Vue) Which of the following could be considered a competitor or alternative to Vue?\n",
      "   A) MySQL\n",
      "   B) GitHub Actions\n",
      "   C) RabbitMQ\n",
      "   D) Go\n"
     ]
    },
    {
     "name": "stdin",
     "output_type": "stream",
     "text": [
      "Your answer (A-D):  D\n"
     ]
    },
    {
     "name": "stdout",
     "output_type": "stream",
     "text": [
      "\n",
      "30. (Vue) Under which license is Vue primarily distributed?\n",
      "   A) Proprietary\n",
      "   B) GPL‑2.0\n",
      "   C) BSD\n",
      "   D) MPL‑2.0\n"
     ]
    },
    {
     "name": "stdin",
     "output_type": "stream",
     "text": [
      "Your answer (A-D):  C\n"
     ]
    },
    {
     "name": "stdout",
     "output_type": "stream",
     "text": [
      "\n",
      "31. (MySQL) Which category best describes MySQL?\n",
      "   A) Database\n",
      "   B) Security protocol\n",
      "   C) Front‑end framework\n",
      "   D) Styling language\n"
     ]
    },
    {
     "name": "stdin",
     "output_type": "stream",
     "text": [
      "Your answer (A-D):  A\n"
     ]
    },
    {
     "name": "stdout",
     "output_type": "stream",
     "text": [
      "\n",
      "32. (MySQL) Who primarily maintains MySQL?\n",
      "   A) Foundation\n",
      "   B) Various\n",
      "   C) Corporate\n",
      "   D) Community\n"
     ]
    },
    {
     "name": "stdin",
     "output_type": "stream",
     "text": [
      "Your answer (A-D):  D\n"
     ]
    },
    {
     "name": "stdout",
     "output_type": "stream",
     "text": [
      "\n",
      "33. (MySQL) In which year was MySQL first released?\n",
      "   A) 2006\n",
      "   B) 2007\n",
      "   C) 2004\n",
      "   D) 2005\n"
     ]
    },
    {
     "name": "stdin",
     "output_type": "stream",
     "text": [
      "Your answer (A-D):  A\n"
     ]
    },
    {
     "name": "stdout",
     "output_type": "stream",
     "text": [
      "\n",
      "34. (MySQL) What is a common file extension associated with MySQL?\n",
      "   A) .rs\n",
      "   B) .html\n",
      "   C) .sql\n",
      "   D) nan\n"
     ]
    },
    {
     "name": "stdin",
     "output_type": "stream",
     "text": [
      "Your answer (A-D):  C\n"
     ]
    },
    {
     "name": "stdout",
     "output_type": "stream",
     "text": [
      "\n",
      "35. (MySQL) What is a primary use case of MySQL?\n",
      "   A) Working with programming language\n",
      "   B) Working with back‑end runtime\n",
      "   C) Working with devops tool\n",
      "   D) Working with database\n"
     ]
    },
    {
     "name": "stdin",
     "output_type": "stream",
     "text": [
      "Your answer (A-D):  D\n"
     ]
    },
    {
     "name": "stdout",
     "output_type": "stream",
     "text": [
      "\n",
      "36. (MySQL) Which command is commonly used to install or initialize MySQL?\n",
      "   A) nan\n",
      "   B) pip install package\n",
      "   C) brew install pkg\n",
      "   D) npm install package\n"
     ]
    },
    {
     "name": "stdin",
     "output_type": "stream",
     "text": [
      "Your answer (A-D):  D\n"
     ]
    },
    {
     "name": "stdout",
     "output_type": "stream",
     "text": [
      "\n",
      "37. (MySQL) What is the primary programming language associated with MySQL?\n",
      "   A) Swift\n",
      "   B) TypeScript\n",
      "   C) Python\n",
      "   D) nan\n"
     ]
    },
    {
     "name": "stdin",
     "output_type": "stream",
     "text": [
      "Your answer (A-D):  D\n"
     ]
    },
    {
     "name": "stdout",
     "output_type": "stream",
     "text": [
      "\n",
      "38. (MySQL) Which of these is a key feature of MySQL?\n",
      "   A) Loose coupling\n",
      "   B) Data manipulation\n",
      "   C) Data storage\n",
      "   D) Native bridges\n"
     ]
    },
    {
     "name": "stdin",
     "output_type": "stream",
     "text": [
      "Your answer (A-D):  C\n"
     ]
    },
    {
     "name": "stdout",
     "output_type": "stream",
     "text": [
      "\n",
      "39. (MySQL) Which of the following could be considered a competitor or alternative to MySQL?\n",
      "   A) Pandas\n",
      "   B) NumPy\n",
      "   C) CircleCI\n",
      "   D) Java\n"
     ]
    },
    {
     "name": "stdin",
     "output_type": "stream",
     "text": [
      "Your answer (A-D):  \n"
     ]
    },
    {
     "name": "stdout",
     "output_type": "stream",
     "text": [
      "  → Enter A, B, C or D.\n"
     ]
    },
    {
     "name": "stdin",
     "output_type": "stream",
     "text": [
      "Your answer (A-D):  D\n"
     ]
    },
    {
     "name": "stdout",
     "output_type": "stream",
     "text": [
      "\n",
      "40. (MySQL) Under which license is MySQL primarily distributed?\n",
      "   A) Proprietary\n",
      "   B) MIT\n",
      "   C) MPL‑2.0\n",
      "   D) Apache‑2.0\n"
     ]
    },
    {
     "name": "stdin",
     "output_type": "stream",
     "text": [
      "Your answer (A-D):  A\n"
     ]
    },
    {
     "name": "stdout",
     "output_type": "stream",
     "text": [
      "\n",
      "41. (Git) Which category best describes Git?\n",
      "   A) DevOps tool\n",
      "   B) Machine learning library\n",
      "   C) Security standard\n",
      "   D) Technology\n"
     ]
    },
    {
     "name": "stdin",
     "output_type": "stream",
     "text": [
      "Your answer (A-D):  A\n"
     ]
    },
    {
     "name": "stdout",
     "output_type": "stream",
     "text": [
      "\n",
      "42. (Git) Who primarily maintains Git?\n",
      "   A) Corporate\n",
      "   B) Various\n",
      "   C) Independent\n",
      "   D) Community\n"
     ]
    },
    {
     "name": "stdin",
     "output_type": "stream",
     "text": [
      "Your answer (A-D):  A\n"
     ]
    },
    {
     "name": "stdout",
     "output_type": "stream",
     "text": [
      "\n",
      "43. (Git) In which year was Git first released?\n",
      "   A) 2006\n",
      "   B) 2004\n",
      "   C) 2005\n",
      "   D) 2007\n"
     ]
    },
    {
     "name": "stdin",
     "output_type": "stream",
     "text": [
      "Your answer (A-D):  A\n"
     ]
    },
    {
     "name": "stdout",
     "output_type": "stream",
     "text": [
      "\n",
      "44. (Git) What is a common file extension associated with Git?\n",
      "   A) nan\n",
      "   B) .ts\n",
      "   C) .rs\n",
      "   D) .yml\n"
     ]
    },
    {
     "name": "stdin",
     "output_type": "stream",
     "text": [
      "Your answer (A-D):  A\n"
     ]
    },
    {
     "name": "stdout",
     "output_type": "stream",
     "text": [
      "\n",
      "45. (Git) What is a primary use case of Git?\n",
      "   A) Working with devops tool\n",
      "   B) Working with database\n",
      "   C) Working with programming language\n",
      "   D) Working with security standard\n"
     ]
    },
    {
     "name": "stdin",
     "output_type": "stream",
     "text": [
      "Your answer (A-D):  A\n"
     ]
    },
    {
     "name": "stdout",
     "output_type": "stream",
     "text": [
      "\n",
      "46. (Git) Which command is commonly used to install or initialize Git?\n",
      "   A) pip install package\n",
      "   B) apt-get install pkg\n",
      "   C) npm install package\n",
      "   D) nan\n"
     ]
    },
    {
     "name": "stdin",
     "output_type": "stream",
     "text": [
      "Your answer (A-D):  A\n"
     ]
    },
    {
     "name": "stdout",
     "output_type": "stream",
     "text": [
      "\n",
      "47. (Git) What is the primary programming language associated with Git?\n",
      "   A) JavaScript\n",
      "   B) nan\n",
      "   C) Go\n",
      "   D) Python\n"
     ]
    },
    {
     "name": "stdin",
     "output_type": "stream",
     "text": [
      "Your answer (A-D):  A\n"
     ]
    },
    {
     "name": "stdout",
     "output_type": "stream",
     "text": [
      "\n",
      "48. (Git) Which of these is a key feature of Git?\n",
      "   A) Semantic tags\n",
      "   B) Schema‑based queries\n",
      "   C) Automation\n",
      "   D) Cascade\n"
     ]
    },
    {
     "name": "stdin",
     "output_type": "stream",
     "text": [
      "Your answer (A-D):  A\n"
     ]
    },
    {
     "name": "stdout",
     "output_type": "stream",
     "text": [
      "\n",
      "49. (Git) Which of the following could be considered a competitor or alternative to Git?\n",
      "   A) C#\n",
      "   B) Bash\n",
      "   C) React\n",
      "   D) Kubernetes\n"
     ]
    },
    {
     "name": "stdin",
     "output_type": "stream",
     "text": [
      "Your answer (A-D):  A\n"
     ]
    },
    {
     "name": "stdout",
     "output_type": "stream",
     "text": [
      "\n",
      "50. (Git) Under which license is Git primarily distributed?\n",
      "   A) MPL‑2.0\n",
      "   B) MIT\n",
      "   C) BSD\n",
      "   D) GPL‑2.0\n"
     ]
    },
    {
     "name": "stdin",
     "output_type": "stream",
     "text": [
      "Your answer (A-D):  A\n"
     ]
    },
    {
     "name": "stdout",
     "output_type": "stream",
     "text": [
      "\n",
      "51. (React Native) Which category best describes React Native?\n",
      "   A) Database\n",
      "   B) Architecture style\n",
      "   C) Technology\n",
      "   D) Mobile framework\n"
     ]
    },
    {
     "name": "stdin",
     "output_type": "stream",
     "text": [
      "Your answer (A-D):  A\n"
     ]
    },
    {
     "name": "stdout",
     "output_type": "stream",
     "text": [
      "\n",
      "52. (React Native) Who primarily maintains React Native?\n",
      "   A) Community\n",
      "   B) Foundation\n",
      "   C) Independent\n",
      "   D) Various\n"
     ]
    },
    {
     "name": "stdin",
     "output_type": "stream",
     "text": [
      "Your answer (A-D):  A\n"
     ]
    },
    {
     "name": "stdout",
     "output_type": "stream",
     "text": [
      "\n",
      "53. (React Native) In which year was React Native first released?\n",
      "   A) 1993\n",
      "   B) 1994\n",
      "   C) 1995\n",
      "   D) 1997\n"
     ]
    },
    {
     "name": "stdin",
     "output_type": "stream",
     "text": [
      "Your answer (A-D):  A\n"
     ]
    },
    {
     "name": "stdout",
     "output_type": "stream",
     "text": [
      "\n",
      "54. (React Native) What is a common file extension associated with React Native?\n",
      "   A) nan\n",
      "   B) .py\n",
      "   C) .go\n",
      "   D) .rs\n"
     ]
    },
    {
     "name": "stdin",
     "output_type": "stream",
     "text": [
      "Your answer (A-D):  A\n"
     ]
    },
    {
     "name": "stdout",
     "output_type": "stream",
     "text": [
      "\n",
      "55. (React Native) What is a primary use case of React Native?\n",
      "   A) Working with programming language\n",
      "   B) Working with networking protocol\n",
      "   C) Working with security standard\n",
      "   D) Working with mobile framework\n"
     ]
    },
    {
     "name": "stdin",
     "output_type": "stream",
     "text": [
      "Your answer (A-D):  A\n"
     ]
    },
    {
     "name": "stdout",
     "output_type": "stream",
     "text": [
      "\n",
      "56. (React Native) Which command is commonly used to install or initialize React Native?\n",
      "   A) npm install package\n",
      "   B) apt-get install pkg\n",
      "   C) pip install package\n",
      "   D) nan\n"
     ]
    },
    {
     "name": "stdin",
     "output_type": "stream",
     "text": [
      "Your answer (A-D):  A\n"
     ]
    },
    {
     "name": "stdout",
     "output_type": "stream",
     "text": [
      "\n",
      "57. (React Native) What is the primary programming language associated with React Native?\n",
      "   A) C#\n",
      "   B) nan\n",
      "   C) Python\n",
      "   D) Python\n"
     ]
    },
    {
     "name": "stdin",
     "output_type": "stream",
     "text": [
      "Your answer (A-D):  A\n"
     ]
    },
    {
     "name": "stdout",
     "output_type": "stream",
     "text": [
      "\n",
      "58. (React Native) Which of these is a key feature of React Native?\n",
      "   A) Native bridges\n",
      "   B) Data manipulation\n",
      "   C) Component‑based UI\n",
      "   D) Signed tokens\n"
     ]
    },
    {
     "name": "stdin",
     "output_type": "stream",
     "text": [
      "Your answer (A-D):  A\n"
     ]
    },
    {
     "name": "stdout",
     "output_type": "stream",
     "text": [
      "\n",
      "59. (React Native) Which of the following could be considered a competitor or alternative to React Native?\n",
      "   A) TensorFlow\n",
      "   B) Vue\n",
      "   C) Flask\n",
      "   D) Angular\n"
     ]
    },
    {
     "name": "stdin",
     "output_type": "stream",
     "text": [
      "Your answer (A-D):  A\n"
     ]
    },
    {
     "name": "stdout",
     "output_type": "stream",
     "text": [
      "\n",
      "60. (React Native) Under which license is React Native primarily distributed?\n",
      "   A) Apache‑2.0\n",
      "   B) Public Domain\n",
      "   C) MPL‑2.0\n",
      "   D) MIT\n"
     ]
    },
    {
     "name": "stdin",
     "output_type": "stream",
     "text": [
      "Your answer (A-D):  A\n"
     ]
    },
    {
     "name": "stdout",
     "output_type": "stream",
     "text": [
      "Model loaded from rf_hire_model.joblib\n"
     ]
    },
    {
     "ename": "ValueError",
     "evalue": "The feature names should match those that were passed during fit.\nFeature names unseen at fit time:\n- overall_weighted_score\nFeature names seen at fit time, yet now missing:\n- Angular_wt_score\n- HTML5_wt_score\n- Jest_wt_score\n- React_wt_score\n- code‑splitting_wt_score\n- ...\n",
     "output_type": "error",
     "traceback": [
      "\u001b[1;31m---------------------------------------------------------------------------\u001b[0m",
      "\u001b[1;31mValueError\u001b[0m                                Traceback (most recent call last)",
      "Cell \u001b[1;32mIn[93], line 177\u001b[0m\n\u001b[0;32m    174\u001b[0m loaded_model \u001b[38;5;241m=\u001b[39m joblib\u001b[38;5;241m.\u001b[39mload(\u001b[38;5;124m\"\u001b[39m\u001b[38;5;124mrf_hire_model.joblib\u001b[39m\u001b[38;5;124m\"\u001b[39m)\n\u001b[0;32m    175\u001b[0m \u001b[38;5;28mprint\u001b[39m(\u001b[38;5;124m\"\u001b[39m\u001b[38;5;124mModel loaded from rf_hire_model.joblib\u001b[39m\u001b[38;5;124m\"\u001b[39m)\n\u001b[1;32m--> 177\u001b[0m decision \u001b[38;5;241m=\u001b[39m \u001b[43mloaded_model\u001b[49m\u001b[38;5;241;43m.\u001b[39;49m\u001b[43mpredict\u001b[49m\u001b[43m(\u001b[49m\u001b[43mdf_new\u001b[49m\u001b[43m)\u001b[49m[\u001b[38;5;241m0\u001b[39m]          \u001b[38;5;66;03m# 1=Selected, 0=Not\u001b[39;00m\n\u001b[0;32m    178\u001b[0m prob      \u001b[38;5;241m=\u001b[39m loaded_model\u001b[38;5;241m.\u001b[39mpredict_proba(df_new)[\u001b[38;5;241m0\u001b[39m][\u001b[38;5;241m1\u001b[39m] \u001b[38;5;66;03m# P(Selected)\u001b[39;00m\n\u001b[0;32m    180\u001b[0m \u001b[38;5;28mprint\u001b[39m(\u001b[38;5;124m\"\u001b[39m\u001b[38;5;130;01m\\n\u001b[39;00m\u001b[38;5;124m=== Final Decision ===\u001b[39m\u001b[38;5;124m\"\u001b[39m)\n",
      "File \u001b[1;32m~\\AppData\\Local\\Programs\\Python\\Python312\\Lib\\site-packages\\sklearn\\ensemble\\_forest.py:904\u001b[0m, in \u001b[0;36mForestClassifier.predict\u001b[1;34m(self, X)\u001b[0m\n\u001b[0;32m    883\u001b[0m \u001b[38;5;28;01mdef\u001b[39;00m \u001b[38;5;21mpredict\u001b[39m(\u001b[38;5;28mself\u001b[39m, X):\n\u001b[0;32m    884\u001b[0m \u001b[38;5;250m    \u001b[39m\u001b[38;5;124;03m\"\"\"\u001b[39;00m\n\u001b[0;32m    885\u001b[0m \u001b[38;5;124;03m    Predict class for X.\u001b[39;00m\n\u001b[0;32m    886\u001b[0m \n\u001b[1;32m   (...)\u001b[0m\n\u001b[0;32m    902\u001b[0m \u001b[38;5;124;03m        The predicted classes.\u001b[39;00m\n\u001b[0;32m    903\u001b[0m \u001b[38;5;124;03m    \"\"\"\u001b[39;00m\n\u001b[1;32m--> 904\u001b[0m     proba \u001b[38;5;241m=\u001b[39m \u001b[38;5;28;43mself\u001b[39;49m\u001b[38;5;241;43m.\u001b[39;49m\u001b[43mpredict_proba\u001b[49m\u001b[43m(\u001b[49m\u001b[43mX\u001b[49m\u001b[43m)\u001b[49m\n\u001b[0;32m    906\u001b[0m     \u001b[38;5;28;01mif\u001b[39;00m \u001b[38;5;28mself\u001b[39m\u001b[38;5;241m.\u001b[39mn_outputs_ \u001b[38;5;241m==\u001b[39m \u001b[38;5;241m1\u001b[39m:\n\u001b[0;32m    907\u001b[0m         \u001b[38;5;28;01mreturn\u001b[39;00m \u001b[38;5;28mself\u001b[39m\u001b[38;5;241m.\u001b[39mclasses_\u001b[38;5;241m.\u001b[39mtake(np\u001b[38;5;241m.\u001b[39margmax(proba, axis\u001b[38;5;241m=\u001b[39m\u001b[38;5;241m1\u001b[39m), axis\u001b[38;5;241m=\u001b[39m\u001b[38;5;241m0\u001b[39m)\n",
      "File \u001b[1;32m~\\AppData\\Local\\Programs\\Python\\Python312\\Lib\\site-packages\\sklearn\\ensemble\\_forest.py:946\u001b[0m, in \u001b[0;36mForestClassifier.predict_proba\u001b[1;34m(self, X)\u001b[0m\n\u001b[0;32m    944\u001b[0m check_is_fitted(\u001b[38;5;28mself\u001b[39m)\n\u001b[0;32m    945\u001b[0m \u001b[38;5;66;03m# Check data\u001b[39;00m\n\u001b[1;32m--> 946\u001b[0m X \u001b[38;5;241m=\u001b[39m \u001b[38;5;28;43mself\u001b[39;49m\u001b[38;5;241;43m.\u001b[39;49m\u001b[43m_validate_X_predict\u001b[49m\u001b[43m(\u001b[49m\u001b[43mX\u001b[49m\u001b[43m)\u001b[49m\n\u001b[0;32m    948\u001b[0m \u001b[38;5;66;03m# Assign chunk of trees to jobs\u001b[39;00m\n\u001b[0;32m    949\u001b[0m n_jobs, _, _ \u001b[38;5;241m=\u001b[39m _partition_estimators(\u001b[38;5;28mself\u001b[39m\u001b[38;5;241m.\u001b[39mn_estimators, \u001b[38;5;28mself\u001b[39m\u001b[38;5;241m.\u001b[39mn_jobs)\n",
      "File \u001b[1;32m~\\AppData\\Local\\Programs\\Python\\Python312\\Lib\\site-packages\\sklearn\\ensemble\\_forest.py:641\u001b[0m, in \u001b[0;36mBaseForest._validate_X_predict\u001b[1;34m(self, X)\u001b[0m\n\u001b[0;32m    638\u001b[0m \u001b[38;5;28;01melse\u001b[39;00m:\n\u001b[0;32m    639\u001b[0m     force_all_finite \u001b[38;5;241m=\u001b[39m \u001b[38;5;28;01mTrue\u001b[39;00m\n\u001b[1;32m--> 641\u001b[0m X \u001b[38;5;241m=\u001b[39m \u001b[38;5;28;43mself\u001b[39;49m\u001b[38;5;241;43m.\u001b[39;49m\u001b[43m_validate_data\u001b[49m\u001b[43m(\u001b[49m\n\u001b[0;32m    642\u001b[0m \u001b[43m    \u001b[49m\u001b[43mX\u001b[49m\u001b[43m,\u001b[49m\n\u001b[0;32m    643\u001b[0m \u001b[43m    \u001b[49m\u001b[43mdtype\u001b[49m\u001b[38;5;241;43m=\u001b[39;49m\u001b[43mDTYPE\u001b[49m\u001b[43m,\u001b[49m\n\u001b[0;32m    644\u001b[0m \u001b[43m    \u001b[49m\u001b[43maccept_sparse\u001b[49m\u001b[38;5;241;43m=\u001b[39;49m\u001b[38;5;124;43m\"\u001b[39;49m\u001b[38;5;124;43mcsr\u001b[39;49m\u001b[38;5;124;43m\"\u001b[39;49m\u001b[43m,\u001b[49m\n\u001b[0;32m    645\u001b[0m \u001b[43m    \u001b[49m\u001b[43mreset\u001b[49m\u001b[38;5;241;43m=\u001b[39;49m\u001b[38;5;28;43;01mFalse\u001b[39;49;00m\u001b[43m,\u001b[49m\n\u001b[0;32m    646\u001b[0m \u001b[43m    \u001b[49m\u001b[43mforce_all_finite\u001b[49m\u001b[38;5;241;43m=\u001b[39;49m\u001b[43mforce_all_finite\u001b[49m\u001b[43m,\u001b[49m\n\u001b[0;32m    647\u001b[0m \u001b[43m\u001b[49m\u001b[43m)\u001b[49m\n\u001b[0;32m    648\u001b[0m \u001b[38;5;28;01mif\u001b[39;00m issparse(X) \u001b[38;5;129;01mand\u001b[39;00m (X\u001b[38;5;241m.\u001b[39mindices\u001b[38;5;241m.\u001b[39mdtype \u001b[38;5;241m!=\u001b[39m np\u001b[38;5;241m.\u001b[39mintc \u001b[38;5;129;01mor\u001b[39;00m X\u001b[38;5;241m.\u001b[39mindptr\u001b[38;5;241m.\u001b[39mdtype \u001b[38;5;241m!=\u001b[39m np\u001b[38;5;241m.\u001b[39mintc):\n\u001b[0;32m    649\u001b[0m     \u001b[38;5;28;01mraise\u001b[39;00m \u001b[38;5;167;01mValueError\u001b[39;00m(\u001b[38;5;124m\"\u001b[39m\u001b[38;5;124mNo support for np.int64 index based sparse matrices\u001b[39m\u001b[38;5;124m\"\u001b[39m)\n",
      "File \u001b[1;32m~\\AppData\\Local\\Programs\\Python\\Python312\\Lib\\site-packages\\sklearn\\base.py:608\u001b[0m, in \u001b[0;36mBaseEstimator._validate_data\u001b[1;34m(self, X, y, reset, validate_separately, cast_to_ndarray, **check_params)\u001b[0m\n\u001b[0;32m    537\u001b[0m \u001b[38;5;28;01mdef\u001b[39;00m \u001b[38;5;21m_validate_data\u001b[39m(\n\u001b[0;32m    538\u001b[0m     \u001b[38;5;28mself\u001b[39m,\n\u001b[0;32m    539\u001b[0m     X\u001b[38;5;241m=\u001b[39m\u001b[38;5;124m\"\u001b[39m\u001b[38;5;124mno_validation\u001b[39m\u001b[38;5;124m\"\u001b[39m,\n\u001b[1;32m   (...)\u001b[0m\n\u001b[0;32m    544\u001b[0m     \u001b[38;5;241m*\u001b[39m\u001b[38;5;241m*\u001b[39mcheck_params,\n\u001b[0;32m    545\u001b[0m ):\n\u001b[0;32m    546\u001b[0m \u001b[38;5;250m    \u001b[39m\u001b[38;5;124;03m\"\"\"Validate input data and set or check the `n_features_in_` attribute.\u001b[39;00m\n\u001b[0;32m    547\u001b[0m \n\u001b[0;32m    548\u001b[0m \u001b[38;5;124;03m    Parameters\u001b[39;00m\n\u001b[1;32m   (...)\u001b[0m\n\u001b[0;32m    606\u001b[0m \u001b[38;5;124;03m        validated.\u001b[39;00m\n\u001b[0;32m    607\u001b[0m \u001b[38;5;124;03m    \"\"\"\u001b[39;00m\n\u001b[1;32m--> 608\u001b[0m     \u001b[38;5;28;43mself\u001b[39;49m\u001b[38;5;241;43m.\u001b[39;49m\u001b[43m_check_feature_names\u001b[49m\u001b[43m(\u001b[49m\u001b[43mX\u001b[49m\u001b[43m,\u001b[49m\u001b[43m \u001b[49m\u001b[43mreset\u001b[49m\u001b[38;5;241;43m=\u001b[39;49m\u001b[43mreset\u001b[49m\u001b[43m)\u001b[49m\n\u001b[0;32m    610\u001b[0m     \u001b[38;5;28;01mif\u001b[39;00m y \u001b[38;5;129;01mis\u001b[39;00m \u001b[38;5;28;01mNone\u001b[39;00m \u001b[38;5;129;01mand\u001b[39;00m \u001b[38;5;28mself\u001b[39m\u001b[38;5;241m.\u001b[39m_get_tags()[\u001b[38;5;124m\"\u001b[39m\u001b[38;5;124mrequires_y\u001b[39m\u001b[38;5;124m\"\u001b[39m]:\n\u001b[0;32m    611\u001b[0m         \u001b[38;5;28;01mraise\u001b[39;00m \u001b[38;5;167;01mValueError\u001b[39;00m(\n\u001b[0;32m    612\u001b[0m             \u001b[38;5;124mf\u001b[39m\u001b[38;5;124m\"\u001b[39m\u001b[38;5;124mThis \u001b[39m\u001b[38;5;132;01m{\u001b[39;00m\u001b[38;5;28mself\u001b[39m\u001b[38;5;241m.\u001b[39m\u001b[38;5;18m__class__\u001b[39m\u001b[38;5;241m.\u001b[39m\u001b[38;5;18m__name__\u001b[39m\u001b[38;5;132;01m}\u001b[39;00m\u001b[38;5;124m estimator \u001b[39m\u001b[38;5;124m\"\u001b[39m\n\u001b[0;32m    613\u001b[0m             \u001b[38;5;124m\"\u001b[39m\u001b[38;5;124mrequires y to be passed, but the target y is None.\u001b[39m\u001b[38;5;124m\"\u001b[39m\n\u001b[0;32m    614\u001b[0m         )\n",
      "File \u001b[1;32m~\\AppData\\Local\\Programs\\Python\\Python312\\Lib\\site-packages\\sklearn\\base.py:535\u001b[0m, in \u001b[0;36mBaseEstimator._check_feature_names\u001b[1;34m(self, X, reset)\u001b[0m\n\u001b[0;32m    530\u001b[0m \u001b[38;5;28;01mif\u001b[39;00m \u001b[38;5;129;01mnot\u001b[39;00m missing_names \u001b[38;5;129;01mand\u001b[39;00m \u001b[38;5;129;01mnot\u001b[39;00m unexpected_names:\n\u001b[0;32m    531\u001b[0m     message \u001b[38;5;241m+\u001b[39m\u001b[38;5;241m=\u001b[39m (\n\u001b[0;32m    532\u001b[0m         \u001b[38;5;124m\"\u001b[39m\u001b[38;5;124mFeature names must be in the same order as they were in fit.\u001b[39m\u001b[38;5;130;01m\\n\u001b[39;00m\u001b[38;5;124m\"\u001b[39m\n\u001b[0;32m    533\u001b[0m     )\n\u001b[1;32m--> 535\u001b[0m \u001b[38;5;28;01mraise\u001b[39;00m \u001b[38;5;167;01mValueError\u001b[39;00m(message)\n",
      "\u001b[1;31mValueError\u001b[0m: The feature names should match those that were passed during fit.\nFeature names unseen at fit time:\n- overall_weighted_score\nFeature names seen at fit time, yet now missing:\n- Angular_wt_score\n- HTML5_wt_score\n- Jest_wt_score\n- React_wt_score\n- code‑splitting_wt_score\n- ...\n"
     ]
    }
   ],
   "source": [
    "# 0) Install dependencies (uncomment if needed)\n",
    "# !pip install -q sentence-transformers pandas scikit-learn joblib\n",
    "\n",
    "import re\n",
    "import json\n",
    "import joblib\n",
    "from collections import defaultdict\n",
    "\n",
    "import pandas as pd\n",
    "from sentence_transformers import SentenceTransformer, util\n",
    "\n",
    "# —————————————————————————————————————————————\n",
    "# 1) Your raw extractor outputs\n",
    "# —————————————————————————————————————————————\n",
    "jd_text = \"\"\"\n",
    "Entities detected:\n",
    "React -> SKILL_PREFERRED\n",
    "Angular -> SKILL_PREFERRED\n",
    "code-splitting -> SKILL_REQUIRED\n",
    "Jest -> SKILL_REQUIRED\n",
    "web apps -> SKILL_REQUIRED\n",
    "HTML5 -> SKILL_REQUIRED\n",
    "Flexbox/ -> SKILL_PREFERRED\n",
    "Grid -> SKILL_PREFERRED\n",
    "Vue/Angular -> SKILL_PREFERRED\n",
    "TTI -> SKILL_REQUIRED\n",
    "CLS -> SKILL_BONUS\n",
    "LCP -> SKILL_BONUS\n",
    "RESTful APIs -> SKILL_PREFERRED\n",
    "GraphQL -> SKILL_BONUS\n",
    "Git -> SKILL_REQUIRED\n",
    "including branching strategies -> SKILL_REQUIRED\n",
    "TypeScript proficiency -> SKILL_REQUIRED\n",
    "\"\"\"\n",
    "\n",
    "resume_text = \"\"\"\n",
    "🎯 Detected Skills:\n",
    "- Codeignitor\n",
    "- JavaScript\n",
    "- MySQL\n",
    "- cPanel\n",
    "- MERN\n",
    "- Laravel\n",
    "- Vue JS\n",
    "- MySQL\n",
    "- Git\n",
    "- Github\n",
    "- Data Structures\n",
    "- Agile\n",
    "- UI/ UX\n",
    "- Natura - Online\n",
    "- React\n",
    "- MySQL\n",
    "- React Native\n",
    "- MS\n",
    "- SQL Fast Learning\n",
    "- Vue\n",
    "- Mongo DB\n",
    "- JS JAVA\n",
    "- VS Code\n",
    "- Postman\n",
    "- Android Development\n",
    "- Git & Github\n",
    "- Adobe Photoshop\n",
    "\"\"\"\n",
    "\n",
    "# —————————————————————————————————————————————\n",
    "# 2) Parse JD & resume into Python structures\n",
    "# —————————————————————————————————————————————\n",
    "def parse_jd(text):\n",
    "    jd = {}\n",
    "    for line in text.splitlines():\n",
    "        m = re.match(r'^\\s*(.+?)\\s*->\\s*(SKILL_[A-Z]+)\\s*$', line)\n",
    "        if m:\n",
    "            skill, label = m.groups()\n",
    "            jd[skill.strip()] = label\n",
    "    return jd\n",
    "\n",
    "def parse_resume(text):\n",
    "    skills = []\n",
    "    for line in text.splitlines():\n",
    "        line = line.strip()\n",
    "        if line.startswith('-'):\n",
    "            skills.append(line.lstrip('-').strip())\n",
    "    return list(dict.fromkeys(skills))  # dedupe preserving order\n",
    "\n",
    "jd_dict       = parse_jd(jd_text)\n",
    "resume_skills = parse_resume(resume_text)\n",
    "jd_skills     = list(jd_dict.keys())\n",
    "\n",
    "# —————————————————————————————————————————————\n",
    "# 3) Embed & filter resume skills via semantic similarity\n",
    "# —————————————————————————————————————————————\n",
    "embedder = SentenceTransformer('all-MiniLM-L6-v2')\n",
    "jd_emb    = embedder.encode(jd_skills,     convert_to_tensor=True)\n",
    "res_emb   = embedder.encode(resume_skills, convert_to_tensor=True)\n",
    "hits      = util.semantic_search(res_emb, jd_emb, top_k=1)\n",
    "\n",
    "THRESHOLD = 0.50\n",
    "matched_resume_skills = []\n",
    "for i, hit in enumerate(hits):\n",
    "    score = hit[0]['score']\n",
    "    if score >= THRESHOLD:\n",
    "        matched_resume_skills.append(resume_skills[i])\n",
    "matched_resume_skills = list(dict.fromkeys(matched_resume_skills))\n",
    "\n",
    "print(\"→ Matched skills to quiz on:\", matched_resume_skills)\n",
    "\n",
    "# —————————————————————————————————————————————\n",
    "# 4) Load MCQs & run quiz on matched skills\n",
    "# —————————————————————————————————————————————\n",
    "with open(\"mcq.json\", \"r\", encoding=\"utf-8\") as f:\n",
    "    all_mcqs = json.load(f)\n",
    "\n",
    "quiz_questions = [q for q in all_mcqs if q[\"skill\"] in matched_resume_skills]\n",
    "\n",
    "def run_quiz(questions):\n",
    "    results = []\n",
    "    letter_to_idx = {\"A\":0, \"B\":1, \"C\":2, \"D\":3}\n",
    "    for idx, q in enumerate(questions, start=1):\n",
    "        print(f\"\\n{idx}. ({q['skill']}) {q['question']}\")\n",
    "        for L, opt in zip(letter_to_idx, q[\"options\"]):\n",
    "            print(f\"   {L}) {opt}\")\n",
    "        while True:\n",
    "            ans = input(\"Your answer (A-D): \").strip().upper()\n",
    "            if ans in letter_to_idx: break\n",
    "            print(\"  → Enter A, B, C or D.\")\n",
    "        chosen = q[\"options\"][letter_to_idx[ans]]\n",
    "        results.append((q[\"skill\"], chosen == q[\"correct_answer\"]))\n",
    "    return results\n",
    "\n",
    "def calc_raw_counts(results):\n",
    "    tally = defaultdict(lambda: [0,0])\n",
    "    for skill, ok in results:\n",
    "        if ok: tally[skill][0] += 1\n",
    "        tally[skill][1] += 1\n",
    "    return {sk: tuple(ct) for sk, ct in tally.items()}\n",
    "\n",
    "# —————————————————————————————————————————————\n",
    "# 5) Feature engineering for the ML model\n",
    "# —————————————————————————————————————————————\n",
    "label_weights = {\n",
    "    \"SKILL_REQUIRED\":   1.0,\n",
    "    \"SKILL_PREFERRED\":  0.6,\n",
    "    \"SKILL_BONUS\":      0.3,\n",
    "}\n",
    "\n",
    "def compute_candidate_features(quiz_stats, jd_dict, label_weights):\n",
    "    weighted = []\n",
    "    for skill, label in jd_dict.items():\n",
    "        correct, total = quiz_stats.get(skill, (0,0))\n",
    "        pct = (correct/total) if total else 0.0\n",
    "        weighted.append(pct * label_weights[label])\n",
    "    overall = sum(weighted) / len(jd_dict)\n",
    "    return {\"overall_weighted_score\": overall}\n",
    "\n",
    "# —————————————————————————————————————————————\n",
    "# 6) Load your pre-trained RF model and decide\n",
    "# —————————————————————————————————————————————\n",
    "if __name__ == \"__main__\":\n",
    "    if not quiz_questions:\n",
    "        print(\"No quiz questions for skills:\", matched_resume_skills)\n",
    "        exit()\n",
    "\n",
    "    # run quiz\n",
    "    results    = run_quiz(quiz_questions)\n",
    "\n",
    "    # compute raw counts & features\n",
    "    quiz_stats = calc_raw_counts(results)\n",
    "    feats_new  = compute_candidate_features(quiz_stats, jd_dict, label_weights)\n",
    "    df_new     = pd.DataFrame([feats_new])\n",
    "\n",
    "    # load and use the model\n",
    "    loaded_model = joblib.load(\"rf_hire_model.joblib\")\n",
    "    print(\"Model loaded from rf_hire_model.joblib\")\n",
    "\n",
    "    decision = loaded_model.predict(df_new)[0]          # 1=Selected, 0=Not\n",
    "    prob      = loaded_model.predict_proba(df_new)[0][1] # P(Selected)\n",
    "\n",
    "    print(\"\\n=== Final Decision ===\")\n",
    "    print(\"Selected\" if decision else \"Not Selected\",\n",
    "          f\"({prob:.2f} probability)\")\n"
   ]
  },
  {
   "cell_type": "code",
   "execution_count": 97,
   "id": "cacac47b-f136-4950-93d8-e2fe64fccd9b",
   "metadata": {},
   "outputs": [
    {
     "name": "stdout",
     "output_type": "stream",
     "text": [
      "Model loaded from rf_hire_model.joblib\n",
      "Matched skills for quiz: ['JavaScript', 'MySQL', 'Vue JS', 'Git', 'Github', 'React', 'React Native', 'Vue', 'Git & Github']\n",
      "\n",
      "1. (React) Which category best describes React?\n",
      "   A) Front‑end framework\n",
      "   B) Back‑end framework\n",
      "   C) Security standard\n",
      "   D) Styling language\n"
     ]
    },
    {
     "name": "stdin",
     "output_type": "stream",
     "text": [
      "Your answer (A-D):  A\n"
     ]
    },
    {
     "name": "stdout",
     "output_type": "stream",
     "text": [
      "\n",
      "2. (React) Who primarily maintains React?\n",
      "   A) Various\n",
      "   B) Corporate\n",
      "   C) Foundation\n",
      "   D) Independent\n"
     ]
    },
    {
     "name": "stdin",
     "output_type": "stream",
     "text": [
      "Your answer (A-D):  A\n"
     ]
    },
    {
     "name": "stdout",
     "output_type": "stream",
     "text": [
      "\n",
      "3. (React) In which year was React first released?\n",
      "   A) 1997\n",
      "   B) 1999\n",
      "   C) 1998\n",
      "   D) 2000\n"
     ]
    },
    {
     "name": "stdin",
     "output_type": "stream",
     "text": [
      "Your answer (A-D):  A\n"
     ]
    },
    {
     "name": "stdout",
     "output_type": "stream",
     "text": [
      "\n",
      "4. (React) What is a common file extension associated with React?\n",
      "   A) .json\n",
      "   B) nan\n",
      "   C) .js\n",
      "   D) .yaml\n"
     ]
    },
    {
     "name": "stdin",
     "output_type": "stream",
     "text": [
      "Your answer (A-D):  A\n"
     ]
    },
    {
     "name": "stdout",
     "output_type": "stream",
     "text": [
      "\n",
      "5. (React) What is a primary use case of React?\n",
      "   A) Working with front‑end framework\n",
      "   B) Working with security standard\n",
      "   C) Working with mobile framework\n",
      "   D) Working with testing framework\n"
     ]
    },
    {
     "name": "stdin",
     "output_type": "stream",
     "text": [
      "Your answer (A-D):  A\n"
     ]
    },
    {
     "name": "stdout",
     "output_type": "stream",
     "text": [
      "\n",
      "6. (React) Which command is commonly used to install or initialize React?\n",
      "   A) apt-get install pkg\n",
      "   B) nan\n",
      "   C) brew install pkg\n",
      "   D) npm install react\n"
     ]
    },
    {
     "name": "stdin",
     "output_type": "stream",
     "text": [
      "Your answer (A-D):  A\n"
     ]
    },
    {
     "name": "stdout",
     "output_type": "stream",
     "text": [
      "\n",
      "7. (React) What is the primary programming language associated with React?\n",
      "   A) Swift\n",
      "   B) JavaScript\n",
      "   C) Python\n",
      "   D) nan\n"
     ]
    },
    {
     "name": "stdin",
     "output_type": "stream",
     "text": [
      "Your answer (A-D):  A\n"
     ]
    },
    {
     "name": "stdout",
     "output_type": "stream",
     "text": [
      "\n",
      "8. (React) Which of these is a key feature of React?\n",
      "   A) Component‑based UI\n",
      "   B) Event loop\n",
      "   C) Routing\n",
      "   D) Schema‑based queries\n"
     ]
    },
    {
     "name": "stdin",
     "output_type": "stream",
     "text": [
      "Your answer (A-D):  A\n"
     ]
    },
    {
     "name": "stdout",
     "output_type": "stream",
     "text": [
      "\n",
      "9. (React) Which of the following could be considered a competitor or alternative to React?\n",
      "   A) GCP\n",
      "   B) SQLite\n",
      "   C) Vue\n",
      "   D) Bash\n"
     ]
    },
    {
     "name": "stdin",
     "output_type": "stream",
     "text": [
      "Your answer (A-D):  A\n"
     ]
    },
    {
     "name": "stdout",
     "output_type": "stream",
     "text": [
      "\n",
      "10. (React) Under which license is React primarily distributed?\n",
      "   A) MIT\n",
      "   B) Public Domain\n",
      "   C) MPL‑2.0\n",
      "   D) Proprietary\n"
     ]
    },
    {
     "name": "stdin",
     "output_type": "stream",
     "text": [
      "Your answer (A-D):  A\n"
     ]
    },
    {
     "name": "stdout",
     "output_type": "stream",
     "text": [
      "\n",
      "11. (JavaScript) Which category best describes JavaScript?\n",
      "   A) Operating system\n",
      "   B) Technology\n",
      "   C) Back‑end runtime\n",
      "   D) Security protocol\n"
     ]
    },
    {
     "name": "stdin",
     "output_type": "stream",
     "text": [
      "Your answer (A-D):  A\n"
     ]
    },
    {
     "name": "stdout",
     "output_type": "stream",
     "text": [
      "\n",
      "12. (JavaScript) Who primarily maintains JavaScript?\n",
      "   A) Community\n",
      "   B) Various\n",
      "   C) Foundation\n",
      "   D) Independent\n"
     ]
    },
    {
     "name": "stdin",
     "output_type": "stream",
     "text": [
      "Your answer (A-D):  A\n"
     ]
    },
    {
     "name": "stdout",
     "output_type": "stream",
     "text": [
      "\n",
      "13. (JavaScript) In which year was JavaScript first released?\n",
      "   A) 1992\n",
      "   B) 1990\n",
      "   C) 1987\n",
      "   D) 1988\n"
     ]
    },
    {
     "name": "stdin",
     "output_type": "stream",
     "text": [
      "Your answer (A-D):  A\n"
     ]
    },
    {
     "name": "stdout",
     "output_type": "stream",
     "text": [
      "\n",
      "14. (JavaScript) What is a common file extension associated with JavaScript?\n",
      "   A) .css\n",
      "   B) .py\n",
      "   C) .js\n",
      "   D) nan\n"
     ]
    },
    {
     "name": "stdin",
     "output_type": "stream",
     "text": [
      "Your answer (A-D):  A\n"
     ]
    },
    {
     "name": "stdout",
     "output_type": "stream",
     "text": [
      "\n",
      "15. (JavaScript) What is a primary use case of JavaScript?\n",
      "   A) Working with technology\n",
      "   B) Working with programming language\n",
      "   C) Working with testing framework\n",
      "   D) Working with networking protocol\n"
     ]
    },
    {
     "name": "stdin",
     "output_type": "stream",
     "text": [
      "Your answer (A-D):  A\n"
     ]
    },
    {
     "name": "stdout",
     "output_type": "stream",
     "text": [
      "\n",
      "16. (JavaScript) Which command is commonly used to install or initialize JavaScript?\n",
      "   A) brew install pkg\n",
      "   B) pip install package\n",
      "   C) npm install package\n",
      "   D) nan\n"
     ]
    },
    {
     "name": "stdin",
     "output_type": "stream",
     "text": [
      "Your answer (A-D):  A\n"
     ]
    },
    {
     "name": "stdout",
     "output_type": "stream",
     "text": [
      "\n",
      "17. (JavaScript) What is the primary programming language associated with JavaScript?\n",
      "   A) Kotlin\n",
      "   B) JavaScript\n",
      "   C) Swift\n",
      "   D) Go\n"
     ]
    },
    {
     "name": "stdin",
     "output_type": "stream",
     "text": [
      "Your answer (A-D):  A\n"
     ]
    },
    {
     "name": "stdout",
     "output_type": "stream",
     "text": [
      "\n",
      "18. (JavaScript) Which of these is a key feature of JavaScript?\n",
      "   A) Event loop\n",
      "   B) Feature X\n",
      "   C) Publish‑subscribe\n",
      "   D) Native bridges\n"
     ]
    },
    {
     "name": "stdin",
     "output_type": "stream",
     "text": [
      "Your answer (A-D):  A\n"
     ]
    },
    {
     "name": "stdout",
     "output_type": "stream",
     "text": [
      "\n",
      "19. (JavaScript) Which of the following could be considered a competitor or alternative to JavaScript?\n",
      "   A) Kubernetes\n",
      "   B) Jest\n",
      "   C) Kotlin\n",
      "   D) Python\n"
     ]
    },
    {
     "name": "stdin",
     "output_type": "stream",
     "text": [
      "Your answer (A-D):  A\n"
     ]
    },
    {
     "name": "stdout",
     "output_type": "stream",
     "text": [
      "\n",
      "20. (JavaScript) Under which license is JavaScript primarily distributed?\n",
      "   A) MIT\n",
      "   B) Proprietary\n",
      "   C) GPL‑2.0\n",
      "   D) BSD\n"
     ]
    },
    {
     "name": "stdin",
     "output_type": "stream",
     "text": [
      "Your answer (A-D):  A\n"
     ]
    },
    {
     "name": "stdout",
     "output_type": "stream",
     "text": [
      "\n",
      "21. (Vue) Which category best describes Vue?\n",
      "   A) Cloud platform\n",
      "   B) DevOps tool\n",
      "   C) Data library\n",
      "   D) Front‑end framework\n"
     ]
    },
    {
     "name": "stdin",
     "output_type": "stream",
     "text": [
      "Your answer (A-D):  A\n"
     ]
    },
    {
     "name": "stdout",
     "output_type": "stream",
     "text": [
      "\n",
      "22. (Vue) Who primarily maintains Vue?\n",
      "   A) Various\n",
      "   B) Community\n",
      "   C) Independent\n",
      "   D) Foundation\n"
     ]
    },
    {
     "name": "stdin",
     "output_type": "stream",
     "text": [
      "Your answer (A-D):  A\n"
     ]
    },
    {
     "name": "stdout",
     "output_type": "stream",
     "text": [
      "\n",
      "23. (Vue) In which year was Vue first released?\n",
      "   A) 2011\n",
      "   B) 2014\n",
      "   C) 2013\n",
      "   D) 2010\n"
     ]
    },
    {
     "name": "stdin",
     "output_type": "stream",
     "text": [
      "Your answer (A-D):  A\n"
     ]
    },
    {
     "name": "stdout",
     "output_type": "stream",
     "text": [
      "\n",
      "24. (Vue) What is a common file extension associated with Vue?\n",
      "   A) .json\n",
      "   B) .cs\n",
      "   C) nan\n",
      "   D) .css\n"
     ]
    },
    {
     "name": "stdin",
     "output_type": "stream",
     "text": [
      "Your answer (A-D):  A\n"
     ]
    },
    {
     "name": "stdout",
     "output_type": "stream",
     "text": [
      "\n",
      "25. (Vue) What is a primary use case of Vue?\n",
      "   A) Working with devops tool\n",
      "   B) Working with front‑end framework\n",
      "   C) Working with security standard\n",
      "   D) Working with networking protocol\n"
     ]
    },
    {
     "name": "stdin",
     "output_type": "stream",
     "text": [
      "Your answer (A-D):  a\n"
     ]
    },
    {
     "name": "stdout",
     "output_type": "stream",
     "text": [
      "\n",
      "26. (Vue) Which command is commonly used to install or initialize Vue?\n",
      "   A) pip install package\n",
      "   B) nan\n",
      "   C) npm install vue\n",
      "   D) npm install package\n"
     ]
    },
    {
     "name": "stdin",
     "output_type": "stream",
     "text": [
      "Your answer (A-D):  a\n"
     ]
    },
    {
     "name": "stdout",
     "output_type": "stream",
     "text": [
      "\n",
      "27. (Vue) What is the primary programming language associated with Vue?\n",
      "   A) C#\n",
      "   B) JavaScript\n",
      "   C) TypeScript\n",
      "   D) Swift\n"
     ]
    },
    {
     "name": "stdin",
     "output_type": "stream",
     "text": [
      "Your answer (A-D):  a\n"
     ]
    },
    {
     "name": "stdout",
     "output_type": "stream",
     "text": [
      "\n",
      "28. (Vue) Which of these is a key feature of Vue?\n",
      "   A) Data manipulation\n",
      "   B) Full‑duplex\n",
      "   C) Component‑based UI\n",
      "   D) Command scripting\n"
     ]
    },
    {
     "name": "stdin",
     "output_type": "stream",
     "text": [
      "Your answer (A-D):  a\n"
     ]
    },
    {
     "name": "stdout",
     "output_type": "stream",
     "text": [
      "\n",
      "29. (Vue) Which of the following could be considered a competitor or alternative to Vue?\n",
      "   A) MySQL\n",
      "   B) GitHub Actions\n",
      "   C) RabbitMQ\n",
      "   D) Go\n"
     ]
    },
    {
     "name": "stdin",
     "output_type": "stream",
     "text": [
      "Your answer (A-D):  a\n"
     ]
    },
    {
     "name": "stdout",
     "output_type": "stream",
     "text": [
      "\n",
      "30. (Vue) Under which license is Vue primarily distributed?\n",
      "   A) Proprietary\n",
      "   B) GPL‑2.0\n",
      "   C) BSD\n",
      "   D) MPL‑2.0\n"
     ]
    },
    {
     "name": "stdin",
     "output_type": "stream",
     "text": [
      "Your answer (A-D):  a\n"
     ]
    },
    {
     "name": "stdout",
     "output_type": "stream",
     "text": [
      "\n",
      "31. (MySQL) Which category best describes MySQL?\n",
      "   A) Database\n",
      "   B) Security protocol\n",
      "   C) Front‑end framework\n",
      "   D) Styling language\n"
     ]
    },
    {
     "name": "stdin",
     "output_type": "stream",
     "text": [
      "Your answer (A-D):  a\n"
     ]
    },
    {
     "name": "stdout",
     "output_type": "stream",
     "text": [
      "\n",
      "32. (MySQL) Who primarily maintains MySQL?\n",
      "   A) Foundation\n",
      "   B) Various\n",
      "   C) Corporate\n",
      "   D) Community\n"
     ]
    },
    {
     "name": "stdin",
     "output_type": "stream",
     "text": [
      "Your answer (A-D):  A\n"
     ]
    },
    {
     "name": "stdout",
     "output_type": "stream",
     "text": [
      "\n",
      "33. (MySQL) In which year was MySQL first released?\n",
      "   A) 2006\n",
      "   B) 2007\n",
      "   C) 2004\n",
      "   D) 2005\n"
     ]
    },
    {
     "name": "stdin",
     "output_type": "stream",
     "text": [
      "Your answer (A-D):  A\n"
     ]
    },
    {
     "name": "stdout",
     "output_type": "stream",
     "text": [
      "\n",
      "34. (MySQL) What is a common file extension associated with MySQL?\n",
      "   A) .rs\n",
      "   B) .html\n",
      "   C) .sql\n",
      "   D) nan\n"
     ]
    },
    {
     "name": "stdin",
     "output_type": "stream",
     "text": [
      "Your answer (A-D):  A\n"
     ]
    },
    {
     "name": "stdout",
     "output_type": "stream",
     "text": [
      "\n",
      "35. (MySQL) What is a primary use case of MySQL?\n",
      "   A) Working with programming language\n",
      "   B) Working with back‑end runtime\n",
      "   C) Working with devops tool\n",
      "   D) Working with database\n"
     ]
    },
    {
     "name": "stdin",
     "output_type": "stream",
     "text": [
      "Your answer (A-D):  A\n"
     ]
    },
    {
     "name": "stdout",
     "output_type": "stream",
     "text": [
      "\n",
      "36. (MySQL) Which command is commonly used to install or initialize MySQL?\n",
      "   A) nan\n",
      "   B) pip install package\n",
      "   C) brew install pkg\n",
      "   D) npm install package\n"
     ]
    },
    {
     "name": "stdin",
     "output_type": "stream",
     "text": [
      "Your answer (A-D):  A\n"
     ]
    },
    {
     "name": "stdout",
     "output_type": "stream",
     "text": [
      "\n",
      "37. (MySQL) What is the primary programming language associated with MySQL?\n",
      "   A) Swift\n",
      "   B) TypeScript\n",
      "   C) Python\n",
      "   D) nan\n"
     ]
    },
    {
     "name": "stdin",
     "output_type": "stream",
     "text": [
      "Your answer (A-D):  A\n"
     ]
    },
    {
     "name": "stdout",
     "output_type": "stream",
     "text": [
      "\n",
      "38. (MySQL) Which of these is a key feature of MySQL?\n",
      "   A) Loose coupling\n",
      "   B) Data manipulation\n",
      "   C) Data storage\n",
      "   D) Native bridges\n"
     ]
    },
    {
     "name": "stdin",
     "output_type": "stream",
     "text": [
      "Your answer (A-D):  A\n"
     ]
    },
    {
     "name": "stdout",
     "output_type": "stream",
     "text": [
      "\n",
      "39. (MySQL) Which of the following could be considered a competitor or alternative to MySQL?\n",
      "   A) Pandas\n",
      "   B) NumPy\n",
      "   C) CircleCI\n",
      "   D) Java\n"
     ]
    },
    {
     "name": "stdin",
     "output_type": "stream",
     "text": [
      "Your answer (A-D):  A\n"
     ]
    },
    {
     "name": "stdout",
     "output_type": "stream",
     "text": [
      "\n",
      "40. (MySQL) Under which license is MySQL primarily distributed?\n",
      "   A) Proprietary\n",
      "   B) MIT\n",
      "   C) MPL‑2.0\n",
      "   D) Apache‑2.0\n"
     ]
    },
    {
     "name": "stdin",
     "output_type": "stream",
     "text": [
      "Your answer (A-D):  A\n"
     ]
    },
    {
     "name": "stdout",
     "output_type": "stream",
     "text": [
      "\n",
      "41. (Git) Which category best describes Git?\n",
      "   A) DevOps tool\n",
      "   B) Machine learning library\n",
      "   C) Security standard\n",
      "   D) Technology\n"
     ]
    },
    {
     "name": "stdin",
     "output_type": "stream",
     "text": [
      "Your answer (A-D):  A\n"
     ]
    },
    {
     "name": "stdout",
     "output_type": "stream",
     "text": [
      "\n",
      "42. (Git) Who primarily maintains Git?\n",
      "   A) Corporate\n",
      "   B) Various\n",
      "   C) Independent\n",
      "   D) Community\n"
     ]
    },
    {
     "name": "stdin",
     "output_type": "stream",
     "text": [
      "Your answer (A-D):  A\n"
     ]
    },
    {
     "name": "stdout",
     "output_type": "stream",
     "text": [
      "\n",
      "43. (Git) In which year was Git first released?\n",
      "   A) 2006\n",
      "   B) 2004\n",
      "   C) 2005\n",
      "   D) 2007\n"
     ]
    },
    {
     "name": "stdin",
     "output_type": "stream",
     "text": [
      "Your answer (A-D):  A\n"
     ]
    },
    {
     "name": "stdout",
     "output_type": "stream",
     "text": [
      "\n",
      "44. (Git) What is a common file extension associated with Git?\n",
      "   A) nan\n",
      "   B) .ts\n",
      "   C) .rs\n",
      "   D) .yml\n"
     ]
    },
    {
     "name": "stdin",
     "output_type": "stream",
     "text": [
      "Your answer (A-D):  A\n"
     ]
    },
    {
     "name": "stdout",
     "output_type": "stream",
     "text": [
      "\n",
      "45. (Git) What is a primary use case of Git?\n",
      "   A) Working with devops tool\n",
      "   B) Working with database\n",
      "   C) Working with programming language\n",
      "   D) Working with security standard\n"
     ]
    },
    {
     "name": "stdin",
     "output_type": "stream",
     "text": [
      "Your answer (A-D):  A\n"
     ]
    },
    {
     "name": "stdout",
     "output_type": "stream",
     "text": [
      "\n",
      "46. (Git) Which command is commonly used to install or initialize Git?\n",
      "   A) pip install package\n",
      "   B) apt-get install pkg\n",
      "   C) npm install package\n",
      "   D) nan\n"
     ]
    },
    {
     "name": "stdin",
     "output_type": "stream",
     "text": [
      "Your answer (A-D):  A\n"
     ]
    },
    {
     "name": "stdout",
     "output_type": "stream",
     "text": [
      "\n",
      "47. (Git) What is the primary programming language associated with Git?\n",
      "   A) JavaScript\n",
      "   B) nan\n",
      "   C) Go\n",
      "   D) Python\n"
     ]
    },
    {
     "name": "stdin",
     "output_type": "stream",
     "text": [
      "Your answer (A-D):  A\n"
     ]
    },
    {
     "name": "stdout",
     "output_type": "stream",
     "text": [
      "\n",
      "48. (Git) Which of these is a key feature of Git?\n",
      "   A) Semantic tags\n",
      "   B) Schema‑based queries\n",
      "   C) Automation\n",
      "   D) Cascade\n"
     ]
    },
    {
     "name": "stdin",
     "output_type": "stream",
     "text": [
      "Your answer (A-D):  A\n"
     ]
    },
    {
     "name": "stdout",
     "output_type": "stream",
     "text": [
      "\n",
      "49. (Git) Which of the following could be considered a competitor or alternative to Git?\n",
      "   A) C#\n",
      "   B) Bash\n",
      "   C) React\n",
      "   D) Kubernetes\n"
     ]
    },
    {
     "name": "stdin",
     "output_type": "stream",
     "text": [
      "Your answer (A-D):  A\n"
     ]
    },
    {
     "name": "stdout",
     "output_type": "stream",
     "text": [
      "\n",
      "50. (Git) Under which license is Git primarily distributed?\n",
      "   A) MPL‑2.0\n",
      "   B) MIT\n",
      "   C) BSD\n",
      "   D) GPL‑2.0\n"
     ]
    },
    {
     "name": "stdin",
     "output_type": "stream",
     "text": [
      "Your answer (A-D):  A\n"
     ]
    },
    {
     "name": "stdout",
     "output_type": "stream",
     "text": [
      "\n",
      "51. (React Native) Which category best describes React Native?\n",
      "   A) Database\n",
      "   B) Architecture style\n",
      "   C) Technology\n",
      "   D) Mobile framework\n"
     ]
    },
    {
     "name": "stdin",
     "output_type": "stream",
     "text": [
      "Your answer (A-D):  A\n"
     ]
    },
    {
     "name": "stdout",
     "output_type": "stream",
     "text": [
      "\n",
      "52. (React Native) Who primarily maintains React Native?\n",
      "   A) Community\n",
      "   B) Foundation\n",
      "   C) Independent\n",
      "   D) Various\n"
     ]
    },
    {
     "name": "stdin",
     "output_type": "stream",
     "text": [
      "Your answer (A-D):  A\n"
     ]
    },
    {
     "name": "stdout",
     "output_type": "stream",
     "text": [
      "\n",
      "53. (React Native) In which year was React Native first released?\n",
      "   A) 1993\n",
      "   B) 1994\n",
      "   C) 1995\n",
      "   D) 1997\n"
     ]
    },
    {
     "name": "stdin",
     "output_type": "stream",
     "text": [
      "Your answer (A-D):  A\n"
     ]
    },
    {
     "name": "stdout",
     "output_type": "stream",
     "text": [
      "\n",
      "54. (React Native) What is a common file extension associated with React Native?\n",
      "   A) nan\n",
      "   B) .py\n",
      "   C) .go\n",
      "   D) .rs\n"
     ]
    },
    {
     "name": "stdin",
     "output_type": "stream",
     "text": [
      "Your answer (A-D):  A\n"
     ]
    },
    {
     "name": "stdout",
     "output_type": "stream",
     "text": [
      "\n",
      "55. (React Native) What is a primary use case of React Native?\n",
      "   A) Working with programming language\n",
      "   B) Working with networking protocol\n",
      "   C) Working with security standard\n",
      "   D) Working with mobile framework\n"
     ]
    },
    {
     "name": "stdin",
     "output_type": "stream",
     "text": [
      "Your answer (A-D):  A\n"
     ]
    },
    {
     "name": "stdout",
     "output_type": "stream",
     "text": [
      "\n",
      "56. (React Native) Which command is commonly used to install or initialize React Native?\n",
      "   A) npm install package\n",
      "   B) apt-get install pkg\n",
      "   C) pip install package\n",
      "   D) nan\n"
     ]
    },
    {
     "name": "stdin",
     "output_type": "stream",
     "text": [
      "Your answer (A-D):  A\n"
     ]
    },
    {
     "name": "stdout",
     "output_type": "stream",
     "text": [
      "\n",
      "57. (React Native) What is the primary programming language associated with React Native?\n",
      "   A) C#\n",
      "   B) nan\n",
      "   C) Python\n",
      "   D) Python\n"
     ]
    },
    {
     "name": "stdin",
     "output_type": "stream",
     "text": [
      "Your answer (A-D):  A\n"
     ]
    },
    {
     "name": "stdout",
     "output_type": "stream",
     "text": [
      "\n",
      "58. (React Native) Which of these is a key feature of React Native?\n",
      "   A) Native bridges\n",
      "   B) Data manipulation\n",
      "   C) Component‑based UI\n",
      "   D) Signed tokens\n"
     ]
    },
    {
     "name": "stdin",
     "output_type": "stream",
     "text": [
      "Your answer (A-D):  A\n"
     ]
    },
    {
     "name": "stdout",
     "output_type": "stream",
     "text": [
      "\n",
      "59. (React Native) Which of the following could be considered a competitor or alternative to React Native?\n",
      "   A) TensorFlow\n",
      "   B) Vue\n",
      "   C) Flask\n",
      "   D) Angular\n"
     ]
    },
    {
     "name": "stdin",
     "output_type": "stream",
     "text": [
      "Your answer (A-D):  A\n"
     ]
    },
    {
     "name": "stdout",
     "output_type": "stream",
     "text": [
      "\n",
      "60. (React Native) Under which license is React Native primarily distributed?\n",
      "   A) Apache‑2.0\n",
      "   B) Public Domain\n",
      "   C) MPL‑2.0\n",
      "   D) MIT\n"
     ]
    },
    {
     "name": "stdin",
     "output_type": "stream",
     "text": [
      "Your answer (A-D):  A\n"
     ]
    },
    {
     "ename": "ValueError",
     "evalue": "The feature names should match those that were passed during fit.\nFeature names unseen at fit time:\n- CLS_wt_score\n- Flexbox/_wt_score\n- Git_wt_score\n- GraphQL_wt_score\n- Grid_wt_score\n- ...\nFeature names seen at fit time, yet now missing:\n- code‑splitting_wt_score\n",
     "output_type": "error",
     "traceback": [
      "\u001b[1;31m---------------------------------------------------------------------------\u001b[0m",
      "\u001b[1;31mValueError\u001b[0m                                Traceback (most recent call last)",
      "Cell \u001b[1;32mIn[97], line 190\u001b[0m\n\u001b[0;32m    187\u001b[0m feats_new  \u001b[38;5;241m=\u001b[39m compute_candidate_features(quiz_stats, jd_dict, label_weights)\n\u001b[0;32m    188\u001b[0m df_feat    \u001b[38;5;241m=\u001b[39m pd\u001b[38;5;241m.\u001b[39mDataFrame([feats_new])\n\u001b[1;32m--> 190\u001b[0m decision \u001b[38;5;241m=\u001b[39m \u001b[43mrf\u001b[49m\u001b[38;5;241;43m.\u001b[39;49m\u001b[43mpredict\u001b[49m\u001b[43m(\u001b[49m\u001b[43mdf_feat\u001b[49m\u001b[43m)\u001b[49m[\u001b[38;5;241m0\u001b[39m]\n\u001b[0;32m    191\u001b[0m prob     \u001b[38;5;241m=\u001b[39m rf\u001b[38;5;241m.\u001b[39mpredict_proba(df_feat)[\u001b[38;5;241m0\u001b[39m][\u001b[38;5;241m1\u001b[39m]\n\u001b[0;32m    192\u001b[0m is_selected \u001b[38;5;241m=\u001b[39m \u001b[38;5;28mbool\u001b[39m(decision)\n",
      "File \u001b[1;32m~\\AppData\\Local\\Programs\\Python\\Python312\\Lib\\site-packages\\sklearn\\ensemble\\_forest.py:904\u001b[0m, in \u001b[0;36mForestClassifier.predict\u001b[1;34m(self, X)\u001b[0m\n\u001b[0;32m    883\u001b[0m \u001b[38;5;28;01mdef\u001b[39;00m \u001b[38;5;21mpredict\u001b[39m(\u001b[38;5;28mself\u001b[39m, X):\n\u001b[0;32m    884\u001b[0m \u001b[38;5;250m    \u001b[39m\u001b[38;5;124;03m\"\"\"\u001b[39;00m\n\u001b[0;32m    885\u001b[0m \u001b[38;5;124;03m    Predict class for X.\u001b[39;00m\n\u001b[0;32m    886\u001b[0m \n\u001b[1;32m   (...)\u001b[0m\n\u001b[0;32m    902\u001b[0m \u001b[38;5;124;03m        The predicted classes.\u001b[39;00m\n\u001b[0;32m    903\u001b[0m \u001b[38;5;124;03m    \"\"\"\u001b[39;00m\n\u001b[1;32m--> 904\u001b[0m     proba \u001b[38;5;241m=\u001b[39m \u001b[38;5;28;43mself\u001b[39;49m\u001b[38;5;241;43m.\u001b[39;49m\u001b[43mpredict_proba\u001b[49m\u001b[43m(\u001b[49m\u001b[43mX\u001b[49m\u001b[43m)\u001b[49m\n\u001b[0;32m    906\u001b[0m     \u001b[38;5;28;01mif\u001b[39;00m \u001b[38;5;28mself\u001b[39m\u001b[38;5;241m.\u001b[39mn_outputs_ \u001b[38;5;241m==\u001b[39m \u001b[38;5;241m1\u001b[39m:\n\u001b[0;32m    907\u001b[0m         \u001b[38;5;28;01mreturn\u001b[39;00m \u001b[38;5;28mself\u001b[39m\u001b[38;5;241m.\u001b[39mclasses_\u001b[38;5;241m.\u001b[39mtake(np\u001b[38;5;241m.\u001b[39margmax(proba, axis\u001b[38;5;241m=\u001b[39m\u001b[38;5;241m1\u001b[39m), axis\u001b[38;5;241m=\u001b[39m\u001b[38;5;241m0\u001b[39m)\n",
      "File \u001b[1;32m~\\AppData\\Local\\Programs\\Python\\Python312\\Lib\\site-packages\\sklearn\\ensemble\\_forest.py:946\u001b[0m, in \u001b[0;36mForestClassifier.predict_proba\u001b[1;34m(self, X)\u001b[0m\n\u001b[0;32m    944\u001b[0m check_is_fitted(\u001b[38;5;28mself\u001b[39m)\n\u001b[0;32m    945\u001b[0m \u001b[38;5;66;03m# Check data\u001b[39;00m\n\u001b[1;32m--> 946\u001b[0m X \u001b[38;5;241m=\u001b[39m \u001b[38;5;28;43mself\u001b[39;49m\u001b[38;5;241;43m.\u001b[39;49m\u001b[43m_validate_X_predict\u001b[49m\u001b[43m(\u001b[49m\u001b[43mX\u001b[49m\u001b[43m)\u001b[49m\n\u001b[0;32m    948\u001b[0m \u001b[38;5;66;03m# Assign chunk of trees to jobs\u001b[39;00m\n\u001b[0;32m    949\u001b[0m n_jobs, _, _ \u001b[38;5;241m=\u001b[39m _partition_estimators(\u001b[38;5;28mself\u001b[39m\u001b[38;5;241m.\u001b[39mn_estimators, \u001b[38;5;28mself\u001b[39m\u001b[38;5;241m.\u001b[39mn_jobs)\n",
      "File \u001b[1;32m~\\AppData\\Local\\Programs\\Python\\Python312\\Lib\\site-packages\\sklearn\\ensemble\\_forest.py:641\u001b[0m, in \u001b[0;36mBaseForest._validate_X_predict\u001b[1;34m(self, X)\u001b[0m\n\u001b[0;32m    638\u001b[0m \u001b[38;5;28;01melse\u001b[39;00m:\n\u001b[0;32m    639\u001b[0m     force_all_finite \u001b[38;5;241m=\u001b[39m \u001b[38;5;28;01mTrue\u001b[39;00m\n\u001b[1;32m--> 641\u001b[0m X \u001b[38;5;241m=\u001b[39m \u001b[38;5;28;43mself\u001b[39;49m\u001b[38;5;241;43m.\u001b[39;49m\u001b[43m_validate_data\u001b[49m\u001b[43m(\u001b[49m\n\u001b[0;32m    642\u001b[0m \u001b[43m    \u001b[49m\u001b[43mX\u001b[49m\u001b[43m,\u001b[49m\n\u001b[0;32m    643\u001b[0m \u001b[43m    \u001b[49m\u001b[43mdtype\u001b[49m\u001b[38;5;241;43m=\u001b[39;49m\u001b[43mDTYPE\u001b[49m\u001b[43m,\u001b[49m\n\u001b[0;32m    644\u001b[0m \u001b[43m    \u001b[49m\u001b[43maccept_sparse\u001b[49m\u001b[38;5;241;43m=\u001b[39;49m\u001b[38;5;124;43m\"\u001b[39;49m\u001b[38;5;124;43mcsr\u001b[39;49m\u001b[38;5;124;43m\"\u001b[39;49m\u001b[43m,\u001b[49m\n\u001b[0;32m    645\u001b[0m \u001b[43m    \u001b[49m\u001b[43mreset\u001b[49m\u001b[38;5;241;43m=\u001b[39;49m\u001b[38;5;28;43;01mFalse\u001b[39;49;00m\u001b[43m,\u001b[49m\n\u001b[0;32m    646\u001b[0m \u001b[43m    \u001b[49m\u001b[43mforce_all_finite\u001b[49m\u001b[38;5;241;43m=\u001b[39;49m\u001b[43mforce_all_finite\u001b[49m\u001b[43m,\u001b[49m\n\u001b[0;32m    647\u001b[0m \u001b[43m\u001b[49m\u001b[43m)\u001b[49m\n\u001b[0;32m    648\u001b[0m \u001b[38;5;28;01mif\u001b[39;00m issparse(X) \u001b[38;5;129;01mand\u001b[39;00m (X\u001b[38;5;241m.\u001b[39mindices\u001b[38;5;241m.\u001b[39mdtype \u001b[38;5;241m!=\u001b[39m np\u001b[38;5;241m.\u001b[39mintc \u001b[38;5;129;01mor\u001b[39;00m X\u001b[38;5;241m.\u001b[39mindptr\u001b[38;5;241m.\u001b[39mdtype \u001b[38;5;241m!=\u001b[39m np\u001b[38;5;241m.\u001b[39mintc):\n\u001b[0;32m    649\u001b[0m     \u001b[38;5;28;01mraise\u001b[39;00m \u001b[38;5;167;01mValueError\u001b[39;00m(\u001b[38;5;124m\"\u001b[39m\u001b[38;5;124mNo support for np.int64 index based sparse matrices\u001b[39m\u001b[38;5;124m\"\u001b[39m)\n",
      "File \u001b[1;32m~\\AppData\\Local\\Programs\\Python\\Python312\\Lib\\site-packages\\sklearn\\base.py:608\u001b[0m, in \u001b[0;36mBaseEstimator._validate_data\u001b[1;34m(self, X, y, reset, validate_separately, cast_to_ndarray, **check_params)\u001b[0m\n\u001b[0;32m    537\u001b[0m \u001b[38;5;28;01mdef\u001b[39;00m \u001b[38;5;21m_validate_data\u001b[39m(\n\u001b[0;32m    538\u001b[0m     \u001b[38;5;28mself\u001b[39m,\n\u001b[0;32m    539\u001b[0m     X\u001b[38;5;241m=\u001b[39m\u001b[38;5;124m\"\u001b[39m\u001b[38;5;124mno_validation\u001b[39m\u001b[38;5;124m\"\u001b[39m,\n\u001b[1;32m   (...)\u001b[0m\n\u001b[0;32m    544\u001b[0m     \u001b[38;5;241m*\u001b[39m\u001b[38;5;241m*\u001b[39mcheck_params,\n\u001b[0;32m    545\u001b[0m ):\n\u001b[0;32m    546\u001b[0m \u001b[38;5;250m    \u001b[39m\u001b[38;5;124;03m\"\"\"Validate input data and set or check the `n_features_in_` attribute.\u001b[39;00m\n\u001b[0;32m    547\u001b[0m \n\u001b[0;32m    548\u001b[0m \u001b[38;5;124;03m    Parameters\u001b[39;00m\n\u001b[1;32m   (...)\u001b[0m\n\u001b[0;32m    606\u001b[0m \u001b[38;5;124;03m        validated.\u001b[39;00m\n\u001b[0;32m    607\u001b[0m \u001b[38;5;124;03m    \"\"\"\u001b[39;00m\n\u001b[1;32m--> 608\u001b[0m     \u001b[38;5;28;43mself\u001b[39;49m\u001b[38;5;241;43m.\u001b[39;49m\u001b[43m_check_feature_names\u001b[49m\u001b[43m(\u001b[49m\u001b[43mX\u001b[49m\u001b[43m,\u001b[49m\u001b[43m \u001b[49m\u001b[43mreset\u001b[49m\u001b[38;5;241;43m=\u001b[39;49m\u001b[43mreset\u001b[49m\u001b[43m)\u001b[49m\n\u001b[0;32m    610\u001b[0m     \u001b[38;5;28;01mif\u001b[39;00m y \u001b[38;5;129;01mis\u001b[39;00m \u001b[38;5;28;01mNone\u001b[39;00m \u001b[38;5;129;01mand\u001b[39;00m \u001b[38;5;28mself\u001b[39m\u001b[38;5;241m.\u001b[39m_get_tags()[\u001b[38;5;124m\"\u001b[39m\u001b[38;5;124mrequires_y\u001b[39m\u001b[38;5;124m\"\u001b[39m]:\n\u001b[0;32m    611\u001b[0m         \u001b[38;5;28;01mraise\u001b[39;00m \u001b[38;5;167;01mValueError\u001b[39;00m(\n\u001b[0;32m    612\u001b[0m             \u001b[38;5;124mf\u001b[39m\u001b[38;5;124m\"\u001b[39m\u001b[38;5;124mThis \u001b[39m\u001b[38;5;132;01m{\u001b[39;00m\u001b[38;5;28mself\u001b[39m\u001b[38;5;241m.\u001b[39m\u001b[38;5;18m__class__\u001b[39m\u001b[38;5;241m.\u001b[39m\u001b[38;5;18m__name__\u001b[39m\u001b[38;5;132;01m}\u001b[39;00m\u001b[38;5;124m estimator \u001b[39m\u001b[38;5;124m\"\u001b[39m\n\u001b[0;32m    613\u001b[0m             \u001b[38;5;124m\"\u001b[39m\u001b[38;5;124mrequires y to be passed, but the target y is None.\u001b[39m\u001b[38;5;124m\"\u001b[39m\n\u001b[0;32m    614\u001b[0m         )\n",
      "File \u001b[1;32m~\\AppData\\Local\\Programs\\Python\\Python312\\Lib\\site-packages\\sklearn\\base.py:535\u001b[0m, in \u001b[0;36mBaseEstimator._check_feature_names\u001b[1;34m(self, X, reset)\u001b[0m\n\u001b[0;32m    530\u001b[0m \u001b[38;5;28;01mif\u001b[39;00m \u001b[38;5;129;01mnot\u001b[39;00m missing_names \u001b[38;5;129;01mand\u001b[39;00m \u001b[38;5;129;01mnot\u001b[39;00m unexpected_names:\n\u001b[0;32m    531\u001b[0m     message \u001b[38;5;241m+\u001b[39m\u001b[38;5;241m=\u001b[39m (\n\u001b[0;32m    532\u001b[0m         \u001b[38;5;124m\"\u001b[39m\u001b[38;5;124mFeature names must be in the same order as they were in fit.\u001b[39m\u001b[38;5;130;01m\\n\u001b[39;00m\u001b[38;5;124m\"\u001b[39m\n\u001b[0;32m    533\u001b[0m     )\n\u001b[1;32m--> 535\u001b[0m \u001b[38;5;28;01mraise\u001b[39;00m \u001b[38;5;167;01mValueError\u001b[39;00m(message)\n",
      "\u001b[1;31mValueError\u001b[0m: The feature names should match those that were passed during fit.\nFeature names unseen at fit time:\n- CLS_wt_score\n- Flexbox/_wt_score\n- Git_wt_score\n- GraphQL_wt_score\n- Grid_wt_score\n- ...\nFeature names seen at fit time, yet now missing:\n- code‑splitting_wt_score\n"
     ]
    }
   ],
   "source": [
    "# 0) Install dependencies (uncomment if needed)\n",
    "# !pip install sentence-transformers pandas scikit-learn joblib\n",
    "\n",
    "import re\n",
    "import json\n",
    "from collections import defaultdict\n",
    "import pandas as pd\n",
    "import joblib\n",
    "from sentence_transformers import SentenceTransformer, util\n",
    "\n",
    "# —————————————————————————————————————————————\n",
    "# 1) Load your pre-trained RF hire selector model\n",
    "# —————————————————————————————————————————————\n",
    "rf = joblib.load(\"rf_hire_model.joblib\")\n",
    "print(\"Model loaded from rf_hire_model.joblib\")\n",
    "\n",
    "# —————————————————————————————————————————————\n",
    "# 2) Your raw extractor outputs (JD & resume texts)\n",
    "# —————————————————————————————————————————————\n",
    "jd_text = \"\"\"\n",
    "Entities detected:\n",
    "React -> SKILL_PREFERRED\n",
    "Angular -> SKILL_PREFERRED\n",
    "code-splitting -> SKILL_REQUIRED\n",
    "Jest -> SKILL_REQUIRED\n",
    "web apps -> SKILL_REQUIRED\n",
    "HTML5 -> SKILL_REQUIRED\n",
    "Flexbox/ -> SKILL_PREFERRED\n",
    "Grid -> SKILL_PREFERRED\n",
    "Vue/Angular -> SKILL_PREFERRED\n",
    "TTI -> SKILL_REQUIRED\n",
    "CLS -> SKILL_BONUS\n",
    "LCP -> SKILL_BONUS\n",
    "RESTful APIs -> SKILL_PREFERRED\n",
    "GraphQL -> SKILL_BONUS\n",
    "Git -> SKILL_REQUIRED\n",
    "including branching strategies -> SKILL_REQUIRED\n",
    "TypeScript proficiency -> SKILL_REQUIRED\n",
    "\"\"\"\n",
    "\n",
    "resume_text = \"\"\"\n",
    "🎯 Detected Skills:\n",
    "- Codeignitor\n",
    "- JavaScript\n",
    "- MySQL\n",
    "- cPanel\n",
    "- MERN\n",
    "- Laravel\n",
    "- Vue JS\n",
    "- MySQL\n",
    "- Git\n",
    "- Github\n",
    "- Data Structures\n",
    "- Agile\n",
    "- UI/ UX\n",
    "- Natura - Online\n",
    "- React\n",
    "- MySQL\n",
    "- React Native\n",
    "- MS\n",
    "- SQL Fast Learning\n",
    "- Vue\n",
    "- Mongo DB\n",
    "- JS JAVA\n",
    "- VS Code\n",
    "- Postman\n",
    "- Android Development\n",
    "- Git & Github\n",
    "- Adobe Photoshop\n",
    "\"\"\"\n",
    "\n",
    "# —————————————————————————————————————————————\n",
    "# 3) Parse functions\n",
    "# —————————————————————————————————————————————\n",
    "def parse_jd(text):\n",
    "    jd = {}\n",
    "    for line in text.splitlines():\n",
    "        m = re.match(r'^\\s*(.+?)\\s*->\\s*(SKILL_[A-Z]+)\\s*$', line)\n",
    "        if m:\n",
    "            skill, label = m.groups()\n",
    "            jd[skill.strip()] = label\n",
    "    return jd\n",
    "\n",
    "def parse_resume(text):\n",
    "    skills = []\n",
    "    for line in text.splitlines():\n",
    "        if line.strip().startswith('-'):\n",
    "            skills.append(line.strip().lstrip('-').strip())\n",
    "    return list(dict.fromkeys(skills))\n",
    "\n",
    "jd_dict       = parse_jd(jd_text)\n",
    "resume_skills = parse_resume(resume_text)\n",
    "jd_skills     = list(jd_dict.keys())\n",
    "\n",
    "# —————————————————————————————————————————————\n",
    "# 4) Embed & filter resume skills via semantic similarity\n",
    "# —————————————————————————————————————————————\n",
    "model      = SentenceTransformer('all-MiniLM-L6-v2')\n",
    "jd_emb     = model.encode(jd_skills, convert_to_tensor=True)\n",
    "res_emb    = model.encode(resume_skills, convert_to_tensor=True)\n",
    "hits       = util.semantic_search(res_emb, jd_emb, top_k=1)\n",
    "\n",
    "THRESHOLD = 0.50\n",
    "matched_resume_skills = [\n",
    "    resume_skills[i]\n",
    "    for i, hit in enumerate(hits)\n",
    "    if hit[0]['score'] >= THRESHOLD\n",
    "]\n",
    "matched_resume_skills = list(dict.fromkeys(matched_resume_skills))\n",
    "print(\"Matched skills for quiz:\", matched_resume_skills)\n",
    "\n",
    "# —————————————————————————————————————————————\n",
    "# 5) Load MCQs and select questions for matched skills\n",
    "# —————————————————————————————————————————————\n",
    "with open(\"mcq.json\", \"r\", encoding=\"utf-8\") as f:\n",
    "    all_mcqs = json.load(f)\n",
    "\n",
    "quiz_questions = [\n",
    "    q for q in all_mcqs\n",
    "    if q[\"skill\"] in matched_resume_skills\n",
    "]\n",
    "\n",
    "# —————————————————————————————————————————————\n",
    "# 6) Quiz runner & raw count calculator\n",
    "# —————————————————————————————————————————————\n",
    "def run_quiz(questions):\n",
    "    results = []\n",
    "    letter_to_idx = {\"A\":0, \"B\":1, \"C\":2, \"D\":3}\n",
    "    for idx, q in enumerate(questions, start=1):\n",
    "        print(f\"\\n{idx}. ({q['skill']}) {q['question']}\")\n",
    "        for L, opt in zip(letter_to_idx, q[\"options\"]):\n",
    "            print(f\"   {L}) {opt}\")\n",
    "        while True:\n",
    "            ans = input(\"Your answer (A-D): \").strip().upper()\n",
    "            if ans in letter_to_idx:\n",
    "                break\n",
    "        chosen = q[\"options\"][letter_to_idx[ans]]\n",
    "        results.append((q[\"skill\"], chosen == q[\"correct_answer\"]))\n",
    "    return results\n",
    "\n",
    "def calc_raw_counts(results):\n",
    "    tally = defaultdict(lambda: [0,0])\n",
    "    for skill, ok in results:\n",
    "        tally[skill][1] += 1\n",
    "        if ok:\n",
    "            tally[skill][0] += 1\n",
    "    return {sk: tuple(ct) for sk, ct in tally.items()}\n",
    "\n",
    "# —————————————————————————————————————————————\n",
    "# 7) Feature engineering for RF model\n",
    "# —————————————————————————————————————————————\n",
    "label_weights = {\n",
    "    \"SKILL_REQUIRED\":   1.0,\n",
    "    \"SKILL_PREFERRED\":  0.6,\n",
    "    \"SKILL_BONUS\":      0.3,\n",
    "}\n",
    "\n",
    "def compute_candidate_features(quiz_stats, jd_dict, label_weights):\n",
    "    feats = {}\n",
    "    total_weight = sum(label_weights[label] for label in jd_dict.values())\n",
    "    weighted_sum = 0.0\n",
    "    covered = 0\n",
    "\n",
    "    for skill, label in jd_dict.items():\n",
    "        w = label_weights[label]\n",
    "        correct, total_q = quiz_stats.get(skill, (0,0))\n",
    "        pct = correct / total_q if total_q else 0.0\n",
    "        feats[f\"{skill}_wt_score\"] = pct * w\n",
    "        weighted_sum += pct * w\n",
    "        if total_q > 0:\n",
    "            covered += 1\n",
    "\n",
    "    feats[\"overall_weighted_avg\"] = weighted_sum / total_weight\n",
    "    feats[\"skills_covered_ratio\"] = covered / len(jd_dict)\n",
    "    feats[\"missing_skills_count\"] = len(jd_dict) - covered\n",
    "    return feats\n",
    "\n",
    "# —————————————————————————————————————————————\n",
    "# 8) Main execution: quiz + prediction\n",
    "# —————————————————————————————————————————————\n",
    "if __name__ == \"__main__\":\n",
    "    if not quiz_questions:\n",
    "        print(\"No questions for skills:\", matched_resume_skills)\n",
    "    else:\n",
    "        results    = run_quiz(quiz_questions)\n",
    "        quiz_stats = calc_raw_counts(results)\n",
    "        feats_new  = compute_candidate_features(quiz_stats, jd_dict, label_weights)\n",
    "        df_feat    = pd.DataFrame([feats_new])\n",
    "\n",
    "        decision = rf.predict(df_feat)[0]\n",
    "        prob     = rf.predict_proba(df_feat)[0][1]\n",
    "        is_selected = bool(decision)\n",
    "\n",
    "        print(\"\\n=== FINAL DECISION ===\")\n",
    "        print(\"Selected\" if is_selected else \"Not Selected\", f\"({prob:.2f} probability)\")\n",
    "        print(\"Boolean flag:\", is_selected)\n"
   ]
  },
  {
   "cell_type": "code",
   "execution_count": 98,
   "id": "c13e7b97-a789-4855-b369-963d476d632b",
   "metadata": {},
   "outputs": [
    {
     "name": "stdout",
     "output_type": "stream",
     "text": [
      "Model loaded from rf_hire_model.joblib\n",
      "Matched skills for quiz: ['JavaScript', 'MySQL', 'Vue JS', 'Git', 'Github', 'React', 'React Native', 'Vue', 'Git & Github']\n",
      "\n",
      "1. (React) Which category best describes React?\n",
      "   A) Front‑end framework\n",
      "   B) Back‑end framework\n",
      "   C) Security standard\n",
      "   D) Styling language\n"
     ]
    },
    {
     "name": "stdin",
     "output_type": "stream",
     "text": [
      "Your answer (A-D):  A\n"
     ]
    },
    {
     "name": "stdout",
     "output_type": "stream",
     "text": [
      "\n",
      "2. (React) Who primarily maintains React?\n",
      "   A) Various\n",
      "   B) Corporate\n",
      "   C) Foundation\n",
      "   D) Independent\n"
     ]
    },
    {
     "name": "stdin",
     "output_type": "stream",
     "text": [
      "Your answer (A-D):  A\n"
     ]
    },
    {
     "name": "stdout",
     "output_type": "stream",
     "text": [
      "\n",
      "3. (React) In which year was React first released?\n",
      "   A) 1997\n",
      "   B) 1999\n",
      "   C) 1998\n",
      "   D) 2000\n"
     ]
    },
    {
     "name": "stdin",
     "output_type": "stream",
     "text": [
      "Your answer (A-D):  A\n"
     ]
    },
    {
     "name": "stdout",
     "output_type": "stream",
     "text": [
      "\n",
      "4. (React) What is a common file extension associated with React?\n",
      "   A) .json\n",
      "   B) nan\n",
      "   C) .js\n",
      "   D) .yaml\n"
     ]
    },
    {
     "name": "stdin",
     "output_type": "stream",
     "text": [
      "Your answer (A-D):  A\n"
     ]
    },
    {
     "name": "stdout",
     "output_type": "stream",
     "text": [
      "\n",
      "5. (React) What is a primary use case of React?\n",
      "   A) Working with front‑end framework\n",
      "   B) Working with security standard\n",
      "   C) Working with mobile framework\n",
      "   D) Working with testing framework\n"
     ]
    },
    {
     "name": "stdin",
     "output_type": "stream",
     "text": [
      "Your answer (A-D):  A\n"
     ]
    },
    {
     "name": "stdout",
     "output_type": "stream",
     "text": [
      "\n",
      "6. (React) Which command is commonly used to install or initialize React?\n",
      "   A) apt-get install pkg\n",
      "   B) nan\n",
      "   C) brew install pkg\n",
      "   D) npm install react\n"
     ]
    },
    {
     "name": "stdin",
     "output_type": "stream",
     "text": [
      "Your answer (A-D):  A\n"
     ]
    },
    {
     "name": "stdout",
     "output_type": "stream",
     "text": [
      "\n",
      "7. (React) What is the primary programming language associated with React?\n",
      "   A) Swift\n",
      "   B) JavaScript\n",
      "   C) Python\n",
      "   D) nan\n"
     ]
    },
    {
     "name": "stdin",
     "output_type": "stream",
     "text": [
      "Your answer (A-D):  A\n"
     ]
    },
    {
     "name": "stdout",
     "output_type": "stream",
     "text": [
      "\n",
      "8. (React) Which of these is a key feature of React?\n",
      "   A) Component‑based UI\n",
      "   B) Event loop\n",
      "   C) Routing\n",
      "   D) Schema‑based queries\n"
     ]
    },
    {
     "name": "stdin",
     "output_type": "stream",
     "text": [
      "Your answer (A-D):  A\n"
     ]
    },
    {
     "name": "stdout",
     "output_type": "stream",
     "text": [
      "\n",
      "9. (React) Which of the following could be considered a competitor or alternative to React?\n",
      "   A) GCP\n",
      "   B) SQLite\n",
      "   C) Vue\n",
      "   D) Bash\n"
     ]
    },
    {
     "name": "stdin",
     "output_type": "stream",
     "text": [
      "Your answer (A-D):  A\n"
     ]
    },
    {
     "name": "stdout",
     "output_type": "stream",
     "text": [
      "\n",
      "10. (React) Under which license is React primarily distributed?\n",
      "   A) MIT\n",
      "   B) Public Domain\n",
      "   C) MPL‑2.0\n",
      "   D) Proprietary\n"
     ]
    },
    {
     "name": "stdin",
     "output_type": "stream",
     "text": [
      "Your answer (A-D):  A\n"
     ]
    },
    {
     "name": "stdout",
     "output_type": "stream",
     "text": [
      "\n",
      "11. (JavaScript) Which category best describes JavaScript?\n",
      "   A) Operating system\n",
      "   B) Technology\n",
      "   C) Back‑end runtime\n",
      "   D) Security protocol\n"
     ]
    },
    {
     "name": "stdin",
     "output_type": "stream",
     "text": [
      "Your answer (A-D):  A\n"
     ]
    },
    {
     "name": "stdout",
     "output_type": "stream",
     "text": [
      "\n",
      "12. (JavaScript) Who primarily maintains JavaScript?\n",
      "   A) Community\n",
      "   B) Various\n",
      "   C) Foundation\n",
      "   D) Independent\n"
     ]
    },
    {
     "name": "stdin",
     "output_type": "stream",
     "text": [
      "Your answer (A-D):  A\n"
     ]
    },
    {
     "name": "stdout",
     "output_type": "stream",
     "text": [
      "\n",
      "13. (JavaScript) In which year was JavaScript first released?\n",
      "   A) 1992\n",
      "   B) 1990\n",
      "   C) 1987\n",
      "   D) 1988\n"
     ]
    },
    {
     "name": "stdin",
     "output_type": "stream",
     "text": [
      "Your answer (A-D):  A\n"
     ]
    },
    {
     "name": "stdout",
     "output_type": "stream",
     "text": [
      "\n",
      "14. (JavaScript) What is a common file extension associated with JavaScript?\n",
      "   A) .css\n",
      "   B) .py\n",
      "   C) .js\n",
      "   D) nan\n"
     ]
    },
    {
     "name": "stdin",
     "output_type": "stream",
     "text": [
      "Your answer (A-D):  A\n"
     ]
    },
    {
     "name": "stdout",
     "output_type": "stream",
     "text": [
      "\n",
      "15. (JavaScript) What is a primary use case of JavaScript?\n",
      "   A) Working with technology\n",
      "   B) Working with programming language\n",
      "   C) Working with testing framework\n",
      "   D) Working with networking protocol\n"
     ]
    },
    {
     "name": "stdin",
     "output_type": "stream",
     "text": [
      "Your answer (A-D):  A\n"
     ]
    },
    {
     "name": "stdout",
     "output_type": "stream",
     "text": [
      "\n",
      "16. (JavaScript) Which command is commonly used to install or initialize JavaScript?\n",
      "   A) brew install pkg\n",
      "   B) pip install package\n",
      "   C) npm install package\n",
      "   D) nan\n"
     ]
    },
    {
     "name": "stdin",
     "output_type": "stream",
     "text": [
      "Your answer (A-D):  A\n"
     ]
    },
    {
     "name": "stdout",
     "output_type": "stream",
     "text": [
      "\n",
      "17. (JavaScript) What is the primary programming language associated with JavaScript?\n",
      "   A) Kotlin\n",
      "   B) JavaScript\n",
      "   C) Swift\n",
      "   D) Go\n"
     ]
    },
    {
     "name": "stdin",
     "output_type": "stream",
     "text": [
      "Your answer (A-D):  A\n"
     ]
    },
    {
     "name": "stdout",
     "output_type": "stream",
     "text": [
      "\n",
      "18. (JavaScript) Which of these is a key feature of JavaScript?\n",
      "   A) Event loop\n",
      "   B) Feature X\n",
      "   C) Publish‑subscribe\n",
      "   D) Native bridges\n"
     ]
    },
    {
     "name": "stdin",
     "output_type": "stream",
     "text": [
      "Your answer (A-D):  A\n"
     ]
    },
    {
     "name": "stdout",
     "output_type": "stream",
     "text": [
      "\n",
      "19. (JavaScript) Which of the following could be considered a competitor or alternative to JavaScript?\n",
      "   A) Kubernetes\n",
      "   B) Jest\n",
      "   C) Kotlin\n",
      "   D) Python\n"
     ]
    },
    {
     "name": "stdin",
     "output_type": "stream",
     "text": [
      "Your answer (A-D):  A\n"
     ]
    },
    {
     "name": "stdout",
     "output_type": "stream",
     "text": [
      "\n",
      "20. (JavaScript) Under which license is JavaScript primarily distributed?\n",
      "   A) MIT\n",
      "   B) Proprietary\n",
      "   C) GPL‑2.0\n",
      "   D) BSD\n"
     ]
    },
    {
     "name": "stdin",
     "output_type": "stream",
     "text": [
      "Your answer (A-D):  A\n"
     ]
    },
    {
     "name": "stdout",
     "output_type": "stream",
     "text": [
      "\n",
      "21. (Vue) Which category best describes Vue?\n",
      "   A) Cloud platform\n",
      "   B) DevOps tool\n",
      "   C) Data library\n",
      "   D) Front‑end framework\n"
     ]
    },
    {
     "name": "stdin",
     "output_type": "stream",
     "text": [
      "Your answer (A-D):  A\n"
     ]
    },
    {
     "name": "stdout",
     "output_type": "stream",
     "text": [
      "\n",
      "22. (Vue) Who primarily maintains Vue?\n",
      "   A) Various\n",
      "   B) Community\n",
      "   C) Independent\n",
      "   D) Foundation\n"
     ]
    },
    {
     "name": "stdin",
     "output_type": "stream",
     "text": [
      "Your answer (A-D):  A\n"
     ]
    },
    {
     "name": "stdout",
     "output_type": "stream",
     "text": [
      "\n",
      "23. (Vue) In which year was Vue first released?\n",
      "   A) 2011\n",
      "   B) 2014\n",
      "   C) 2013\n",
      "   D) 2010\n"
     ]
    },
    {
     "name": "stdin",
     "output_type": "stream",
     "text": [
      "Your answer (A-D):  A\n"
     ]
    },
    {
     "name": "stdout",
     "output_type": "stream",
     "text": [
      "\n",
      "24. (Vue) What is a common file extension associated with Vue?\n",
      "   A) .json\n",
      "   B) .cs\n",
      "   C) nan\n",
      "   D) .css\n"
     ]
    },
    {
     "name": "stdin",
     "output_type": "stream",
     "text": [
      "Your answer (A-D):  A\n"
     ]
    },
    {
     "name": "stdout",
     "output_type": "stream",
     "text": [
      "\n",
      "25. (Vue) What is a primary use case of Vue?\n",
      "   A) Working with devops tool\n",
      "   B) Working with front‑end framework\n",
      "   C) Working with security standard\n",
      "   D) Working with networking protocol\n"
     ]
    },
    {
     "name": "stdin",
     "output_type": "stream",
     "text": [
      "Your answer (A-D):  A\n"
     ]
    },
    {
     "name": "stdout",
     "output_type": "stream",
     "text": [
      "\n",
      "26. (Vue) Which command is commonly used to install or initialize Vue?\n",
      "   A) pip install package\n",
      "   B) nan\n",
      "   C) npm install vue\n",
      "   D) npm install package\n"
     ]
    },
    {
     "name": "stdin",
     "output_type": "stream",
     "text": [
      "Your answer (A-D):  A\n"
     ]
    },
    {
     "name": "stdout",
     "output_type": "stream",
     "text": [
      "\n",
      "27. (Vue) What is the primary programming language associated with Vue?\n",
      "   A) C#\n",
      "   B) JavaScript\n",
      "   C) TypeScript\n",
      "   D) Swift\n"
     ]
    },
    {
     "name": "stdin",
     "output_type": "stream",
     "text": [
      "Your answer (A-D):  A\n"
     ]
    },
    {
     "name": "stdout",
     "output_type": "stream",
     "text": [
      "\n",
      "28. (Vue) Which of these is a key feature of Vue?\n",
      "   A) Data manipulation\n",
      "   B) Full‑duplex\n",
      "   C) Component‑based UI\n",
      "   D) Command scripting\n"
     ]
    },
    {
     "name": "stdin",
     "output_type": "stream",
     "text": [
      "Your answer (A-D):  A\n"
     ]
    },
    {
     "name": "stdout",
     "output_type": "stream",
     "text": [
      "\n",
      "29. (Vue) Which of the following could be considered a competitor or alternative to Vue?\n",
      "   A) MySQL\n",
      "   B) GitHub Actions\n",
      "   C) RabbitMQ\n",
      "   D) Go\n"
     ]
    },
    {
     "name": "stdin",
     "output_type": "stream",
     "text": [
      "Your answer (A-D):  A\n"
     ]
    },
    {
     "name": "stdout",
     "output_type": "stream",
     "text": [
      "\n",
      "30. (Vue) Under which license is Vue primarily distributed?\n",
      "   A) Proprietary\n",
      "   B) GPL‑2.0\n",
      "   C) BSD\n",
      "   D) MPL‑2.0\n"
     ]
    },
    {
     "name": "stdin",
     "output_type": "stream",
     "text": [
      "Your answer (A-D):  A\n"
     ]
    },
    {
     "name": "stdout",
     "output_type": "stream",
     "text": [
      "\n",
      "31. (MySQL) Which category best describes MySQL?\n",
      "   A) Database\n",
      "   B) Security protocol\n",
      "   C) Front‑end framework\n",
      "   D) Styling language\n"
     ]
    },
    {
     "name": "stdin",
     "output_type": "stream",
     "text": [
      "Your answer (A-D):  A\n"
     ]
    },
    {
     "name": "stdout",
     "output_type": "stream",
     "text": [
      "\n",
      "32. (MySQL) Who primarily maintains MySQL?\n",
      "   A) Foundation\n",
      "   B) Various\n",
      "   C) Corporate\n",
      "   D) Community\n"
     ]
    },
    {
     "name": "stdin",
     "output_type": "stream",
     "text": [
      "Your answer (A-D):  A\n"
     ]
    },
    {
     "name": "stdout",
     "output_type": "stream",
     "text": [
      "\n",
      "33. (MySQL) In which year was MySQL first released?\n",
      "   A) 2006\n",
      "   B) 2007\n",
      "   C) 2004\n",
      "   D) 2005\n"
     ]
    },
    {
     "name": "stdin",
     "output_type": "stream",
     "text": [
      "Your answer (A-D):  A\n"
     ]
    },
    {
     "name": "stdout",
     "output_type": "stream",
     "text": [
      "\n",
      "34. (MySQL) What is a common file extension associated with MySQL?\n",
      "   A) .rs\n",
      "   B) .html\n",
      "   C) .sql\n",
      "   D) nan\n"
     ]
    },
    {
     "name": "stdin",
     "output_type": "stream",
     "text": [
      "Your answer (A-D):  AA\n",
      "Your answer (A-D):  A\n"
     ]
    },
    {
     "name": "stdout",
     "output_type": "stream",
     "text": [
      "\n",
      "35. (MySQL) What is a primary use case of MySQL?\n",
      "   A) Working with programming language\n",
      "   B) Working with back‑end runtime\n",
      "   C) Working with devops tool\n",
      "   D) Working with database\n"
     ]
    },
    {
     "name": "stdin",
     "output_type": "stream",
     "text": [
      "Your answer (A-D):  A\n"
     ]
    },
    {
     "name": "stdout",
     "output_type": "stream",
     "text": [
      "\n",
      "36. (MySQL) Which command is commonly used to install or initialize MySQL?\n",
      "   A) nan\n",
      "   B) pip install package\n",
      "   C) brew install pkg\n",
      "   D) npm install package\n"
     ]
    },
    {
     "name": "stdin",
     "output_type": "stream",
     "text": [
      "Your answer (A-D):  A\n"
     ]
    },
    {
     "name": "stdout",
     "output_type": "stream",
     "text": [
      "\n",
      "37. (MySQL) What is the primary programming language associated with MySQL?\n",
      "   A) Swift\n",
      "   B) TypeScript\n",
      "   C) Python\n",
      "   D) nan\n"
     ]
    },
    {
     "name": "stdin",
     "output_type": "stream",
     "text": [
      "Your answer (A-D):  A\n"
     ]
    },
    {
     "name": "stdout",
     "output_type": "stream",
     "text": [
      "\n",
      "38. (MySQL) Which of these is a key feature of MySQL?\n",
      "   A) Loose coupling\n",
      "   B) Data manipulation\n",
      "   C) Data storage\n",
      "   D) Native bridges\n"
     ]
    },
    {
     "name": "stdin",
     "output_type": "stream",
     "text": [
      "Your answer (A-D):  A\n"
     ]
    },
    {
     "name": "stdout",
     "output_type": "stream",
     "text": [
      "\n",
      "39. (MySQL) Which of the following could be considered a competitor or alternative to MySQL?\n",
      "   A) Pandas\n",
      "   B) NumPy\n",
      "   C) CircleCI\n",
      "   D) Java\n"
     ]
    },
    {
     "name": "stdin",
     "output_type": "stream",
     "text": [
      "Your answer (A-D):  A\n"
     ]
    },
    {
     "name": "stdout",
     "output_type": "stream",
     "text": [
      "\n",
      "40. (MySQL) Under which license is MySQL primarily distributed?\n",
      "   A) Proprietary\n",
      "   B) MIT\n",
      "   C) MPL‑2.0\n",
      "   D) Apache‑2.0\n"
     ]
    },
    {
     "name": "stdin",
     "output_type": "stream",
     "text": [
      "Your answer (A-D):  A\n"
     ]
    },
    {
     "name": "stdout",
     "output_type": "stream",
     "text": [
      "\n",
      "41. (Git) Which category best describes Git?\n",
      "   A) DevOps tool\n",
      "   B) Machine learning library\n",
      "   C) Security standard\n",
      "   D) Technology\n"
     ]
    },
    {
     "name": "stdin",
     "output_type": "stream",
     "text": [
      "Your answer (A-D):  A\n"
     ]
    },
    {
     "name": "stdout",
     "output_type": "stream",
     "text": [
      "\n",
      "42. (Git) Who primarily maintains Git?\n",
      "   A) Corporate\n",
      "   B) Various\n",
      "   C) Independent\n",
      "   D) Community\n"
     ]
    },
    {
     "name": "stdin",
     "output_type": "stream",
     "text": [
      "Your answer (A-D):  A\n"
     ]
    },
    {
     "name": "stdout",
     "output_type": "stream",
     "text": [
      "\n",
      "43. (Git) In which year was Git first released?\n",
      "   A) 2006\n",
      "   B) 2004\n",
      "   C) 2005\n",
      "   D) 2007\n"
     ]
    },
    {
     "name": "stdin",
     "output_type": "stream",
     "text": [
      "Your answer (A-D):  A\n"
     ]
    },
    {
     "name": "stdout",
     "output_type": "stream",
     "text": [
      "\n",
      "44. (Git) What is a common file extension associated with Git?\n",
      "   A) nan\n",
      "   B) .ts\n",
      "   C) .rs\n",
      "   D) .yml\n"
     ]
    },
    {
     "name": "stdin",
     "output_type": "stream",
     "text": [
      "Your answer (A-D):  A\n"
     ]
    },
    {
     "name": "stdout",
     "output_type": "stream",
     "text": [
      "\n",
      "45. (Git) What is a primary use case of Git?\n",
      "   A) Working with devops tool\n",
      "   B) Working with database\n",
      "   C) Working with programming language\n",
      "   D) Working with security standard\n"
     ]
    },
    {
     "name": "stdin",
     "output_type": "stream",
     "text": [
      "Your answer (A-D):  A\n"
     ]
    },
    {
     "name": "stdout",
     "output_type": "stream",
     "text": [
      "\n",
      "46. (Git) Which command is commonly used to install or initialize Git?\n",
      "   A) pip install package\n",
      "   B) apt-get install pkg\n",
      "   C) npm install package\n",
      "   D) nan\n"
     ]
    },
    {
     "name": "stdin",
     "output_type": "stream",
     "text": [
      "Your answer (A-D):  A\n"
     ]
    },
    {
     "name": "stdout",
     "output_type": "stream",
     "text": [
      "\n",
      "47. (Git) What is the primary programming language associated with Git?\n",
      "   A) JavaScript\n",
      "   B) nan\n",
      "   C) Go\n",
      "   D) Python\n"
     ]
    },
    {
     "name": "stdin",
     "output_type": "stream",
     "text": [
      "Your answer (A-D):  A\n"
     ]
    },
    {
     "name": "stdout",
     "output_type": "stream",
     "text": [
      "\n",
      "48. (Git) Which of these is a key feature of Git?\n",
      "   A) Semantic tags\n",
      "   B) Schema‑based queries\n",
      "   C) Automation\n",
      "   D) Cascade\n"
     ]
    },
    {
     "name": "stdin",
     "output_type": "stream",
     "text": [
      "Your answer (A-D):  A\n"
     ]
    },
    {
     "name": "stdout",
     "output_type": "stream",
     "text": [
      "\n",
      "49. (Git) Which of the following could be considered a competitor or alternative to Git?\n",
      "   A) C#\n",
      "   B) Bash\n",
      "   C) React\n",
      "   D) Kubernetes\n"
     ]
    },
    {
     "name": "stdin",
     "output_type": "stream",
     "text": [
      "Your answer (A-D):  A\n"
     ]
    },
    {
     "name": "stdout",
     "output_type": "stream",
     "text": [
      "\n",
      "50. (Git) Under which license is Git primarily distributed?\n",
      "   A) MPL‑2.0\n",
      "   B) MIT\n",
      "   C) BSD\n",
      "   D) GPL‑2.0\n"
     ]
    },
    {
     "name": "stdin",
     "output_type": "stream",
     "text": [
      "Your answer (A-D):  A\n"
     ]
    },
    {
     "name": "stdout",
     "output_type": "stream",
     "text": [
      "\n",
      "51. (React Native) Which category best describes React Native?\n",
      "   A) Database\n",
      "   B) Architecture style\n",
      "   C) Technology\n",
      "   D) Mobile framework\n"
     ]
    },
    {
     "name": "stdin",
     "output_type": "stream",
     "text": [
      "Your answer (A-D):  A\n"
     ]
    },
    {
     "name": "stdout",
     "output_type": "stream",
     "text": [
      "\n",
      "52. (React Native) Who primarily maintains React Native?\n",
      "   A) Community\n",
      "   B) Foundation\n",
      "   C) Independent\n",
      "   D) Various\n"
     ]
    },
    {
     "name": "stdin",
     "output_type": "stream",
     "text": [
      "Your answer (A-D):  A\n"
     ]
    },
    {
     "name": "stdout",
     "output_type": "stream",
     "text": [
      "\n",
      "53. (React Native) In which year was React Native first released?\n",
      "   A) 1993\n",
      "   B) 1994\n",
      "   C) 1995\n",
      "   D) 1997\n"
     ]
    },
    {
     "name": "stdin",
     "output_type": "stream",
     "text": [
      "Your answer (A-D):  A\n"
     ]
    },
    {
     "name": "stdout",
     "output_type": "stream",
     "text": [
      "\n",
      "54. (React Native) What is a common file extension associated with React Native?\n",
      "   A) nan\n",
      "   B) .py\n",
      "   C) .go\n",
      "   D) .rs\n"
     ]
    },
    {
     "name": "stdin",
     "output_type": "stream",
     "text": [
      "Your answer (A-D):  A\n"
     ]
    },
    {
     "name": "stdout",
     "output_type": "stream",
     "text": [
      "\n",
      "55. (React Native) What is a primary use case of React Native?\n",
      "   A) Working with programming language\n",
      "   B) Working with networking protocol\n",
      "   C) Working with security standard\n",
      "   D) Working with mobile framework\n"
     ]
    },
    {
     "name": "stdin",
     "output_type": "stream",
     "text": [
      "Your answer (A-D):  A\n"
     ]
    },
    {
     "name": "stdout",
     "output_type": "stream",
     "text": [
      "\n",
      "56. (React Native) Which command is commonly used to install or initialize React Native?\n",
      "   A) npm install package\n",
      "   B) apt-get install pkg\n",
      "   C) pip install package\n",
      "   D) nan\n"
     ]
    },
    {
     "name": "stdin",
     "output_type": "stream",
     "text": [
      "Your answer (A-D):  A\n"
     ]
    },
    {
     "name": "stdout",
     "output_type": "stream",
     "text": [
      "\n",
      "57. (React Native) What is the primary programming language associated with React Native?\n",
      "   A) C#\n",
      "   B) nan\n",
      "   C) Python\n",
      "   D) Python\n"
     ]
    },
    {
     "name": "stdin",
     "output_type": "stream",
     "text": [
      "Your answer (A-D):  A\n"
     ]
    },
    {
     "name": "stdout",
     "output_type": "stream",
     "text": [
      "\n",
      "58. (React Native) Which of these is a key feature of React Native?\n",
      "   A) Native bridges\n",
      "   B) Data manipulation\n",
      "   C) Component‑based UI\n",
      "   D) Signed tokens\n"
     ]
    },
    {
     "name": "stdin",
     "output_type": "stream",
     "text": [
      "Your answer (A-D):  A\n"
     ]
    },
    {
     "name": "stdout",
     "output_type": "stream",
     "text": [
      "\n",
      "59. (React Native) Which of the following could be considered a competitor or alternative to React Native?\n",
      "   A) TensorFlow\n",
      "   B) Vue\n",
      "   C) Flask\n",
      "   D) Angular\n"
     ]
    },
    {
     "name": "stdin",
     "output_type": "stream",
     "text": [
      "Your answer (A-D):  A\n"
     ]
    },
    {
     "name": "stdout",
     "output_type": "stream",
     "text": [
      "\n",
      "60. (React Native) Under which license is React Native primarily distributed?\n",
      "   A) Apache‑2.0\n",
      "   B) Public Domain\n",
      "   C) MPL‑2.0\n",
      "   D) MIT\n"
     ]
    },
    {
     "name": "stdin",
     "output_type": "stream",
     "text": [
      "Your answer (A-D):  A\n"
     ]
    },
    {
     "name": "stdout",
     "output_type": "stream",
     "text": [
      "\n",
      "=== FINAL DECISION ===\n",
      "Not Selected (0.00 probability)\n",
      "Boolean flag: False\n"
     ]
    }
   ],
   "source": [
    "# 0) Install dependencies (uncomment if needed)\n",
    "# !pip install sentence-transformers pandas scikit-learn joblib\n",
    "\n",
    "import re\n",
    "import json\n",
    "from collections import defaultdict\n",
    "import pandas as pd\n",
    "import joblib\n",
    "from sentence_transformers import SentenceTransformer, util\n",
    "\n",
    "# —————————————————————————————————————————————\n",
    "# 1) Load your pre-trained RF hire selector model\n",
    "# —————————————————————————————————————————————\n",
    "rf = joblib.load(\"rf_hire_model.joblib\")\n",
    "print(\"Model loaded from rf_hire_model.joblib\")\n",
    "\n",
    "# —————————————————————————————————————————————\n",
    "# 2) Your raw extractor outputs (JD & resume texts)\n",
    "# —————————————————————————————————————————————\n",
    "jd_text = \"\"\"\n",
    "Entities detected:\n",
    "React -> SKILL_PREFERRED\n",
    "Angular -> SKILL_PREFERRED\n",
    "code-splitting -> SKILL_REQUIRED\n",
    "Jest -> SKILL_REQUIRED\n",
    "web apps -> SKILL_REQUIRED\n",
    "HTML5 -> SKILL_REQUIRED\n",
    "Flexbox/ -> SKILL_PREFERRED\n",
    "Grid -> SKILL_PREFERRED\n",
    "Vue/Angular -> SKILL_PREFERRED\n",
    "TTI -> SKILL_REQUIRED\n",
    "CLS -> SKILL_BONUS\n",
    "LCP -> SKILL_BONUS\n",
    "RESTful APIs -> SKILL_PREFERRED\n",
    "GraphQL -> SKILL_BONUS\n",
    "Git -> SKILL_REQUIRED\n",
    "including branching strategies -> SKILL_REQUIRED\n",
    "TypeScript proficiency -> SKILL_REQUIRED\n",
    "\"\"\"\n",
    "\n",
    "resume_text = \"\"\"\n",
    "🎯 Detected Skills:\n",
    "- Codeignitor\n",
    "- JavaScript\n",
    "- MySQL\n",
    "- cPanel\n",
    "- MERN\n",
    "- Laravel\n",
    "- Vue JS\n",
    "- MySQL\n",
    "- Git\n",
    "- Github\n",
    "- Data Structures\n",
    "- Agile\n",
    "- UI/ UX\n",
    "- Natura - Online\n",
    "- React\n",
    "- MySQL\n",
    "- React Native\n",
    "- MS\n",
    "- SQL Fast Learning\n",
    "- Vue\n",
    "- Mongo DB\n",
    "- JS JAVA\n",
    "- VS Code\n",
    "- Postman\n",
    "- Android Development\n",
    "- Git & Github\n",
    "- Adobe Photoshop\n",
    "\"\"\"\n",
    "\n",
    "# —————————————————————————————————————————————\n",
    "# 3) Parse JD & resume into Python structures\n",
    "# —————————————————————————————————————————————\n",
    "def parse_jd(text):\n",
    "    jd = {}\n",
    "    for line in text.splitlines():\n",
    "        m = re.match(r'^\\s*(.+?)\\s*->\\s*(SKILL_[A-Z]+)\\s*$', line)\n",
    "        if m:\n",
    "            skill, label = m.groups()\n",
    "            jd[skill.strip()] = label\n",
    "    return jd\n",
    "\n",
    "def parse_resume(text):\n",
    "    skills = []\n",
    "    for line in text.splitlines():\n",
    "        if line.strip().startswith('-'):\n",
    "            skills.append(line.strip().lstrip('-').strip())\n",
    "    return list(dict.fromkeys(skills))\n",
    "\n",
    "jd_dict       = parse_jd(jd_text)\n",
    "resume_skills = parse_resume(resume_text)\n",
    "jd_skills     = list(jd_dict.keys())\n",
    "\n",
    "# —————————————————————————————————————————————\n",
    "# 4) Embed & filter resume skills via semantic similarity\n",
    "# —————————————————————————————————————————————\n",
    "model      = SentenceTransformer('all-MiniLM-L6-v2')\n",
    "jd_emb     = model.encode(jd_skills, convert_to_tensor=True)\n",
    "res_emb    = model.encode(resume_skills, convert_to_tensor=True)\n",
    "hits       = util.semantic_search(res_emb, jd_emb, top_k=1)\n",
    "\n",
    "THRESHOLD = 0.50\n",
    "matched_resume_skills = [\n",
    "    resume_skills[i]\n",
    "    for i, hit in enumerate(hits)\n",
    "    if hit[0]['score'] >= THRESHOLD\n",
    "]\n",
    "matched_resume_skills = list(dict.fromkeys(matched_resume_skills))\n",
    "print(\"Matched skills for quiz:\", matched_resume_skills)\n",
    "\n",
    "# —————————————————————————————————————————————\n",
    "# 5) Load MCQs and select questions for matched skills\n",
    "# —————————————————————————————————————————————\n",
    "with open(\"mcq.json\", \"r\", encoding=\"utf-8\") as f:\n",
    "    all_mcqs = json.load(f)\n",
    "\n",
    "quiz_questions = [\n",
    "    q for q in all_mcqs\n",
    "    if q[\"skill\"] in matched_resume_skills\n",
    "]\n",
    "\n",
    "# —————————————————————————————————————————————\n",
    "# 6) Quiz runner & raw count calculator\n",
    "# —————————————————————————————————————————————\n",
    "def run_quiz(questions):\n",
    "    results = []\n",
    "    letter_to_idx = {\"A\":0, \"B\":1, \"C\":2, \"D\":3}\n",
    "    for idx, q in enumerate(questions, start=1):\n",
    "        print(f\"\\n{idx}. ({q['skill']}) {q['question']}\")\n",
    "        for L, opt in zip(letter_to_idx, q[\"options\"]):\n",
    "            print(f\"   {L}) {opt}\")\n",
    "        while True:\n",
    "            ans = input(\"Your answer (A-D): \").strip().upper()\n",
    "            if ans in letter_to_idx:\n",
    "                break\n",
    "        chosen = q[\"options\"][letter_to_idx[ans]]\n",
    "        results.append((q[\"skill\"], chosen == q[\"correct_answer\"]))\n",
    "    return results\n",
    "\n",
    "def calc_raw_counts(results):\n",
    "    tally = defaultdict(lambda: [0,0])\n",
    "    for skill, ok in results:\n",
    "        tally[skill][1] += 1\n",
    "        if ok:\n",
    "            tally[skill][0] += 1\n",
    "    return {sk: tuple(ct) for sk, ct in tally.items()}\n",
    "\n",
    "# —————————————————————————————————————————————\n",
    "# 7) Feature engineering for RF model\n",
    "# —————————————————————————————————————————————\n",
    "label_weights = {\n",
    "    \"SKILL_REQUIRED\":   1.0,\n",
    "    \"SKILL_PREFERRED\":  0.6,\n",
    "    \"SKILL_BONUS\":      0.3,\n",
    "}\n",
    "\n",
    "def compute_candidate_features(quiz_stats, jd_dict, label_weights):\n",
    "    feats = {}\n",
    "    total_weight = sum(label_weights[label] for label in jd_dict.values())\n",
    "    weighted_sum = 0.0\n",
    "    covered = 0\n",
    "\n",
    "    for skill, label in jd_dict.items():\n",
    "        w = label_weights[label]\n",
    "        correct, total_q = quiz_stats.get(skill, (0,0))\n",
    "        pct = correct / total_q if total_q else 0.0\n",
    "        feats[f\"{skill}_wt_score\"] = pct * w\n",
    "        weighted_sum += pct * w\n",
    "        if total_q > 0:\n",
    "            covered += 1\n",
    "\n",
    "    feats[\"overall_weighted_avg\"] = weighted_sum / total_weight\n",
    "    feats[\"skills_covered_ratio\"] = covered / len(jd_dict)\n",
    "    feats[\"missing_skills_count\"] = len(jd_dict) - covered\n",
    "    return feats\n",
    "\n",
    "# —————————————————————————————————————————————\n",
    "# 8) Main execution: quiz + prediction\n",
    "# —————————————————————————————————————————————\n",
    "if __name__ == \"__main__\":\n",
    "    if not quiz_questions:\n",
    "        print(\"No questions for skills:\", matched_resume_skills)\n",
    "        exit()\n",
    "\n",
    "    # run quiz and collect results\n",
    "    results    = run_quiz(quiz_questions)\n",
    "    quiz_stats = calc_raw_counts(results)\n",
    "\n",
    "    # compute features & build DataFrame\n",
    "    feats_new  = compute_candidate_features(quiz_stats, jd_dict, label_weights)\n",
    "    df_feat    = pd.DataFrame([feats_new])\n",
    "\n",
    "    # —— ensure feature names match training-time hyphens —— \n",
    "    # replace ASCII hyphens with non-breaking hyphens if needed:\n",
    "    df_feat.columns = [c.replace('-', '\\u2011') for c in df_feat.columns]\n",
    "    # reindex to model's expected features, filling any missing with zero\n",
    "    expected = rf.feature_names_in_\n",
    "    df_feat = df_feat.reindex(columns=expected, fill_value=0)\n",
    "\n",
    "    # make prediction\n",
    "    decision    = rf.predict(df_feat)[0]\n",
    "    prob_select = rf.predict_proba(df_feat)[0][1]\n",
    "    is_selected = bool(decision)\n",
    "\n",
    "    print(\"\\n=== FINAL DECISION ===\")\n",
    "    print(\"Selected\" if is_selected else \"Not Selected\",\n",
    "          f\"({prob_select:.2f} probability)\")\n",
    "    print(\"Boolean flag:\", is_selected)\n"
   ]
  },
  {
   "cell_type": "code",
   "execution_count": null,
   "id": "d5bac52c-f2f9-4d57-aea0-41d39678d19b",
   "metadata": {},
   "outputs": [],
   "source": []
  }
 ],
 "metadata": {
  "kernelspec": {
   "display_name": "Python 3 (ipykernel)",
   "language": "python",
   "name": "python3"
  },
  "language_info": {
   "codemirror_mode": {
    "name": "ipython",
    "version": 3
   },
   "file_extension": ".py",
   "mimetype": "text/x-python",
   "name": "python",
   "nbconvert_exporter": "python",
   "pygments_lexer": "ipython3",
   "version": "3.12.6"
  }
 },
 "nbformat": 4,
 "nbformat_minor": 5
}
