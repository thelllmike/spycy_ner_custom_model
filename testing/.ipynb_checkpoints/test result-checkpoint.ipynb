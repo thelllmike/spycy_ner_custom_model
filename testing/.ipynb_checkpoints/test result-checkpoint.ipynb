{
 "cells": [
  {
   "cell_type": "code",
   "execution_count": 1,
   "id": "d0e39029-2ab7-40bc-8d56-a61bb1ba8c54",
   "metadata": {},
   "outputs": [
    {
     "name": "stdout",
     "output_type": "stream",
     "text": [
      "Note: you may need to restart the kernel to use updated packages.\n"
     ]
    }
   ],
   "source": [
    "%pip install --quiet pdfplumber spacy pandas"
   ]
  },
  {
   "cell_type": "code",
   "execution_count": 4,
   "id": "ae8bd119-2857-4e00-a40d-17905bfddf42",
   "metadata": {},
   "outputs": [
    {
     "name": "stdout",
     "output_type": "stream",
     "text": [
      "Collecting en-core-web-sm==3.8.0\n",
      "  Downloading https://github.com/explosion/spacy-models/releases/download/en_core_web_sm-3.8.0/en_core_web_sm-3.8.0-py3-none-any.whl (12.8 MB)\n",
      "     ---------------------------------------- 0.0/12.8 MB ? eta -:--:--\n",
      "     ---------------------------------------- 0.0/12.8 MB ? eta -:--:--\n",
      "     - -------------------------------------- 0.5/12.8 MB 1.9 MB/s eta 0:00:07\n",
      "     -- ------------------------------------- 0.8/12.8 MB 2.0 MB/s eta 0:00:07\n",
      "     ---- ----------------------------------- 1.3/12.8 MB 2.0 MB/s eta 0:00:06\n",
      "     ---- ----------------------------------- 1.6/12.8 MB 2.0 MB/s eta 0:00:06\n",
      "     ------ --------------------------------- 2.1/12.8 MB 2.0 MB/s eta 0:00:06\n",
      "     -------- ------------------------------- 2.6/12.8 MB 2.0 MB/s eta 0:00:06\n",
      "     --------- ------------------------------ 2.9/12.8 MB 2.0 MB/s eta 0:00:06\n",
      "     ---------- ----------------------------- 3.4/12.8 MB 2.0 MB/s eta 0:00:05\n",
      "     ----------- ---------------------------- 3.7/12.8 MB 1.9 MB/s eta 0:00:05\n",
      "     ------------ --------------------------- 3.9/12.8 MB 1.9 MB/s eta 0:00:05\n",
      "     ------------- -------------------------- 4.5/12.8 MB 1.9 MB/s eta 0:00:05\n",
      "     -------------- ------------------------- 4.7/12.8 MB 1.9 MB/s eta 0:00:05\n",
      "     --------------- ------------------------ 5.0/12.8 MB 1.9 MB/s eta 0:00:05\n",
      "     ----------------- ---------------------- 5.5/12.8 MB 1.9 MB/s eta 0:00:04\n",
      "     ------------------ --------------------- 6.0/12.8 MB 1.9 MB/s eta 0:00:04\n",
      "     ------------------- -------------------- 6.3/12.8 MB 1.9 MB/s eta 0:00:04\n",
      "     --------------------- ------------------ 6.8/12.8 MB 1.9 MB/s eta 0:00:04\n",
      "     ---------------------- ----------------- 7.1/12.8 MB 1.9 MB/s eta 0:00:04\n",
      "     ---------------------- ----------------- 7.3/12.8 MB 1.9 MB/s eta 0:00:03\n",
      "     ------------------------ --------------- 7.9/12.8 MB 1.9 MB/s eta 0:00:03\n",
      "     ------------------------- -------------- 8.1/12.8 MB 1.9 MB/s eta 0:00:03\n",
      "     --------------------------- ------------ 8.7/12.8 MB 1.9 MB/s eta 0:00:03\n",
      "     --------------------------- ------------ 8.9/12.8 MB 1.9 MB/s eta 0:00:03\n",
      "     ----------------------------- ---------- 9.4/12.8 MB 1.9 MB/s eta 0:00:02\n",
      "     ------------------------------ --------- 9.7/12.8 MB 1.9 MB/s eta 0:00:02\n",
      "     ------------------------------- -------- 10.2/12.8 MB 1.9 MB/s eta 0:00:02\n",
      "     -------------------------------- ------- 10.5/12.8 MB 1.9 MB/s eta 0:00:02\n",
      "     ---------------------------------- ----- 11.0/12.8 MB 1.9 MB/s eta 0:00:01\n",
      "     ----------------------------------- ---- 11.3/12.8 MB 1.9 MB/s eta 0:00:01\n",
      "     ------------------------------------ --- 11.8/12.8 MB 1.9 MB/s eta 0:00:01\n",
      "     ------------------------------------- -- 12.1/12.8 MB 1.9 MB/s eta 0:00:01\n",
      "     ---------------------------------------  12.6/12.8 MB 1.9 MB/s eta 0:00:01\n",
      "     ---------------------------------------  12.6/12.8 MB 1.9 MB/s eta 0:00:01\n",
      "     ---------------------------------------- 12.8/12.8 MB 1.8 MB/s eta 0:00:00\n",
      "Installing collected packages: en-core-web-sm\n",
      "Successfully installed en-core-web-sm-3.8.0\n",
      "\u001b[38;5;2m[+] Download and installation successful\u001b[0m\n",
      "You can now load the package via spacy.load('en_core_web_sm')\n"
     ]
    }
   ],
   "source": [
    "!python -m spacy download en_core_web_sm"
   ]
  },
  {
   "cell_type": "code",
   "execution_count": 3,
   "id": "6231a77c-1fe5-43fa-82e5-5aa6de588058",
   "metadata": {},
   "outputs": [
    {
     "name": "stdout",
     "output_type": "stream",
     "text": [
      "✅ Extracted text saved to: pasindu.txt\n"
     ]
    }
   ],
   "source": [
    "# ─── Cell 2: Extract text from pasindu.pdf and save as pasindu.txt ────────────\n",
    "import pdfplumber\n",
    "import os\n",
    "\n",
    "pdf_filename = 'pasindu.pdf'\n",
    "txt_filename = os.path.splitext(pdf_filename)[0] + '.txt'\n",
    "\n",
    "with pdfplumber.open(pdf_filename) as pdf, open(txt_filename, 'w', encoding='utf-8') as out_f:\n",
    "    for i, page in enumerate(pdf.pages, start=1):\n",
    "        text = page.extract_text() or ''\n",
    "        out_f.write(f\"--- Page {i} ---\\n\")\n",
    "        out_f.write(text + \"\\n\\n\")\n",
    "\n",
    "print(f\"✅ Extracted text saved to: {txt_filename}\")\n"
   ]
  },
  {
   "cell_type": "code",
   "execution_count": 10,
   "id": "a8f07f11-5c2e-4d7b-a9ba-d7951551202c",
   "metadata": {},
   "outputs": [
    {
     "name": "stdout",
     "output_type": "stream",
     "text": [
      "✅ Model loaded\n"
     ]
    }
   ],
   "source": [
    "import spacy\n",
    "\n",
    "# Load your trained model from disk\n",
    "nlp = spacy.load(\"output/model-best\")  # adjust path as needed\n",
    "print(\"✅ Model loaded\")\n"
   ]
  },
  {
   "cell_type": "code",
   "execution_count": 11,
   "id": "e7a89b07-87c9-440e-bf8b-d3060eec833c",
   "metadata": {},
   "outputs": [
    {
     "name": "stdout",
     "output_type": "stream",
     "text": [
      "🎯 Detected Skills:\n",
      "- Codeignitor\n",
      "- JavaScript\n",
      "- MySQL\n",
      "- cPanel\n",
      "- MERN\n",
      "- Laravel\n",
      "- Vue JS\n",
      "- MySQL\n",
      "- Git\n",
      "- Github\n",
      "- Data Structures\n",
      "- Agile\n",
      "- UI/ UX\n",
      "- Natura - Online\n",
      "- React\n",
      "- MySQL\n",
      "- React Native\n",
      "- MS\n",
      "- SQL Fast Learning\n",
      "- Vue\n",
      "- Mongo DB\n",
      "- JS JAVA\n",
      "- VS Code\n",
      "- Postman\n",
      "- Android Development\n",
      "- Git & Github\n",
      "- Adobe Photoshop\n",
      "\n",
      "✅ Total unique skills: 25\n"
     ]
    }
   ],
   "source": [
    "# Load text\n",
    "with open(\"pasindu.txt\", \"r\", encoding=\"utf-8\") as f:\n",
    "    raw_text = f.read()\n",
    "\n",
    "# Process with the model\n",
    "doc = nlp(raw_text)\n",
    "\n",
    "# Extract all entities\n",
    "skills = [ent.text for ent in doc.ents if ent.label_ == \"SKILL\"]\n",
    "\n",
    "print(\"🎯 Detected Skills:\")\n",
    "for skill in skills:\n",
    "    print(\"-\", skill)\n",
    "\n",
    "# Optional: remove duplicates\n",
    "unique_skills = list(set(skills))\n",
    "print(f\"\\n✅ Total unique skills: {len(unique_skills)}\")\n"
   ]
  },
  {
   "cell_type": "code",
   "execution_count": 5,
   "id": "03a1666a-3e6d-429f-8f31-5ca60725e000",
   "metadata": {},
   "outputs": [
    {
     "name": "stdout",
     "output_type": "stream",
     "text": [
      "Requirement already satisfied: tqdm in c:\\users\\sachi\\appdata\\local\\programs\\python\\python312\\lib\\site-packages (4.66.5)\n",
      "Requirement already satisfied: colorama in c:\\users\\sachi\\appdata\\local\\programs\\python\\python312\\lib\\site-packages (from tqdm) (0.4.6)\n",
      "Note: you may need to restart the kernel to use updated packages.\n"
     ]
    }
   ],
   "source": [
    "pip install tqdm\n"
   ]
  },
  {
   "cell_type": "code",
   "execution_count": null,
   "id": "d8d783e6-43c0-4387-b179-6bdbb5eb4ad5",
   "metadata": {},
   "outputs": [],
   "source": []
  },
  {
   "cell_type": "code",
   "execution_count": null,
   "id": "7ecf4ec7-a490-4770-a5c9-5a8b69197459",
   "metadata": {},
   "outputs": [],
   "source": []
  }
 ],
 "metadata": {
  "kernelspec": {
   "display_name": "Python 3 (ipykernel)",
   "language": "python",
   "name": "python3"
  },
  "language_info": {
   "codemirror_mode": {
    "name": "ipython",
    "version": 3
   },
   "file_extension": ".py",
   "mimetype": "text/x-python",
   "name": "python",
   "nbconvert_exporter": "python",
   "pygments_lexer": "ipython3",
   "version": "3.12.6"
  }
 },
 "nbformat": 4,
 "nbformat_minor": 5
}
