{
 "cells": [
  {
   "cell_type": "code",
   "execution_count": 1,
   "id": "b693b0f3-3e0c-40ef-8c4b-b54f9b3d2f5e",
   "metadata": {},
   "outputs": [],
   "source": [
    "import json\n",
    "from pathlib import Path\n",
    "from spacy.tokens import DocBin\n",
    "import spacy\n",
    "\n",
    "def convert_json_to_spacy(input_path, output_path, nlp, labels):\n",
    "    with open(input_path, \"r\", encoding=\"utf-8\") as f:\n",
    "        data = json.load(f)\n",
    "\n",
    "    doc_bin = DocBin()\n",
    "    for entry in data:\n",
    "        text = entry[\"data\"][\"text\"]\n",
    "        entities = []\n",
    "        for ann in entry[\"annotations\"]:\n",
    "            for result in ann[\"result\"]:\n",
    "                start = result[\"value\"][\"start\"]\n",
    "                end = result[\"value\"][\"end\"]\n",
    "                label = result[\"value\"][\"labels\"][0]\n",
    "                if label in labels:\n",
    "                    entities.append((start, end, label))\n",
    "        doc = nlp.make_doc(text)\n",
    "        ents = []\n",
    "        for start, end, label in entities:\n",
    "            span = doc.char_span(start, end, label=label)\n",
    "            if span:\n",
    "                ents.append(span)\n",
    "        doc.ents = ents\n",
    "        doc_bin.add(doc)\n",
    "\n",
    "    doc_bin.to_disk(output_path)\n",
    "\n",
    "if __name__ == \"__main__\":\n",
    "    input_path = \"jd_data.json\"\n",
    "    output_path = \"jd_data.spacy\"\n",
    "    labels = [\"SKILL_REQUIRED\", \"SKILL_PREFERRED\", \"SKILL_BONUS\"]\n",
    "    nlp = spacy.blank(\"en\")\n",
    "    convert_json_to_spacy(input_path, output_path, nlp, labels)\n"
   ]
  },
  {
   "cell_type": "code",
   "execution_count": 2,
   "id": "0c974807-3ad2-4338-b072-100e4221466e",
   "metadata": {},
   "outputs": [
    {
     "name": "stdout",
     "output_type": "stream",
     "text": [
      "Entities detected:\n",
      ".NET/C# -> SKILL_REQUIRED\n",
      "SQL -> SKILL_REQUIRED\n",
      "REST APIs -> SKILL_PREFERRED\n",
      "Azure -> SKILL_REQUIRED\n",
      "DevOps tools -> SKILL_BONUS\n",
      "Angular -> SKILL_BONUS\n"
     ]
    }
   ],
   "source": [
    "import spacy\n",
    "\n",
    "# Load your trained model from the output directory\n",
    "nlp = spacy.load(\"output/model-best\")  # or \"output/model-last\" if you prefer\n",
    "\n",
    "# Test text sample\n",
    "test_text = \"\"\"\n",
    "We are looking for someone with .NET/C# experience, solid SQL knowledge,\n",
    "and familiarity with REST APIs, Azure, AWS, and DevOps tools. React or Angular is a plus.\n",
    "\"\"\"\n",
    "\n",
    "# Process the text\n",
    "doc = nlp(test_text)\n",
    "\n",
    "# Print entities\n",
    "print(\"Entities detected:\")\n",
    "for ent in doc.ents:\n",
    "    print(f\"{ent.text} -> {ent.label_}\")\n"
   ]
  },
  {
   "cell_type": "code",
   "execution_count": null,
   "id": "da5ec7fc-2d8f-4701-9289-83bb234e700a",
   "metadata": {},
   "outputs": [],
   "source": []
  }
 ],
 "metadata": {
  "kernelspec": {
   "display_name": "Python 3 (ipykernel)",
   "language": "python",
   "name": "python3"
  },
  "language_info": {
   "codemirror_mode": {
    "name": "ipython",
    "version": 3
   },
   "file_extension": ".py",
   "mimetype": "text/x-python",
   "name": "python",
   "nbconvert_exporter": "python",
   "pygments_lexer": "ipython3",
   "version": "3.12.6"
  }
 },
 "nbformat": 4,
 "nbformat_minor": 5
}
